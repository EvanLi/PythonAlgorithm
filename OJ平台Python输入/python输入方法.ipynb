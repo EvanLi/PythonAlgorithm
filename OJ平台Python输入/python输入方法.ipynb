{
 "cells": [
  {
   "cell_type": "markdown",
   "metadata": {},
   "source": [
    "# python输入方法\n",
    "\n",
    "## 例题：找到集合 P 中的所有 ”最大“ 点的集合并输出\n",
    "\n",
    "链接：https://www.nowcoder.com/questionTerminal/e35d8c3404194cd69a88da1667ef8081\n",
    "\n",
    "来源：牛客网\n",
    "\n",
    "### 解析：\n",
    "只需对所有点的x坐标进行降序的排序，则第一个点一定是最大点，后面的点要想成为最大点，只需其y值大于前面的最大的y值即可。这样找到的点是根据x从大到小排列的，输出只需倒序输出就行。\n",
    "\n",
    "## python读取多行数据\n",
    "\n",
    "\n",
    "```\n",
    "5\n",
    "1 2\n",
    "5 3\n",
    "4 6\n",
    "7 5\n",
    "9 0\n",
    "```\n",
    "\n",
    "### 使用input"
   ]
  },
  {
   "cell_type": "code",
   "execution_count": 1,
   "metadata": {},
   "outputs": [
    {
     "name": "stdin",
     "output_type": "stream",
     "text": [
      " 5\n",
      " 1 2\n",
      " 5 3\n",
      " 4 6\n",
      " 7 5\n",
      " 9 0\n"
     ]
    },
    {
     "name": "stdout",
     "output_type": "stream",
     "text": [
      "4 6\n",
      "7 5\n",
      "9 0\n"
     ]
    }
   ],
   "source": [
    "N = int(input())\n",
    "data = []\n",
    "for i in range(N):\n",
    "    a = [int(i) for i in input().split()]\n",
    "    data.append(a)\n",
    "    \n",
    "data.sort(key=lambda t:(t[0],t[1]))\n",
    "myout = [data[-1]]\n",
    "\n",
    "i = N-2\n",
    "while(i>=0):\n",
    "    max_end = max([t[1] for t in data[i+1:]])\n",
    "    if data[i][1] > max_end:\n",
    "        myout.append(data[i])\n",
    "    i -= 1\n",
    "myout.sort()\n",
    "\n",
    "for i in myout:\n",
    "    print(i[0],i[1])"
   ]
  },
  {
   "cell_type": "markdown",
   "metadata": {},
   "source": [
    "### 使用sys.stdin"
   ]
  },
  {
   "cell_type": "markdown",
   "metadata": {},
   "source": [
    "```\n",
    "#coding=utf-8\n",
    "import sys\n",
    "data = []\n",
    "for line in sys.stdin:\n",
    "    b = [int(i) for i in line.split()]\n",
    "    data.append(b)\n",
    "\n",
    "N = data[0][0]\n",
    "pos = data[1:]\n",
    "\n",
    "print(data)\n",
    "print(N)\n",
    "print(pos)\n",
    "```"
   ]
  }
 ],
 "metadata": {
  "kernelspec": {
   "display_name": "tf36",
   "language": "python",
   "name": "tf36"
  },
  "language_info": {
   "codemirror_mode": {
    "name": "ipython",
    "version": 3
   },
   "file_extension": ".py",
   "mimetype": "text/x-python",
   "name": "python",
   "nbconvert_exporter": "python",
   "pygments_lexer": "ipython3",
   "version": "3.6.8"
  }
 },
 "nbformat": 4,
 "nbformat_minor": 2
}
