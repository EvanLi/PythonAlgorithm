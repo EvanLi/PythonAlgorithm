{
 "cells": [
  {
   "cell_type": "markdown",
   "metadata": {},
   "source": [
    "# 牛客网Python输入模板-使用stdin 可直接Jupyter运行\n",
    "\n",
    "## 1.方法概述：\n",
    "\n",
    "**使用sys.stdin.readline()方法进行数据输入，Jupyter中使用StringIO()方法转换**\n",
    "\n",
    "```\n",
    "例题：\n",
    "链接：https://ac.nowcoder.com/acm/contest/320/B 来源：牛客网\n",
    "输入：第一行包括一个数据组数t(1 <= t <= 100) 接下来每行包括两个正整数a,b(1 <= a, b <= 10^9)\n",
    "输出：每行的和\n",
    "\n",
    "样例输入：\n",
    "2\n",
    "1 5\n",
    "10 20\n",
    "输出：\n",
    "6\n",
    "30\n",
    "```\n",
    "\n",
    "## 2.模板使用\n",
    "\n",
    "下面第一行的注释使用方法：\n",
    "\n",
    "- Jupyter运行:加上的前面#\n",
    "- OJ平台：去掉前面的#\n",
    "\n",
    "doc中的字符替换成给定的输入"
   ]
  },
  {
   "cell_type": "code",
   "execution_count": 1,
   "metadata": {},
   "outputs": [
    {
     "name": "stdout",
     "output_type": "stream",
     "text": [
      "6\n",
      "30\n"
     ]
    }
   ],
   "source": [
    "# \"\"\"\n",
    "from io import StringIO\n",
    "import sys\n",
    "doc = '''2\n",
    "1 5\n",
    "10 20\n",
    "'''\n",
    "sys.stdin = StringIO(doc)\n",
    "# \"\"\"\n",
    "\n",
    "#——————————复制的时候 从下面开始复制到牛客网OJ平台即可直接运行——————————#\n",
    "\n",
    "#coding=utf-8\n",
    "import sys\n",
    "\n",
    "def cal_sum(data):\n",
    "    return sum(data)\n",
    "\n",
    "if __name__ == \"__main__\":\n",
    "    n = int(sys.stdin.readline().strip())\n",
    "    for _ in range(n):\n",
    "        line = sys.stdin.readline().strip().split()\n",
    "        data = list(map(int,line))\n",
    "        print(cal_sum(data))"
   ]
  },
  {
   "cell_type": "markdown",
   "metadata": {},
   "source": [
    "### 第二种写法，使用while True的方法，可适用于不知道测试样例个数的情况\n",
    "\n",
    "注意这里的split要指定分割符号，否则会死循环（因为line为空字符串的时候也没有地方报错）"
   ]
  },
  {
   "cell_type": "code",
   "execution_count": 2,
   "metadata": {},
   "outputs": [
    {
     "name": "stdout",
     "output_type": "stream",
     "text": [
      "6\n",
      "30\n"
     ]
    }
   ],
   "source": [
    "# \"\"\"\n",
    "from io import StringIO\n",
    "import sys\n",
    "doc = '''1 5\n",
    "10 20\n",
    "'''\n",
    "sys.stdin = StringIO(doc)\n",
    "# \"\"\"\n",
    "\n",
    "#——————————复制的时候 从下面开始复制到牛客网OJ平台即可直接运行——————————#\n",
    "\n",
    "#coding=utf-8\n",
    "import sys\n",
    "\n",
    "def cal_sum(data):\n",
    "    return sum(data)\n",
    "\n",
    "if __name__ == \"__main__\":\n",
    "    while True:\n",
    "        try:\n",
    "            line = sys.stdin.readline().strip().split(\" \")\n",
    "            data = list(map(int,line))\n",
    "            print(cal_sum(data))\n",
    "        except:\n",
    "            break"
   ]
  }
 ],
 "metadata": {
  "kernelspec": {
   "display_name": "tf36",
   "language": "python",
   "name": "tf36"
  },
  "language_info": {
   "codemirror_mode": {
    "name": "ipython",
    "version": 3
   },
   "file_extension": ".py",
   "mimetype": "text/x-python",
   "name": "python",
   "nbconvert_exporter": "python",
   "pygments_lexer": "ipython3",
   "version": "3.6.8"
  }
 },
 "nbformat": 4,
 "nbformat_minor": 2
}
