{
 "cells": [
  {
   "cell_type": "markdown",
   "metadata": {},
   "source": [
    "# Jupyter标准输入sys.stdin\n",
    "\n",
    "https://www.reddit.com/r/Python/comments/24b3nv/programmatically_providing_input_to/\n",
    "\n",
    "**使用python io模块的StringIO将字符串替换成sys.stdin**\n",
    "\n",
    "You can change sys.stdin with any other file like object:"
   ]
  },
  {
   "cell_type": "code",
   "execution_count": 1,
   "metadata": {},
   "outputs": [],
   "source": [
    "from io import StringIO  \n",
    "import sys\n",
    "\n",
    "doc = '''3\n",
    "1 2 3\n",
    "4 5 6\n",
    "7 8 9\n",
    "'''\n",
    "\n",
    "sys.stdin = StringIO(doc)"
   ]
  },
  {
   "cell_type": "code",
   "execution_count": 2,
   "metadata": {},
   "outputs": [
    {
     "name": "stdout",
     "output_type": "stream",
     "text": [
      "3\n",
      "[1, 2, 3]\n",
      "[4, 5, 6]\n",
      "[7, 8, 9]\n"
     ]
    }
   ],
   "source": [
    "n = int(sys.stdin.readline().strip())\n",
    "print(n)\n",
    "for i in range(n):\n",
    "    line_str = sys.stdin.readline().strip()\n",
    "    line = list(map(int,line_str.split()))\n",
    "    print(line)"
   ]
  },
  {
   "cell_type": "code",
   "execution_count": 3,
   "metadata": {},
   "outputs": [
    {
     "name": "stdout",
     "output_type": "stream",
     "text": [
      "3\n",
      "7\n"
     ]
    }
   ],
   "source": [
    "#coding=utf-8\n",
    "\n",
    "from io import StringIO  \n",
    "import sys\n",
    "\n",
    "doc = '''1 2\n",
    "3 4\n",
    "'''\n",
    "\n",
    "sys.stdin = StringIO(doc)\n",
    " \n",
    "if __name__ == \"__main__\":\n",
    "    while True:\n",
    "        try:\n",
    "            line = sys.stdin.readline().split()\n",
    "            a,b = list(map(int,line))\n",
    "            print(a+b)\n",
    "        except:\n",
    "            break"
   ]
  }
 ],
 "metadata": {
  "kernelspec": {
   "display_name": "tf36",
   "language": "python",
   "name": "tf36"
  },
  "language_info": {
   "codemirror_mode": {
    "name": "ipython",
    "version": 3
   },
   "file_extension": ".py",
   "mimetype": "text/x-python",
   "name": "python",
   "nbconvert_exporter": "python",
   "pygments_lexer": "ipython3",
   "version": "3.6.8"
  }
 },
 "nbformat": 4,
 "nbformat_minor": 2
}
