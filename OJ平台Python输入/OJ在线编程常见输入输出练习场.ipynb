{
 "cells": [
  {
   "cell_type": "markdown",
   "metadata": {},
   "source": [
    "# OJ在线编程常见输入输出练习场\n",
    "\n",
    "详见：https://ac.nowcoder.com/acm/contest/320/#question\n",
    "\n",
    "## 1.A+B(1)（不给定行数）\n",
    "输入包括两个正整数a,b(1 <= a, b <= 10^9),输入数据包括多组。"
   ]
  },
  {
   "cell_type": "code",
   "execution_count": 1,
   "metadata": {},
   "outputs": [],
   "source": [
    "from io import StringIO  \n",
    "import sys\n",
    "\n",
    "doc = '''1 5\n",
    "10 20\n",
    "'''\n",
    "\n",
    "sys.stdin = StringIO(doc)"
   ]
  },
  {
   "cell_type": "code",
   "execution_count": 2,
   "metadata": {},
   "outputs": [
    {
     "name": "stdout",
     "output_type": "stream",
     "text": [
      "6\n",
      "30\n"
     ]
    }
   ],
   "source": [
    "#coding=utf-8\n",
    "import sys\n",
    " \n",
    "if __name__ == \"__main__\":\n",
    "    while True:\n",
    "        try:\n",
    "            line = sys.stdin.readline().strip().split()\n",
    "            a,b = list(map(int,line))\n",
    "            print(a+b)\n",
    "        except:\n",
    "            break"
   ]
  },
  {
   "cell_type": "markdown",
   "metadata": {},
   "source": [
    "C++代码：\n",
    "```cpp\n",
    "#include<iostream>\n",
    "using namespace std;\n",
    "\n",
    "int main(){\n",
    "    int a,b;\n",
    "    while(cin>>a>>b){\n",
    "        cout<<a+b<<endl;\n",
    "    }\n",
    "    return 0;\n",
    "}\n",
    "```"
   ]
  },
  {
   "cell_type": "markdown",
   "metadata": {},
   "source": [
    "# 2.A+B(2)（给定行数）\n",
    "\n",
    "链接：https://ac.nowcoder.com/acm/contest/320/B\n",
    "来源：牛客网\n",
    "\n",
    "输入第一行包括一个数据组数t(1 <= t <= 100)\n",
    "接下来每行包括两个正整数a,b(1 <= a, b <= 10^9)"
   ]
  },
  {
   "cell_type": "code",
   "execution_count": 3,
   "metadata": {},
   "outputs": [],
   "source": [
    "from io import StringIO  \n",
    "import sys\n",
    "\n",
    "doc = '''2\n",
    "1 5\n",
    "10 20\n",
    "'''\n",
    "\n",
    "sys.stdin = StringIO(doc)"
   ]
  },
  {
   "cell_type": "markdown",
   "metadata": {},
   "source": [
    "### 使用while True的方式可以同时处理单个/多组 测试用例的情况："
   ]
  },
  {
   "cell_type": "code",
   "execution_count": 4,
   "metadata": {},
   "outputs": [
    {
     "name": "stdout",
     "output_type": "stream",
     "text": [
      "6\n",
      "30\n"
     ]
    }
   ],
   "source": [
    "#coding=utf-8\n",
    "import sys\n",
    "\n",
    "if __name__ == \"__main__\":\n",
    "    while True:\n",
    "        try:\n",
    "            t = int(sys.stdin.readline())\n",
    "            for i in range(t):\n",
    "                line = sys.stdin.readline().split()\n",
    "                a,b = list(map(int,line))\n",
    "                print(a+b)\n",
    "        except:\n",
    "            break"
   ]
  },
  {
   "cell_type": "markdown",
   "metadata": {},
   "source": [
    "C++：\n",
    "```cpp\n",
    "#include<iostream>\n",
    "\n",
    "using namespace std;\n",
    "\n",
    "int main(){\n",
    "    int t;\n",
    "    while(cin>>t){\n",
    "        int a,b;\n",
    "        for(int i=0;i<t;++i){\n",
    "            cin>>a>>b;\n",
    "            cout<<a+b<<endl;\n",
    "        }\n",
    "    }\n",
    "    return 0;\n",
    "}\n",
    "```"
   ]
  },
  {
   "cell_type": "markdown",
   "metadata": {},
   "source": [
    "# 3.A+B(3)（标识符判断输入结束）\n",
    "链接：https://ac.nowcoder.com/acm/contest/320/C\n",
    "来源：牛客网\n",
    "\n",
    "输入包括两个正整数a,b(1 <= a, b <= 10^9),输入数据有多组, 如果输入为0 0则结束输入"
   ]
  },
  {
   "cell_type": "code",
   "execution_count": 5,
   "metadata": {},
   "outputs": [],
   "source": [
    "from io import StringIO  \n",
    "import sys\n",
    "\n",
    "doc = '''1 5\n",
    "10 20\n",
    "0 0\n",
    "'''\n",
    "\n",
    "sys.stdin = StringIO(doc)"
   ]
  },
  {
   "cell_type": "code",
   "execution_count": 6,
   "metadata": {},
   "outputs": [
    {
     "name": "stdout",
     "output_type": "stream",
     "text": [
      "6\n",
      "30\n"
     ]
    }
   ],
   "source": [
    "#coding=utf-8\n",
    "import sys\n",
    "\n",
    "if __name__ == \"__main__\":\n",
    "    while True:\n",
    "        try:\n",
    "            line = sys.stdin.readline().split()\n",
    "            a,b = list(map(int,line))\n",
    "            if a==0 & b==0:\n",
    "                break\n",
    "            print(a+b)\n",
    "        except:\n",
    "            break"
   ]
  },
  {
   "cell_type": "markdown",
   "metadata": {},
   "source": [
    "C++：\n",
    "```cpp\n",
    "#include<iostream>\n",
    "\n",
    "using namespace std;\n",
    "int main(){\n",
    "    int a,b;\n",
    "    while(1){\n",
    "        cin>>a>>b;\n",
    "        if(a==0&&b==0){\n",
    "            break;\n",
    "        }\n",
    "        cout << a+b << endl;\n",
    "    }\n",
    "    return 0;\n",
    "}\n",
    "```"
   ]
  },
  {
   "cell_type": "markdown",
   "metadata": {},
   "source": [
    "# 4.计算一系列数的和（标识符判断输入结束，给定每行个数）\n",
    "\n",
    "链接：https://ac.nowcoder.com/acm/contest/320/D\n",
    "来源：牛客网\n",
    "\n",
    "输入数据包括多组。\n",
    "\n",
    "每组数据一行,每行的第一个整数为整数的个数n(1 <= n <= 100), n为0的时候结束输入。\n",
    "\n",
    "接下来n个正整数,即需要求和的每个正整数。"
   ]
  },
  {
   "cell_type": "code",
   "execution_count": 7,
   "metadata": {},
   "outputs": [],
   "source": [
    "from io import StringIO  \n",
    "import sys\n",
    "\n",
    "doc = '''4 1 2 3 4\n",
    "5 1 2 3 4 5\n",
    "0\n",
    "'''\n",
    "\n",
    "sys.stdin = StringIO(doc)"
   ]
  },
  {
   "cell_type": "code",
   "execution_count": 8,
   "metadata": {},
   "outputs": [
    {
     "name": "stdout",
     "output_type": "stream",
     "text": [
      "10\n",
      "15\n"
     ]
    }
   ],
   "source": [
    "#coding=utf-8\n",
    "import sys\n",
    "\n",
    "if __name__ == \"__main__\":\n",
    "    while True:\n",
    "        try:\n",
    "            line = sys.stdin.readline().split()\n",
    "            line_lst = list(map(int,line))\n",
    "            n = line_lst[0]\n",
    "            if n==0:\n",
    "                break\n",
    "            else:\n",
    "                print(sum(line_lst[1:]))\n",
    "        except:\n",
    "            break"
   ]
  },
  {
   "cell_type": "markdown",
   "metadata": {},
   "source": [
    "C++:\n",
    "```cpp\n",
    "#include<iostream>\n",
    "using namespace std;\n",
    "int main(){\n",
    "    int n;\n",
    "    while(cin>>n){\n",
    "        if(n>0){\n",
    "            int i,sum=0;\n",
    "            while(n){\n",
    "                cin >> i;\n",
    "                sum += i;\n",
    "                --n;\n",
    "            }\n",
    "            cout << sum << endl;\n",
    "        }\n",
    "        else\n",
    "            return 0;\n",
    "    }\n",
    "}\n",
    "```"
   ]
  },
  {
   "cell_type": "markdown",
   "metadata": {},
   "source": [
    "# 5.计算一系列数的和（给定行数和每行个数）\n",
    "\n",
    "链接：https://ac.nowcoder.com/acm/contest/320/E\n",
    "来源：牛客网\n",
    "\n",
    "输入的第一行包括一个正整数t(1 <= t <= 100), 表示数据组数。\n",
    "\n",
    "接下来t行, 每行一组数据。\n",
    "\n",
    "每行的第一个整数为整数的个数n(1 <= n <= 100)。\n",
    "\n",
    "接下来n个正整数, 即需要求和的每个正整数。"
   ]
  },
  {
   "cell_type": "code",
   "execution_count": 9,
   "metadata": {},
   "outputs": [],
   "source": [
    "from io import StringIO  \n",
    "import sys\n",
    "\n",
    "doc = '''2\n",
    "4 1 2 3 4\n",
    "5 1 2 3 4 5\n",
    "'''\n",
    "\n",
    "sys.stdin = StringIO(doc)"
   ]
  },
  {
   "cell_type": "code",
   "execution_count": 10,
   "metadata": {},
   "outputs": [
    {
     "name": "stdout",
     "output_type": "stream",
     "text": [
      "10\n",
      "15\n"
     ]
    }
   ],
   "source": [
    "#coding=utf-8\n",
    "import sys\n",
    "\n",
    "if __name__ == \"__main__\":\n",
    "    while True:\n",
    "        try:\n",
    "            t = int(sys.stdin.readline().strip()) #最后没有的时候，这一行报错、跳出\n",
    "            for i in range(t):\n",
    "                line_str = sys.stdin.readline().split()\n",
    "                line = list(map(int,line_str))\n",
    "                print(sum(line[1:]))\n",
    "        except:\n",
    "            break"
   ]
  },
  {
   "cell_type": "markdown",
   "metadata": {},
   "source": [
    "C++：\n",
    "```cpp\n",
    "#include<iostream>\n",
    "using namespace std;\n",
    "\n",
    "int main(){\n",
    "    int t,n;\n",
    "    cin >> t;\n",
    "    while(t--){\n",
    "        while(cin>>n){\n",
    "            int res = 0;\n",
    "            for(int i=0;i<n;++i){\n",
    "                int tmp;\n",
    "                cin>>tmp;\n",
    "                res += tmp;\n",
    "            }\n",
    "            cout << res << endl;\n",
    "        }\n",
    "    }\n",
    "}\n",
    "```"
   ]
  },
  {
   "cell_type": "markdown",
   "metadata": {},
   "source": [
    "# 6.计算一系列数的和(未给定行数，给定每行个数）\n",
    "\n",
    "链接：https://ac.nowcoder.com/acm/contest/320/F\n",
    "来源：牛客网\n",
    "\n",
    "输入数据有多组, 每行表示一组输入数据。\n",
    "\n",
    "每行的第一个整数为整数的个数n(1 <= n <= 100)。\n",
    "\n",
    "接下来n个正整数, 即需要求和的每个正整数。"
   ]
  },
  {
   "cell_type": "code",
   "execution_count": 11,
   "metadata": {},
   "outputs": [],
   "source": [
    "from io import StringIO  \n",
    "import sys\n",
    "\n",
    "doc = '''4 1 2 3 4\n",
    "5 1 2 3 4 5\n",
    "'''\n",
    "\n",
    "sys.stdin = StringIO(doc)"
   ]
  },
  {
   "cell_type": "code",
   "execution_count": 12,
   "metadata": {},
   "outputs": [
    {
     "name": "stdout",
     "output_type": "stream",
     "text": [
      "10\n",
      "15\n"
     ]
    }
   ],
   "source": [
    "#coding=utf-8\n",
    "import sys\n",
    "\n",
    "if __name__ == \"__main__\":\n",
    "    while True:\n",
    "        try:\n",
    "            line_str = sys.stdin.readline().split(' ') #直接用split()不行，会死循环，一直输出0\n",
    "            line = list(map(int,line_str)) #最后一个为[''],所以会报错，跳出循环\n",
    "            print(sum(line[1:]))\n",
    "        except:\n",
    "            break"
   ]
  },
  {
   "cell_type": "markdown",
   "metadata": {},
   "source": [
    "另一种方法："
   ]
  },
  {
   "cell_type": "code",
   "execution_count": 13,
   "metadata": {},
   "outputs": [],
   "source": [
    "#coding=utf-8\n",
    "import sys\n",
    "\n",
    "if __name__ == \"__main__\":\n",
    "    for line_str in sys.stdin.readlines():\n",
    "        line = list(map(int,line_str.split()))\n",
    "        print(sum(line[1:]))"
   ]
  },
  {
   "cell_type": "markdown",
   "metadata": {},
   "source": [
    "C++代码：\n",
    "```cpp\n",
    "#include<iostream>\n",
    "using namespace std;\n",
    "\n",
    "int main(){\n",
    "    int n;\n",
    "    while(cin>>n){\n",
    "        int res = 0;\n",
    "        for(int i=0;i<n;++i){\n",
    "            int tmp;\n",
    "            cin >> tmp;\n",
    "            res += tmp;\n",
    "        }\n",
    "        cout << res << endl;\n",
    "    }\n",
    "    return 0;\n",
    "}\n",
    "```"
   ]
  },
  {
   "cell_type": "markdown",
   "metadata": {},
   "source": [
    "# 7.计算一系列数的和（输入行数为止，每行个数未知）\n",
    "\n",
    "链接：https://ac.nowcoder.com/acm/contest/320/G\n",
    "来源：牛客网\n",
    "\n",
    "输入数据有多组, 每行表示一组输入数据。\n",
    "\n",
    "每行不定有n个整数，空格隔开。(1 <= n <= 100)。"
   ]
  },
  {
   "cell_type": "code",
   "execution_count": 14,
   "metadata": {},
   "outputs": [],
   "source": [
    "from io import StringIO  \n",
    "import sys\n",
    "\n",
    "doc = '''1 2 3\n",
    "4 5\n",
    "0 0 0 0 0\n",
    "'''\n",
    "\n",
    "sys.stdin = StringIO(doc)"
   ]
  },
  {
   "cell_type": "code",
   "execution_count": 15,
   "metadata": {},
   "outputs": [
    {
     "name": "stdout",
     "output_type": "stream",
     "text": [
      "6\n",
      "9\n",
      "0\n"
     ]
    }
   ],
   "source": [
    "#coding=utf-8\n",
    "import sys\n",
    "\n",
    "if __name__ == \"__main__\":\n",
    "    for line_str in sys.stdin.readlines():\n",
    "        line = list(map(int,line_str.split()))\n",
    "        print(sum(line))"
   ]
  },
  {
   "cell_type": "markdown",
   "metadata": {},
   "source": [
    "C++:\n",
    "\n",
    "```cpp\n",
    "#include <iostream>\n",
    "#include<string>\n",
    "#include<sstream>\n",
    "using namespace std;\n",
    "int main()\n",
    "{\n",
    "    string str;\n",
    "    while(getline(cin,str))\n",
    "    {\n",
    "        int b,sum=0;\n",
    "        stringstream ss(str);\n",
    "        while(ss>>b)\n",
    "            sum+=b;\n",
    "         cout<<sum<<endl;\n",
    "    }\n",
    "    return 0;\n",
    "}\n",
    "```"
   ]
  },
  {
   "cell_type": "markdown",
   "metadata": {},
   "source": [
    "# 8.字符串排序(1)\n",
    "\n",
    "对输入的字符串进行排序后输出\n",
    "\n",
    "输入有两行，第一行n\n",
    "\n",
    "第二行是n个空格隔开的字符串\n",
    "\n",
    "输出一行排序后的字符串，空格隔开，无结尾空格"
   ]
  },
  {
   "cell_type": "code",
   "execution_count": 16,
   "metadata": {},
   "outputs": [],
   "source": [
    "from io import StringIO  \n",
    "import sys\n",
    "\n",
    "doc = '''5\n",
    "c d a bb e\n",
    "'''\n",
    "\n",
    "sys.stdin = StringIO(doc)"
   ]
  },
  {
   "cell_type": "code",
   "execution_count": 17,
   "metadata": {},
   "outputs": [
    {
     "name": "stdout",
     "output_type": "stream",
     "text": [
      "a bb c d e\n"
     ]
    }
   ],
   "source": [
    "#coding=utf-8\n",
    "import sys\n",
    "\n",
    "if __name__ == \"__main__\":\n",
    "    while True:\n",
    "        try:\n",
    "            n = int(sys.stdin.readline().strip())\n",
    "            line_str = sys.stdin.readline().strip().split()\n",
    "            line_str.sort()\n",
    "            print(' '.join(line_str))\n",
    "        except:\n",
    "            break"
   ]
  },
  {
   "cell_type": "markdown",
   "metadata": {},
   "source": [
    "C++代码：\n",
    "```cpp\n",
    "#include <iostream>\n",
    "#include <vector>\n",
    "#include<string>\n",
    "#include <algorithm>\n",
    "using namespace std;\n",
    "int main()\n",
    "{\n",
    "    vector<string> vec;\n",
    "    int n;\n",
    "    cin>>n;\n",
    "       \n",
    "    for(int i=0; i<n; i++)\n",
    "    {\n",
    "        string s;\n",
    "        cin>>s;\n",
    "        vec.push_back(s);\n",
    "    }\n",
    "    sort(vec.begin(),vec.end());\n",
    "    cout<<vec[0];\n",
    "    for(int i=1;i<vec.size();i++)\n",
    "    {\n",
    "        cout<<\" \"<<vec[i];\n",
    "    }\n",
    "    return 0;\n",
    "}\n",
    "```"
   ]
  },
  {
   "cell_type": "markdown",
   "metadata": {},
   "source": [
    "### 一行输出结果的方法\n",
    "\n",
    "#### 法一："
   ]
  },
  {
   "cell_type": "code",
   "execution_count": 18,
   "metadata": {},
   "outputs": [
    {
     "name": "stdout",
     "output_type": "stream",
     "text": [
      "1 2 3 4 5\n"
     ]
    }
   ],
   "source": [
    "li  = [1,2,3,4,5]\n",
    "for i in range(len(li)-1):\n",
    "    print(li[i], end = \" \")\n",
    "print(li[-1]) #避免最后一个空格出现"
   ]
  },
  {
   "cell_type": "markdown",
   "metadata": {},
   "source": [
    "#### 法二："
   ]
  },
  {
   "cell_type": "code",
   "execution_count": 19,
   "metadata": {},
   "outputs": [
    {
     "name": "stdout",
     "output_type": "stream",
     "text": [
      "1 2 3 4 5\n"
     ]
    }
   ],
   "source": [
    "li  = [1,2,3,4,5]\n",
    "li = list(map(str,li))\n",
    "print(' '.join(li))"
   ]
  },
  {
   "cell_type": "markdown",
   "metadata": {},
   "source": [
    "# 9.字符串排序（2）\n",
    "\n",
    "链接：https://ac.nowcoder.com/acm/contest/320/I\n",
    "来源：牛客网\n",
    "\n",
    "对输入的字符串进行排序后输出\n",
    "\n",
    "输入描述:\n",
    "\n",
    "多个测试用例，每个测试用例一行。\n",
    "\n",
    "每行通过空格隔开，有n个字符，n＜100\n",
    "\n",
    "对于每组测试用例，输出一行排序过的字符串，每个字符串通过空格隔开"
   ]
  },
  {
   "cell_type": "code",
   "execution_count": 20,
   "metadata": {},
   "outputs": [],
   "source": [
    "from io import StringIO  \n",
    "import sys\n",
    "\n",
    "doc = '''a c bb\n",
    "f dddd\n",
    "nowcoder\n",
    "'''\n",
    "\n",
    "sys.stdin = StringIO(doc)"
   ]
  },
  {
   "cell_type": "code",
   "execution_count": 21,
   "metadata": {},
   "outputs": [
    {
     "name": "stdout",
     "output_type": "stream",
     "text": [
      "a bb c\n",
      "dddd f\n",
      "nowcoder\n"
     ]
    }
   ],
   "source": [
    "#coding=utf-8\n",
    "import sys\n",
    "\n",
    "if __name__ == \"__main__\":\n",
    "    for line_str in sys.stdin.readlines():\n",
    "        line = line_str.strip().split()\n",
    "        line.sort()\n",
    "        print(' '.join(line))"
   ]
  },
  {
   "cell_type": "markdown",
   "metadata": {},
   "source": [
    "C++代码：\n",
    "```cpp\n",
    "#include <iostream>\n",
    "#include <vector>\n",
    "#include <string>\n",
    "#include <sstream>\n",
    "#include <algorithm>\n",
    "using namespace std;\n",
    " \n",
    "int main(){\n",
    "    string line;\n",
    "    while(getline(cin, line)){\n",
    "        stringstream ss(line);\n",
    "        vector<string> vec;\n",
    "        string s;\n",
    "        while(ss >> s)\n",
    "            vec.push_back(s);\n",
    "        sort(vec.begin(), vec.end());\n",
    "        for(int i = 0; i < vec.size() - 1; i++)\n",
    "            cout << vec[i] << \" \";\n",
    "        cout << vec[vec.size()-1] << endl;\n",
    "    }\n",
    "    return 0;\n",
    "}\n",
    "```"
   ]
  },
  {
   "cell_type": "markdown",
   "metadata": {},
   "source": [
    "# 10.字符串排序（3）\n",
    "\n",
    "链接：https://ac.nowcoder.com/acm/contest/320/J\n",
    "来源：牛客网\n",
    "\n",
    "对输入的字符串进行排序后输出\n",
    "\n",
    "输入描述:\n",
    "\n",
    "多个测试用例，每个测试用例一行。\n",
    "\n",
    "每行通过,隔开，有n个字符，n＜100\n",
    "\n",
    "输出描述:\n",
    "\n",
    "对于每组用例输出一行排序后的字符串，用','隔开，无结尾空格"
   ]
  },
  {
   "cell_type": "code",
   "execution_count": 22,
   "metadata": {},
   "outputs": [],
   "source": [
    "from io import StringIO  \n",
    "import sys\n",
    "\n",
    "doc = '''a,c,bb\n",
    "f,dddd\n",
    "nowcoder\n",
    "'''\n",
    "\n",
    "sys.stdin = StringIO(doc)"
   ]
  },
  {
   "cell_type": "code",
   "execution_count": 23,
   "metadata": {},
   "outputs": [
    {
     "name": "stdout",
     "output_type": "stream",
     "text": [
      "a,bb,c\n",
      "dddd,f\n",
      "nowcoder\n"
     ]
    }
   ],
   "source": [
    "#coding=utf-8\n",
    "import sys\n",
    "\n",
    "if __name__ == \"__main__\":\n",
    "    for line_str in sys.stdin.readlines():\n",
    "        line = line_str.strip().split(',')\n",
    "        line.sort()\n",
    "        print(','.join(line))"
   ]
  },
  {
   "cell_type": "markdown",
   "metadata": {},
   "source": [
    "C++代码：\n",
    "\n",
    "```cpp\n",
    "#include <iostream>\n",
    "#include <vector>\n",
    "#include<string>\n",
    "#include <algorithm>\n",
    "#include <sstream>\n",
    "using namespace std;\n",
    "int main()\n",
    "{\n",
    "    vector<string> vec;\n",
    "    string str;\n",
    "    while(getline(cin,str))\n",
    "     {\n",
    "        string s;\n",
    "        stringstream ss(str);\n",
    "         while(getline(ss, s, ',')){\n",
    "            vec.push_back(s);\n",
    "        }\n",
    "        sort(vec.begin(),vec.end());\n",
    "        cout<<vec[0];\n",
    "        for(int i=1;i<vec.size();i++)\n",
    "        {\n",
    "            cout<<\",\"<<vec[i];\n",
    "        }\n",
    "        cout<<endl;\n",
    "        vec.clear();\n",
    "     }\n",
    "    return 0;\n",
    "}\n",
    "```"
   ]
  }
 ],
 "metadata": {
  "kernelspec": {
   "display_name": "tf36",
   "language": "python",
   "name": "tf36"
  },
  "language_info": {
   "codemirror_mode": {
    "name": "ipython",
    "version": 3
   },
   "file_extension": ".py",
   "mimetype": "text/x-python",
   "name": "python",
   "nbconvert_exporter": "python",
   "pygments_lexer": "ipython3",
   "version": "3.6.8"
  }
 },
 "nbformat": 4,
 "nbformat_minor": 2
}
