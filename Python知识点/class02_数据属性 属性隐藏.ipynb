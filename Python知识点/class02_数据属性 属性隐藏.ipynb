{
 "cells": [
  {
   "cell_type": "markdown",
   "metadata": {},
   "source": [
    "# 详解类class的属性：类数据属性、实例数据属性、特殊的类属性、属性隐藏（二）\n",
    "\n",
    "**参考: https://blog.csdn.net/brucewong0516/article/details/79118703**"
   ]
  },
  {
   "cell_type": "code",
   "execution_count": 56,
   "metadata": {},
   "outputs": [
    {
     "name": "stdout",
     "output_type": "stream",
     "text": [
      "Bruce is 25 weights 60\n"
     ]
    }
   ],
   "source": [
    "class person():\n",
    "    '''\n",
    "    this is doc of class\n",
    "    write doc contents here\n",
    "    '''\n",
    "    height = 180\n",
    "    hobbies = []\n",
    "    def __init__(self,name,age,weight):\n",
    "        self.name = name\n",
    "        self.age = age\n",
    "        self.weight = weight\n",
    "    def infoma(self):\n",
    "        print('%s is %s weights %s'%(self.name,self.age,self.weight))\n",
    "\n",
    "\n",
    "Bruce = person('Bruce',25,60)\n",
    "Bruce.infoma()"
   ]
  },
  {
   "cell_type": "markdown",
   "metadata": {},
   "source": [
    "在上面的person类中，“height”、“hobbies”、“name”、\"age\"和\"weight \"都被称为类的数据属性。数据属性可以分为类数据属性和实例数据属性。"
   ]
  },
  {
   "cell_type": "markdown",
   "metadata": {},
   "source": [
    "## 1.类数据属性"
   ]
  },
  {
   "cell_type": "markdown",
   "metadata": {},
   "source": [
    "类数据属性属于类本身，可以通过类名进行访问/修改，此处添加\"football\"、\"woman\"两个"
   ]
  },
  {
   "cell_type": "code",
   "execution_count": 24,
   "metadata": {},
   "outputs": [
    {
     "name": "stdout",
     "output_type": "stream",
     "text": [
      "person hobbies list: ['football', 'soccer']\n"
     ]
    }
   ],
   "source": [
    "person.hobbies.extend([\"football\", \"soccer\"])\n",
    "print(\"person hobbies list: %s\" %person.hobbies) "
   ]
  },
  {
   "cell_type": "markdown",
   "metadata": {},
   "source": [
    "在类定义之后，可以通过类名动态添加类数据属性，新增的类属性也被类和所有实例共有"
   ]
  },
  {
   "cell_type": "code",
   "execution_count": 25,
   "metadata": {},
   "outputs": [
    {
     "name": "stdout",
     "output_type": "stream",
     "text": [
      "person hobbies2 list: ['reading', 'jogging', 'swimming']\n",
      "['__class__', '__delattr__', '__dict__', '__dir__', '__doc__', '__eq__', '__format__', '__ge__', '__getattribute__', '__gt__', '__hash__', '__init__', '__init_subclass__', '__le__', '__lt__', '__module__', '__ne__', '__new__', '__reduce__', '__reduce_ex__', '__repr__', '__setattr__', '__sizeof__', '__str__', '__subclasshook__', '__weakref__', 'height', 'hobbies', 'hobbies2', 'infoma']\n"
     ]
    }
   ],
   "source": [
    "person.hobbies2 = [\"reading\", \"jogging\", \"swimming\"]\n",
    "print(\"person hobbies2 list: %s\" %person.hobbies2  )  \n",
    "print(dir(person))"
   ]
  },
  {
   "cell_type": "markdown",
   "metadata": {},
   "source": [
    "## 2.实例数据属性\n",
    "\n",
    "实例数据属性只能通过实例访问，在实例生成后，还可以动态添加实例数据属性，但是这些实例数据属性只属于该实例"
   ]
  },
  {
   "cell_type": "code",
   "execution_count": 30,
   "metadata": {},
   "outputs": [
    {
     "name": "stdout",
     "output_type": "stream",
     "text": [
      "Bruce is 25 years old\n",
      "Bruce is male\n",
      "['__class__', '__delattr__', '__dict__', '__dir__', '__doc__', '__eq__', '__format__', '__ge__', '__getattribute__', '__gt__', '__hash__', '__init__', '__init_subclass__', '__le__', '__lt__', '__module__', '__ne__', '__new__', '__reduce__', '__reduce_ex__', '__repr__', '__setattr__', '__sizeof__', '__str__', '__subclasshook__', '__weakref__', 'age', 'gender', 'height', 'hobbies', 'hobbies2', 'infoma', 'name', 'weight']\n",
      "['__class__', '__delattr__', '__dict__', '__dir__', '__doc__', '__eq__', '__format__', '__ge__', '__getattribute__', '__gt__', '__hash__', '__init__', '__init_subclass__', '__le__', '__lt__', '__module__', '__ne__', '__new__', '__reduce__', '__reduce_ex__', '__repr__', '__setattr__', '__sizeof__', '__str__', '__subclasshook__', '__weakref__', 'height', 'hobbies', 'hobbies2', 'infoma']\n"
     ]
    }
   ],
   "source": [
    "Bruce = person(\"Bruce\", 25,60)    \n",
    "print (\"%s is %d years old\" %(Bruce.name, Bruce.age))\n",
    "Bruce.gender = \"male\"   #\n",
    "print( \"%s is %s\" %(Bruce.name, Bruce.gender))\n",
    "print(dir(Bruce))\n",
    "print(dir(person)) #类属性中没有实例新生成的gender数据属性"
   ]
  },
  {
   "cell_type": "code",
   "execution_count": 31,
   "metadata": {},
   "outputs": [
    {
     "name": "stdout",
     "output_type": "stream",
     "text": [
      "['football', 'soccer', 'C#']\n"
     ]
    }
   ],
   "source": [
    "Bruce.hobbies.append(\"C#\")\n",
    "print (Bruce.hobbies)"
   ]
  },
  {
   "cell_type": "code",
   "execution_count": 40,
   "metadata": {},
   "outputs": [
    {
     "name": "stdout",
     "output_type": "stream",
     "text": [
      "Will is 27 years old\n",
      "['__class__', '__delattr__', '__dict__', '__dir__', '__doc__', '__eq__', '__format__', '__ge__', '__getattribute__', '__gt__', '__hash__', '__init__', '__init_subclass__', '__le__', '__lt__', '__module__', '__ne__', '__new__', '__reduce__', '__reduce_ex__', '__repr__', '__setattr__', '__sizeof__', '__str__', '__subclasshook__', '__weakref__', 'age', 'height', 'hobbies', 'hobbies2', 'infoma', 'name', 'weight']\n",
      "['football', 'soccer', 'C#']\n"
     ]
    }
   ],
   "source": [
    "Will = person(\"Will\", 27,60) \n",
    "print( \"%s is %d years old\" %(will.name, will.age) )  \n",
    "\n",
    "print(dir(Will))\n",
    "print (Will.hobbies)"
   ]
  },
  {
   "cell_type": "markdown",
   "metadata": {},
   "source": [
    "通过内建函数dir()，或者访问类的字典属性`__dict__`这两种方式都可以查看类有哪些属性\n",
    "\n",
    "### 类数据属性 VS 实例数据属性 对比：\n",
    "\n",
    "- 类数据属性属于类本身，可以通过类名进行访问/修改\n",
    "- 类数据属性也可以被类的所有实例访问/修改\n",
    "- 在类定义之后，可以通过类名动态添加类数据属性，新增的类属性也被类和所有实例共有\n",
    "- 实例数据属性只能通过实例访问\n",
    "- 在实例生成后，还可以动态添加实例数据属性，但是这些实例数据属性只属于该实例\n",
    "\n",
    "## 2、特殊的类属性：对于所有的类，都有一组特殊的属性\n",
    "\n",
    "- `__name__`：类的名字（字符串）\n",
    "- `__doc__`：类的文档字符串\n",
    "- `__bases__`：类的所有父类组成的元组\n",
    "- `__dict__`：类的属性组成的字典\n",
    "- `__module__`：类所属的模块\n",
    "- `__class__`：类对象的类型"
   ]
  },
  {
   "cell_type": "code",
   "execution_count": 46,
   "metadata": {},
   "outputs": [
    {
     "name": "stdout",
     "output_type": "stream",
     "text": [
      "person\n",
      "\n",
      "    this is doc of class\n",
      "    write doc contents here\n",
      "    \n",
      "(<class 'object'>,)\n",
      "{'__module__': '__main__', '__doc__': '\\n    this is doc of class\\n    write doc contents here\\n    ', 'height': 180, 'hobbies': [], '__init__': <function person.__init__ at 0x7f8ff82af598>, 'infoma': <function person.infoma at 0x7f8fd4ca59d8>, '__dict__': <attribute '__dict__' of 'person' objects>, '__weakref__': <attribute '__weakref__' of 'person' objects>}\n",
      "__main__\n",
      "<class 'type'>\n"
     ]
    }
   ],
   "source": [
    "class person(object):\n",
    "    '''\n",
    "    this is doc of class\n",
    "    write doc contents here\n",
    "    '''\n",
    "    height = 180\n",
    "    hobbies = []\n",
    "    def __init__(self, name, age,weight):\n",
    "        self.name = name\n",
    "        self.age = age\n",
    "        self.weight = weight\n",
    "    def infoma(self):\n",
    "        print('%s is %s weights %s'%(self.name,self.age,self.weight))\n",
    "\n",
    "print(person.__name__)\n",
    "print(person.__doc__)\n",
    "print(person.__bases__)\n",
    "print(person.__dict__)\n",
    "print(person.__module__)\n",
    "print(person.__class__)"
   ]
  },
  {
   "cell_type": "markdown",
   "metadata": {},
   "source": [
    "## 3、属性隐藏\n",
    "\n",
    "类数据属性属于类本身，被所有该类的实例共享；并且，通过实例可以去访问/修改类属性。但是，在通过实例中访问类属性的时候一定要谨慎，因为可能出现属性\"隐藏\"的情况。"
   ]
  },
  {
   "cell_type": "code",
   "execution_count": 47,
   "metadata": {},
   "outputs": [
    {
     "name": "stdout",
     "output_type": "stream",
     "text": [
      "person.height is Bruce.height:  True\n",
      "person.height is Bruce.height:  False\n",
      "{'__module__': '__main__', '__doc__': '\\n    this is doc of class\\n    write doc contents here\\n    ', 'height': 180, 'hobbies': [], '__init__': <function person.__init__ at 0x7f8ff82af598>, 'infoma': <function person.infoma at 0x7f8fd4ca59d8>, '__dict__': <attribute '__dict__' of 'person' objects>, '__weakref__': <attribute '__weakref__' of 'person' objects>}\n",
      "{'name': 'Bruce', 'age': 25, 'weight': 180, 'height': 185}\n"
     ]
    }
   ],
   "source": [
    "Bruce = person(\"Bruce\", 25,180)\n",
    "print(\"person.height is Bruce.height: \", person.height is Bruce.height)\n",
    "\n",
    "Bruce.height = 185    #重新赋值或者修改\n",
    "print( \"person.height is Bruce.height: \", person.height is Bruce.height)\n",
    "print( person.__dict__)\n",
    "print( Bruce.__dict__)"
   ]
  },
  {
   "cell_type": "code",
   "execution_count": 48,
   "metadata": {},
   "outputs": [
    {
     "name": "stdout",
     "output_type": "stream",
     "text": [
      "person.height is Bruce.height:  True\n"
     ]
    }
   ],
   "source": [
    "del Bruce.height   #再次删除实例的赋值\n",
    "print(\"person.height is Bruce.height: \", person.height is Bruce.height)  #person.height is Bruce.height为True"
   ]
  },
  {
   "cell_type": "code",
   "execution_count": 49,
   "metadata": {},
   "outputs": [
    {
     "name": "stdout",
     "output_type": "stream",
     "text": [
      "person.height is Bruce.height:  False\n",
      "{'__module__': '__main__', '__doc__': '\\n    this is doc of class\\n    write doc contents here\\n    ', 'height': 180, 'hobbies': [], '__init__': <function person.__init__ at 0x7f8ff82af598>, 'infoma': <function person.infoma at 0x7f8fd4ca59d8>, '__dict__': <attribute '__dict__' of 'person' objects>, '__weakref__': <attribute '__weakref__' of 'person' objects>}\n",
      "{'name': 'Bruce', 'age': 25, 'weight': 180, 'height': 183}\n"
     ]
    }
   ],
   "source": [
    "Bruce.height += 3    \n",
    "print(\"person.height is Bruce.height: \", person.height is Bruce.height)\n",
    "print(person.__dict__)\n",
    "print(Bruce.__dict__)"
   ]
  },
  {
   "cell_type": "code",
   "execution_count": 50,
   "metadata": {},
   "outputs": [],
   "source": [
    "del Bruce.height"
   ]
  },
  {
   "cell_type": "markdown",
   "metadata": {},
   "source": [
    "- 同样对于可变类型的类属性person.hobbies，可以通过实例Bruce进行访问，并且\"person.hobbies is Bruce. hobbies\"，两者相等\n",
    "- 当通过实例赋值hobbies 属性的时候，都将为实例Bruce新建一个hobbies实例属性，两者不等"
   ]
  },
  {
   "cell_type": "code",
   "execution_count": 51,
   "metadata": {},
   "outputs": [
    {
     "name": "stdout",
     "output_type": "stream",
     "text": [
      "person.hobbies is Bruce.hobbies:  True\n",
      "person.hobbies is Bruce.hobbies :  False\n",
      "{'__module__': '__main__', '__doc__': '\\n    this is doc of class\\n    write doc contents here\\n    ', 'height': 180, 'hobbies': [], '__init__': <function person.__init__ at 0x7f8ff82af598>, 'infoma': <function person.infoma at 0x7f8fd4ca59d8>, '__dict__': <attribute '__dict__' of 'person' objects>, '__weakref__': <attribute '__weakref__' of 'person' objects>}\n",
      "{'name': 'Bruce', 'age': 25, 'weight': 180, 'hobbies': ['C#', 'Python']}\n"
     ]
    }
   ],
   "source": [
    "print(\"person.hobbies is Bruce.hobbies: \", person.hobbies is Bruce.hobbies)\n",
    "Bruce.hobbies = [\"C#\", \"Python\"]\n",
    "print (\"person.hobbies is Bruce.hobbies : \", person.hobbies is Bruce.hobbies)\n",
    "print( person.__dict__)\n",
    "print( Bruce.__dict__)"
   ]
  },
  {
   "cell_type": "markdown",
   "metadata": {},
   "source": [
    "当通过\"del Bruce. hobbies\"语句删除实例的hobbies属性后，再次成为person.hobbies"
   ]
  },
  {
   "cell_type": "code",
   "execution_count": 52,
   "metadata": {},
   "outputs": [
    {
     "name": "stdout",
     "output_type": "stream",
     "text": [
      "person.hobbies is Bruce.hobbies:  True\n"
     ]
    }
   ],
   "source": [
    "del Bruce.hobbies\n",
    "print( \"person.hobbies is Bruce.hobbies: \", person.hobbies is Bruce.hobbies)"
   ]
  },
  {
   "cell_type": "markdown",
   "metadata": {},
   "source": [
    "- **通过append方式更改实例Bruce的hobbies属性时，相当于更改了类数据属性。这里并没有重新赋值，只是在原有的hobbies基础上添加。所以并没有改变内存地址（数组的指针并没有变，只是在后面添加了数据）。所有这里更改实例数据属性相当于更改了类数据属性**\n",
    "- **而如果是直接用`=`则是为实例数据属性新开辟了内存空间，因此没有改变类数据属性。**"
   ]
  },
  {
   "cell_type": "code",
   "execution_count": 53,
   "metadata": {},
   "outputs": [
    {
     "name": "stdout",
     "output_type": "stream",
     "text": [
      "person.hobbies is Bruce.hobbies:  True\n",
      "{'__module__': '__main__', '__doc__': '\\n    this is doc of class\\n    write doc contents here\\n    ', 'height': 180, 'hobbies': ['CSS'], '__init__': <function person.__init__ at 0x7f8ff82af598>, 'infoma': <function person.infoma at 0x7f8fd4ca59d8>, '__dict__': <attribute '__dict__' of 'person' objects>, '__weakref__': <attribute '__weakref__' of 'person' objects>}\n",
      "{'name': 'Bruce', 'age': 25, 'weight': 180}\n"
     ]
    }
   ],
   "source": [
    "Bruce.hobbies.append(\"CSS\")\n",
    "print(\"person.hobbies is Bruce.hobbies: \", person.hobbies is Bruce.hobbies)\n",
    "print(person.__dict__)\n",
    "print(Bruce.__dict__)"
   ]
  },
  {
   "cell_type": "markdown",
   "metadata": {},
   "source": [
    "注意，虽然通过实例可以访问类属性，但是，不建议这么做，最好还是通过类名来访问类属性，从而避免属性隐藏带来的不必要麻烦"
   ]
  }
 ],
 "metadata": {
  "kernelspec": {
   "display_name": "Python 3 (Ubuntu Linux)",
   "language": "python",
   "name": "python3"
  },
  "language_info": {
   "codemirror_mode": {
    "name": "ipython",
    "version": 3
   },
   "file_extension": ".py",
   "mimetype": "text/x-python",
   "name": "python",
   "nbconvert_exporter": "python",
   "pygments_lexer": "ipython3",
   "version": "3.6.8"
  }
 },
 "nbformat": 4,
 "nbformat_minor": 2
}
