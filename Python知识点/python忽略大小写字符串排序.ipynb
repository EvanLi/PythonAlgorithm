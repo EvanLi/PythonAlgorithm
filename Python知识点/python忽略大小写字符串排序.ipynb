{
 "cells": [
  {
   "cell_type": "markdown",
   "metadata": {},
   "source": [
    "# python 忽略大小写对字符串列表排序\n",
    "\n",
    "https://blog.csdn.net/xiaocaiju/article/details/6974141 "
   ]
  },
  {
   "cell_type": "markdown",
   "metadata": {},
   "source": [
    "## 小写字符串和原始字符串构成元组再排序"
   ]
  },
  {
   "cell_type": "code",
   "execution_count": 1,
   "metadata": {},
   "outputs": [],
   "source": [
    "def case_insensitive_sort(liststring):\n",
    "    listtmp = [(x.lower(),x) for x in liststring] #将字符串列表，生成元组，（忽略大小写的字符串，字符串） [\"abc\",'Adc']变成[('abc','abc'),('adc','Adc')]\n",
    "    listtmp.sort() #对元组排序，因为元组为：（忽略大小写的字符串，字符串），就是按忽略大小写的字符串排序\n",
    "    return [x[1] for x in listtmp] #排序完成后，返回原字符串的列表"
   ]
  },
  {
   "cell_type": "code",
   "execution_count": 2,
   "metadata": {},
   "outputs": [
    {
     "name": "stdout",
     "output_type": "stream",
     "text": [
      "['the', 'stirng', 'Has', 'many', 'line', 'In', 'THE', 'fIle']\n",
      "**************************************************\n",
      "['fIle', 'Has', 'In', 'line', 'many', 'stirng', 'THE', 'the']\n"
     ]
    }
   ],
   "source": [
    "string = '''\n",
    "the stirng\n",
    "Has many\n",
    "line In\n",
    "THE fIle\n",
    "'''\n",
    "list_of_string = string.split()\n",
    "print(list_of_string)     #将字符串分离开，放入列表中\n",
    "print ('*'*50)\n",
    "\n",
    "print(case_insensitive_sort(list_of_string))#调用起来，测试一下"
   ]
  },
  {
   "cell_type": "code",
   "execution_count": 3,
   "metadata": {},
   "outputs": [],
   "source": [
    "str1 = '''\n",
    "bokeh\n",
    "beautifulsoup4\n",
    "catboost\n",
    "dask\n",
    "dill\n",
    "dist-keras\n",
    "elephas\n",
    "eli5\n",
    "gensim\n",
    "Keras\n",
    "lightgbm\n",
    "lxml\n",
    "matplotlib\n",
    "mxnet\n",
    "nltk\n",
    "numpy\n",
    "pandas\n",
    "partd\n",
    "plotly\n",
    "psutil\n",
    "pydot\n",
    "pytorch\n",
    "requests\n",
    "scipy\n",
    "Scrapy\n",
    "seaborn\n",
    "thulac\n",
    "scikit-learn\n",
    "spacy\n",
    "statsmodels\n",
    "tensorflow\n",
    "tensorflowonspark\n",
    "Theano\n",
    "toolz\n",
    "tornado>5.0.0\n",
    "xgboost\n",
    "xlrd\n",
    "you-get\n",
    "'''\n",
    "list_str1 = str1.split()\n",
    "str2 = case_insensitive_sort(list_str1)"
   ]
  },
  {
   "cell_type": "code",
   "execution_count": 4,
   "metadata": {},
   "outputs": [
    {
     "name": "stdout",
     "output_type": "stream",
     "text": [
      "beautifulsoup4\n",
      "bokeh\n",
      "catboost\n",
      "dask\n",
      "dill\n",
      "dist-keras\n",
      "elephas\n",
      "eli5\n",
      "gensim\n",
      "Keras\n",
      "lightgbm\n",
      "lxml\n",
      "matplotlib\n",
      "mxnet\n",
      "nltk\n",
      "numpy\n",
      "pandas\n",
      "partd\n",
      "plotly\n",
      "psutil\n",
      "pydot\n",
      "pytorch\n",
      "requests\n",
      "scikit-learn\n",
      "scipy\n",
      "Scrapy\n",
      "seaborn\n",
      "spacy\n",
      "statsmodels\n",
      "tensorflow\n",
      "tensorflowonspark\n",
      "Theano\n",
      "thulac\n",
      "toolz\n",
      "tornado>5.0.0\n",
      "xgboost\n",
      "xlrd\n",
      "you-get\n"
     ]
    }
   ],
   "source": [
    "for str2_each in str2:\n",
    "    print(str2_each)"
   ]
  },
  {
   "cell_type": "code",
   "execution_count": 5,
   "metadata": {},
   "outputs": [
    {
     "data": {
      "text/plain": [
       "['124', 'abc', 'Adc']"
      ]
     },
     "execution_count": 5,
     "metadata": {},
     "output_type": "execute_result"
    }
   ],
   "source": [
    "case_insensitive_sort([\"abc\",\"Adc\",\"124\"])"
   ]
  },
  {
   "cell_type": "markdown",
   "metadata": {},
   "source": [
    "## 使用内建函数sorted(iterable[,cmp[, key[,reverse]]])"
   ]
  },
  {
   "cell_type": "markdown",
   "metadata": {},
   "source": [
    "使用参数key=str.lower\n",
    "代码如下："
   ]
  },
  {
   "cell_type": "code",
   "execution_count": 6,
   "metadata": {},
   "outputs": [],
   "source": [
    "def case_insensitive_sort2(liststring):\n",
    "    return sorted(liststring,key = str.lower)"
   ]
  },
  {
   "cell_type": "code",
   "execution_count": 7,
   "metadata": {},
   "outputs": [],
   "source": [
    "teslist = [\"abc\",\"Adc\",\"Bad\",\"124\"]"
   ]
  },
  {
   "cell_type": "code",
   "execution_count": 8,
   "metadata": {},
   "outputs": [
    {
     "data": {
      "text/plain": [
       "['124', 'Adc', 'Bad', 'abc']"
      ]
     },
     "execution_count": 8,
     "metadata": {},
     "output_type": "execute_result"
    }
   ],
   "source": [
    "sorted(teslist)"
   ]
  },
  {
   "cell_type": "code",
   "execution_count": 9,
   "metadata": {},
   "outputs": [
    {
     "data": {
      "text/plain": [
       "['124', 'abc', 'Adc', 'Bad']"
      ]
     },
     "execution_count": 9,
     "metadata": {},
     "output_type": "execute_result"
    }
   ],
   "source": [
    "sorted(teslist,key=str.lower)"
   ]
  },
  {
   "cell_type": "markdown",
   "metadata": {},
   "source": [
    "## list.sort和sorted区别\n",
    "\n",
    "sort 是应用在 list 上的方法，sorted 可以对所有可迭代的对象进行排序操作。\n",
    "\n",
    "list 的 sort 方法返回的是对已经存在的列表进行操作，而内建函数 sorted 方法返回的是一个新的 list，而不是在原来的基础上进行的操作。\n",
    "\n",
    "```\n",
    "sorted(iterable, key=None, reverse=False)  \n",
    "```"
   ]
  },
  {
   "cell_type": "code",
   "execution_count": 10,
   "metadata": {},
   "outputs": [
    {
     "data": {
      "text/plain": [
       "[1, 2, 3, 4, 5]"
      ]
     },
     "execution_count": 10,
     "metadata": {},
     "output_type": "execute_result"
    }
   ],
   "source": [
    "a=[5,2,3,1,4]\n",
    "sorted(a)"
   ]
  },
  {
   "cell_type": "code",
   "execution_count": 11,
   "metadata": {},
   "outputs": [
    {
     "name": "stdout",
     "output_type": "stream",
     "text": [
      "[5, 2, 3, 1, 4]\n"
     ]
    }
   ],
   "source": [
    "print(a)"
   ]
  },
  {
   "cell_type": "code",
   "execution_count": 12,
   "metadata": {},
   "outputs": [
    {
     "data": {
      "text/plain": [
       "[1, 2, 3, 4, 5]"
      ]
     },
     "execution_count": 12,
     "metadata": {},
     "output_type": "execute_result"
    }
   ],
   "source": [
    "b = [5,2,3,1,4]\n",
    "b.sort()\n",
    "b"
   ]
  },
  {
   "cell_type": "code",
   "execution_count": 13,
   "metadata": {},
   "outputs": [
    {
     "data": {
      "text/plain": [
       "['ab', 'cd', 'fg']"
      ]
     },
     "execution_count": 13,
     "metadata": {},
     "output_type": "execute_result"
    }
   ],
   "source": [
    "ast = ['ab','fg','cd']\n",
    "ast.sort()\n",
    "ast"
   ]
  },
  {
   "cell_type": "code",
   "execution_count": 14,
   "metadata": {},
   "outputs": [
    {
     "data": {
      "text/plain": [
       "['ab', 'cd', 'fg']"
      ]
     },
     "execution_count": 14,
     "metadata": {},
     "output_type": "execute_result"
    }
   ],
   "source": [
    "bst = ['ab','fg','cd']\n",
    "sorted(bst)"
   ]
  },
  {
   "cell_type": "code",
   "execution_count": null,
   "metadata": {},
   "outputs": [
    {
     "data": {
      "text/plain": [
       "['ab', 'fg', 'cd']"
      ]
     },
     "execution_count": 15,
     "metadata": {},
     "output_type": "execute_result"
    }
   ],
   "source": [
    "bst"
   ]
  },
  {
   "cell_type": "markdown",
   "metadata": {},
   "source": [
    "另一个区别在于list.sort() 方法只为 list 定义。而 sorted() 函数可以接收任何的 iterable。"
   ]
  },
  {
   "cell_type": "code",
   "execution_count": null,
   "metadata": {},
   "outputs": [
    {
     "data": {
      "text/plain": [
       "[1, 2, 3, 4, 5]"
      ]
     },
     "execution_count": 16,
     "metadata": {},
     "output_type": "execute_result"
    }
   ],
   "source": [
    "sorted({1: 'D', 2: 'B', 3: 'B', 4: 'E', 5: 'A'})"
   ]
  },
  {
   "cell_type": "markdown",
   "metadata": {},
   "source": [
    "利用key进行倒序排序"
   ]
  },
  {
   "cell_type": "code",
   "execution_count": null,
   "metadata": {},
   "outputs": [
    {
     "name": "stdout",
     "output_type": "stream",
     "text": [
      "[7, 6, 5, 4, 1, 0, -2, -3]\n"
     ]
    }
   ],
   "source": [
    "example_list = [5, 0, 6, 1, -2, 7, -3, 4]\n",
    "result_list = sorted(example_list, key=lambda x: x*-1)\n",
    "print(result_list)"
   ]
  },
  {
   "cell_type": "markdown",
   "metadata": {},
   "source": [
    "按绝对值大小排序"
   ]
  },
  {
   "cell_type": "code",
   "execution_count": null,
   "metadata": {},
   "outputs": [
    {
     "data": {
      "text/plain": [
       "[0, 1, -2, -3, 4, 5, 6, 7]"
      ]
     },
     "execution_count": 18,
     "metadata": {},
     "output_type": "execute_result"
    }
   ],
   "source": [
    "sorted(example_list, key=lambda x: abs(x))"
   ]
  },
  {
   "cell_type": "markdown",
   "metadata": {},
   "source": [
    "sorted 的应用，也可以通过 key 的值来进行数组/字典的排序，比如："
   ]
  },
  {
   "cell_type": "code",
   "execution_count": null,
   "metadata": {},
   "outputs": [
    {
     "name": "stdout",
     "output_type": "stream",
     "text": [
      "[{'age': 10, 'name': 'c'}, {'age': 20, 'name': 'a'}, {'age': 25, 'name': 'b'}]\n"
     ]
    }
   ],
   "source": [
    "array = [{\"age\":20,\"name\":\"a\"},{\"age\":25,\"name\":\"b\"},{\"age\":10,\"name\":\"c\"}]\n",
    "array = sorted(array,key=lambda x:x[\"age\"])\n",
    "print(array)"
   ]
  }
 ],
 "metadata": {
  "kernelspec": {
   "display_name": "tf36",
   "language": "python",
   "name": "tf36"
  },
  "language_info": {
   "codemirror_mode": {
    "name": "ipython",
    "version": 3
   },
   "file_extension": ".py",
   "mimetype": "text/x-python",
   "name": "python",
   "nbconvert_exporter": "python",
   "pygments_lexer": "ipython3",
   "version": "3.6.8"
  }
 },
 "nbformat": 4,
 "nbformat_minor": 2
}
