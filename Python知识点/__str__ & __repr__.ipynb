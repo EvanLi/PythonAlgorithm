{
 "cells": [
  {
   "cell_type": "markdown",
   "metadata": {},
   "source": [
    "# `__str__` 和 `__repr__`\n",
    "\n",
    "什么是内置方法 \n",
    "在不是需要程序员定义，本身就存在在类中的方法就是内置方法，名字：双下方法，魔术方法，内置方法 \n",
    "如：init 不需要我们主动调用，而是在实例化的时候内部自动调用的。所以双下方法，都不需要我们直接调用，都有另外一种主动触发他的方法\n",
    "\n",
    "str， repr 内置方法，两者都只能返回字符串，而且都要用return\n",
    "\n",
    "## 什么情况下触发str： \n",
    "- 1 当你打印一个对象的时候， \n",
    "- 2 当你使用%格式化的时候 \n",
    "- 3 str() 强转数据类型的时候\n",
    "\n",
    "repr ，repr是str的备胎，有str的时候执行str,没有实现str的时候，执行repr\n",
    "\n",
    "## 什么情况触发repr \n",
    "- 1 repr(obj)内置函数对应的结果是repr的返回值 \n",
    "- 2 使用%r格式化的时候触发repr"
   ]
  },
  {
   "cell_type": "code",
   "execution_count": 1,
   "metadata": {},
   "outputs": [
    {
     "name": "stdout",
     "output_type": "stream",
     "text": [
      "1 str : python, 6 month, 20000, Mr. Jin\n",
      "1 str : python, 6 month, 20000, Mr. Jin\n",
      "1 str : python, 6 month, 20000, Mr. Jin\n",
      "1 repr : python, 6 month, 20000, Mr. Jin\n",
      "1 repr : python, 6 month, 20000, Mr. Jin\n",
      "----\n",
      "2 str : linux, 4month, 28000, Miss. Lin\n",
      "2 str : linux, 4month, 28000, Miss. Lin\n",
      "2 str : linux, 4month, 28000, Miss. Lin\n",
      "2 repr : linux, 4month, 28000, Miss. Lin\n",
      "2 repr : linux, 4month, 28000, Miss. Lin\n",
      "----\n"
     ]
    }
   ],
   "source": [
    "class Course:\n",
    "    def __init__(self, name, period, price, teacher):\n",
    "        self.name = name\n",
    "        self.period = period\n",
    "        self.price = price\n",
    "        self.teacher = teacher\n",
    "\n",
    "    def __str__(self):\n",
    "        return 'str : {}, {}, {}, {}'.format(self.name, self.period, self.price, self.teacher)\n",
    "\n",
    "    def __repr__(self):\n",
    "        return 'repr : {}, {}, {}, {}'.format(self.name, self.period, self.price, self.teacher)  # self指的是对象\n",
    "\n",
    "\n",
    "course_list = []\n",
    "python = Course('python', '6 month', 20000, 'Mr. Jin')\n",
    "linux = Course('linux', '4month', 28000, 'Miss. Lin')\n",
    "course_list.append(python)\n",
    "course_list.append(linux)\n",
    "\n",
    "for id, course in enumerate(course_list, 1):\n",
    "    print(id, course)             # 1 str : python, 6 month, 20000, Mr. Jin\n",
    "    print('%s %s' % (id, course))  # 1 str : python, 6 month, 20000, Mr. Jin\n",
    "    print(id, str(course))   # 1 str : python, 6 month, 20000, Mr. Jin\n",
    "    print(id,repr(course))   # repr : python, 6 month, 20000, Mr. Jin   #\n",
    "    print(id,'%r' % course)  # repr : python, 6 month, 20000, Mr. Jin\n",
    "    print('----')"
   ]
  }
 ],
 "metadata": {
  "kernelspec": {
   "display_name": "Python 3 (Ubuntu Linux)",
   "language": "python",
   "name": "python3"
  },
  "language_info": {
   "codemirror_mode": {
    "name": "ipython",
    "version": 3
   },
   "file_extension": ".py",
   "mimetype": "text/x-python",
   "name": "python",
   "nbconvert_exporter": "python",
   "pygments_lexer": "ipython3",
   "version": "3.6.8"
  }
 },
 "nbformat": 4,
 "nbformat_minor": 2
}
