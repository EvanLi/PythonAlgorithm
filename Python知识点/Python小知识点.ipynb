{
 "cells": [
  {
   "cell_type": "markdown",
   "metadata": {},
   "source": [
    "# Python小知识点"
   ]
  },
  {
   "cell_type": "markdown",
   "metadata": {},
   "source": [
    "## index一个字符串的位置"
   ]
  },
  {
   "cell_type": "code",
   "execution_count": 1,
   "metadata": {},
   "outputs": [
    {
     "name": "stdout",
     "output_type": "stream",
     "text": [
      "6\n"
     ]
    }
   ],
   "source": [
    "str1 = \"Hello,Python\"\n",
    "str2 = \"Python\"\n",
    "print(str1.index(str2))"
   ]
  },
  {
   "cell_type": "markdown",
   "metadata": {},
   "source": [
    "## 一道筛法题目\n",
    "\n",
    "假设可以不考虑计算机运行资源（如内存）的限制，以下 python3 代码的预期运行结果是：（）\n",
    "\n",
    "```python\n",
    "import math\n",
    "def sieve(size):\n",
    "    sieve= [True] * size\n",
    "    sieve[0] = False\n",
    "    sieve[1] = False\n",
    "    for i in range(2, int(math.sqrt(size)) + 1):\n",
    "        k= i * 2\n",
    "        while k < size:\n",
    "           sieve[k] = False\n",
    "           k += i\n",
    "    return sum(1 for x in sieve if x)\n",
    "print(sieve(10000000000))\n",
    "```"
   ]
  },
  {
   "cell_type": "code",
   "execution_count": 2,
   "metadata": {},
   "outputs": [
    {
     "data": {
      "text/plain": [
       "10.0"
      ]
     },
     "execution_count": 2,
     "metadata": {},
     "output_type": "execute_result"
    }
   ],
   "source": [
    "a=10000000000\n",
    "import math\n",
    "math.log10(a)"
   ]
  },
  {
   "cell_type": "code",
   "execution_count": 45,
   "metadata": {},
   "outputs": [
    {
     "name": "stdout",
     "output_type": "stream",
     "text": [
      "25\n",
      "[2, 3, 5, 7, 11, 13, 17, 19, 23, 29, 31, 37, 41, 43, 47, 53, 59, 61, 67, 71, 73, 79, 83, 89, 97]\n"
     ]
    }
   ],
   "source": [
    "import math\n",
    "  \n",
    "def sieve(size):\n",
    "    num = list(range(size))\n",
    "    sieve1= [True] * size\n",
    "    sieve1[0] = False\n",
    "    sieve1[1] = False\n",
    "    for i in range(2, int(math.sqrt(size)) + 1):\n",
    "        k = i * 2\n",
    "        while k < size:\n",
    "            sieve1[k] = False\n",
    "            k += i\n",
    "    prim = [num[i] for i,x in enumerate(sieve1) if x]\n",
    "    n = len(prim)\n",
    "    return prim,n\n",
    "\n",
    "a,n= sieve(100)\n",
    "print(n)\n",
    "print(a)"
   ]
  },
  {
   "cell_type": "markdown",
   "metadata": {},
   "source": [
    "该程序是计算，前size个整数中（从0开始），素数的个数，直接查阅：\n",
    "\n",
    "https://www.wikiwand.com/en/Prime-counting_function\n",
    "\n",
    "得到10^10以内的个数为455,052,511。\n",
    "\n",
    ">筛法\n",
    "```\n",
    "用筛法求素数的基本思想是：把从1开始的、某一范围内的正整数从小到大顺序排列， 1不是素数，首先把它筛掉。\n",
    "剩下的数中选择最小的数是素数，然后去掉它的倍数。依次类推，直到筛子为空时结束。如有：\n",
    "1 2 3 4 5 6 7 8 9 10\n",
    "11 12 13 14 15 16 17 18 19 20\n",
    "21 22 23 24 25 26 27 28 29 30\n",
    "1不是素数，去掉。剩下的数中2最小，是素数，去掉2的倍数，余下的数是：\n",
    "3 5 7 9 11 13 15 17 19 21 23 25 27 29\n",
    "剩下的数中3最小，是素数，去掉3的倍数，如此下去直到所有的数都被筛完，求出的素数为：\n",
    "2 3 5 7 11 13 17 19 23 29\n",
    "```"
   ]
  },
  {
   "cell_type": "markdown",
   "metadata": {},
   "source": [
    "## return的特殊情况\n",
    "\n",
    "默认情况下，遇见 return 函数就会返回给调用者，但是 try，finally情况除外："
   ]
  },
  {
   "cell_type": "code",
   "execution_count": 33,
   "metadata": {},
   "outputs": [
    {
     "name": "stdout",
     "output_type": "stream",
     "text": [
      "98\n",
      "98\n",
      "ok\n"
     ]
    }
   ],
   "source": [
    "def func():  \n",
    "    try:  \n",
    "        print(98)\n",
    "        return 'ok' #函数得到了一个返回值  \n",
    "    finally: #finally语句块中的语句依然会执行  \n",
    "        print(98) \n",
    "print(func())"
   ]
  },
  {
   "cell_type": "markdown",
   "metadata": {},
   "source": [
    "函数作为返回值返回，这其实就是闭包："
   ]
  },
  {
   "cell_type": "code",
   "execution_count": 46,
   "metadata": {},
   "outputs": [
    {
     "name": "stdout",
     "output_type": "stream",
     "text": [
      "<class 'function'>\n",
      "45\n"
     ]
    }
   ],
   "source": [
    "def lazy_sum(*args):\n",
    "    def sum():\n",
    "        x=0\n",
    "        for n in args:\n",
    "            x=x+n\n",
    "        return x\n",
    "    return sum\n",
    "\n",
    "lazy_sum(1,2,3,4,5,6,7,8,9) #这时候lazy_sum 并没有执行，而是返回一个指向求和的函数的函数名sum 的内存地址。\n",
    "f=lazy_sum(1,2,3,4,5,6,7,8,9)\n",
    "print(type(f))\n",
    "print(f())  # 调用f()函数，才真正调用了 sum 函数进行求和，"
   ]
  },
  {
   "cell_type": "markdown",
   "metadata": {},
   "source": [
    "返回函数列表："
   ]
  },
  {
   "cell_type": "code",
   "execution_count": 49,
   "metadata": {},
   "outputs": [
    {
     "name": "stdout",
     "output_type": "stream",
     "text": [
      "9\n",
      "9\n",
      "9\n"
     ]
    }
   ],
   "source": [
    "def count():\n",
    "    fs = []\n",
    "    for i in range(1,4):\n",
    "        def f():\n",
    "            return i*i\n",
    "        fs.append(f)\n",
    "    return fs\n",
    "\n",
    "\n",
    "f1, f2, f3 = count()\n",
    "print(f1())\n",
    "print(f2())\n",
    "print(f3())"
   ]
  },
  {
   "cell_type": "markdown",
   "metadata": {},
   "source": [
    "```\n",
    "执行过程：\n",
    "当i=1, 执行for循环， 结果返回函数f的函数地址，存在列表fs中的第一个位置上。\n",
    "当i=2, 由于fs列表中第一个元素所指的函数中的i是count函数的局部变量，i也指向了2；然后执行for循环， 结果返回函数f的函数地址，存在列表fs中的第二个位置上。\n",
    "当i=3, 同理，在fs列表第一个和第二个元素所指的函数中的i变量指向了3； 然后执行for循环， 结果返回函数f的函数地址，存在列表fs中的第三个位置上。\n",
    "所以在调用f1()的时候,函数中的i是指向3的：\n",
    "  f1():\n",
    "     return 3*3\n",
    "同理f2(), f3()结果都为9\n",
    "闭包时牢记的一点就是：返回函数不要引用任何循环变量，或者后续会发生变化的变量。即包在里面的函数（本例为f()），不\n",
    "要引用外部函数(本例为count())的任何循环变量\n",
    "\n",
    "如果一定要引入循环变量，方法是再创建一个函数，用该函数的参数绑定循环变量当前的值，无论该循环变量后续如何更改，\n",
    "已绑定到函数参数的值不变：\n",
    "```"
   ]
  },
  {
   "cell_type": "code",
   "execution_count": 50,
   "metadata": {},
   "outputs": [
    {
     "name": "stdout",
     "output_type": "stream",
     "text": [
      "1\n",
      "4\n",
      "9\n"
     ]
    }
   ],
   "source": [
    "def count():\n",
    "    fs=[]\n",
    "    for i in range(1,4):\n",
    "        def f(j):\n",
    "            def g():\n",
    "                return j*j\n",
    "            return g\n",
    "        fs.append(f(i))\n",
    "    return fs\n",
    "\n",
    "f1,f2,f3=count()\n",
    "print(f1())\n",
    "print(f2())\n",
    "print(f3())"
   ]
  }
 ],
 "metadata": {
  "kernelspec": {
   "display_name": "tf36",
   "language": "python",
   "name": "tf36"
  },
  "language_info": {
   "codemirror_mode": {
    "name": "ipython",
    "version": 3
   },
   "file_extension": ".py",
   "mimetype": "text/x-python",
   "name": "python",
   "nbconvert_exporter": "python",
   "pygments_lexer": "ipython3",
   "version": "3.6.8"
  }
 },
 "nbformat": 4,
 "nbformat_minor": 2
}
