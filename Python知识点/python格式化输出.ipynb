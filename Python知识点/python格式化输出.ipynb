{
 "cells": [
  {
   "cell_type": "markdown",
   "metadata": {},
   "source": [
    "# Python格式化输出（%用法和format用法）\n",
    "\n",
    "[Python格式化输出](https://www.cnblogs.com/plwang1990/p/3757549.html)\n",
    "\n",
    "[python基础_格式化输出（%用法和format用法）](https://www.cnblogs.com/fat39/p/7159881.html)\n",
    "\n",
    "## 1. 打印字符串"
   ]
  },
  {
   "cell_type": "code",
   "execution_count": 13,
   "metadata": {},
   "outputs": [
    {
     "name": "stdout",
     "output_type": "stream",
     "text": [
      "His name is Aviad！\n",
      "His name is Aviad！\n"
     ]
    }
   ],
   "source": [
    "print(\"His name is %s！\"%(\"Aviad\"))\n",
    "print(\"His name is {}！\".format(\"Aviad\"))"
   ]
  },
  {
   "cell_type": "markdown",
   "metadata": {},
   "source": [
    "## 2.打印整数"
   ]
  },
  {
   "cell_type": "code",
   "execution_count": 16,
   "metadata": {},
   "outputs": [
    {
     "name": "stdout",
     "output_type": "stream",
     "text": [
      "He is 25 years old.\n",
      "He is 25 years old.\n"
     ]
    }
   ],
   "source": [
    "print(\"He is %d years old.\"%(25))\n",
    "print(\"He is {} years old.\".format(25))"
   ]
  },
  {
   "cell_type": "markdown",
   "metadata": {},
   "source": [
    "## 3.打印浮点数"
   ]
  },
  {
   "cell_type": "code",
   "execution_count": 19,
   "metadata": {},
   "outputs": [
    {
     "name": "stdout",
     "output_type": "stream",
     "text": [
      "His height is 1.830000 m.\n",
      "His height is 1.83 m.\n",
      "His height is 1.830000 m.\n"
     ]
    }
   ],
   "source": [
    "print(\"His height is %f m.\"%(1.83)) # %f ——保留小数点后面六位有效数字\n",
    "print(\"His height is {} m.\".format(1.83))\n",
    "print(\"His height is {:f} m.\".format(1.83))"
   ]
  },
  {
   "cell_type": "markdown",
   "metadata": {},
   "source": [
    "## 4.打印浮点数（指定保留小数点位数）"
   ]
  },
  {
   "cell_type": "code",
   "execution_count": 11,
   "metadata": {},
   "outputs": [
    {
     "name": "stdout",
     "output_type": "stream",
     "text": [
      "His height is 1.83 m.\n",
      "His height is 1.83 m.\n",
      "His height is 1.8 m.\n"
     ]
    }
   ],
   "source": [
    "# 使用 %.2f\n",
    "\n",
    "print(\"His height is %.2f m.\"%(1.83))\n",
    "\n",
    "# 保留两位小数,使用format的{:.2f} \n",
    "\n",
    "print(\"His height is {:.2f} m.\".format(1.83))\n",
    "\n",
    "# 保留两位有效数字：使用format的{:.2}（没有f）\n",
    "\n",
    "print(\"His height is {:.2} m.\".format(1.83))"
   ]
  },
  {
   "cell_type": "markdown",
   "metadata": {},
   "source": [
    "## 5.指定占位符宽度"
   ]
  },
  {
   "cell_type": "code",
   "execution_count": 12,
   "metadata": {},
   "outputs": [
    {
     "name": "stdout",
     "output_type": "stream",
     "text": [
      "Name:     Aviad Age:      25 Height:    1.83\n",
      "Name:       Bob Age:      30 Height:    1.78\n",
      "Name:Aviad      Age:      25 Height:    1.83\n",
      "Name:Bob        Age:      30 Height:    1.78\n"
     ]
    }
   ],
   "source": [
    "print(\"Name:%10s Age:%8d Height:%8.2f\"%(\"Aviad\",25,1.83))\n",
    "print(\"Name:%10s Age:%8d Height:%8.2f\"%(\"Bob\",30,1.78))\n",
    "\n",
    "print(\"Name:{:10s} Age:{:8d} Height:{:8.2f}\".format(\"Aviad\",25,1.83))\n",
    "print(\"Name:{:10s} Age:{:8d} Height:{:8.2f}\".format(\"Bob\",30,1.78))"
   ]
  },
  {
   "cell_type": "markdown",
   "metadata": {},
   "source": [
    "## 6.指定占位符宽度（左对齐）"
   ]
  },
  {
   "cell_type": "code",
   "execution_count": 7,
   "metadata": {},
   "outputs": [
    {
     "name": "stdout",
     "output_type": "stream",
     "text": [
      "Name:Aviad      Age:25       Height:1.83    \n",
      "Name:Bob        Age:30       Height:1.78    \n"
     ]
    }
   ],
   "source": [
    "print(\"Name:%-10s Age:%-8d Height:%-8.2f\"%(\"Aviad\",25,1.83))\n",
    "print(\"Name:%-10s Age:%-8d Height:%-8.2f\"%(\"Bob\",30,1.78))"
   ]
  },
  {
   "cell_type": "markdown",
   "metadata": {},
   "source": [
    "## 7.指定占位符（只能用0当占位符？）"
   ]
  },
  {
   "cell_type": "code",
   "execution_count": 17,
   "metadata": {},
   "outputs": [
    {
     "name": "stdout",
     "output_type": "stream",
     "text": [
      "Name:Aviad      Age:00000025 Height:00001.83\n",
      "Name:Bob        Age:00000030 Height:00001.78\n"
     ]
    }
   ],
   "source": [
    "print(\"Name:%-10s Age:%08d Height:%08.2f\"%(\"Aviad\",25,1.83))\n",
    "print(\"Name:%-10s Age:%08d Height:%08.2f\"%(\"Bob\",30,1.78))"
   ]
  },
  {
   "cell_type": "markdown",
   "metadata": {},
   "source": [
    "## 8.科学计数法"
   ]
  },
  {
   "cell_type": "code",
   "execution_count": 24,
   "metadata": {},
   "outputs": [
    {
     "name": "stdout",
     "output_type": "stream",
     "text": [
      "1.50e-03\n",
      "2.789e-05\n"
     ]
    }
   ],
   "source": [
    "print(format(0.0015,'.2e')) # .2为保留两位小数，e表示采用科学计数法\n",
    "print(format(0.0000278867,'.3e'))"
   ]
  }
 ],
 "metadata": {
  "kernelspec": {
   "display_name": "tf36",
   "language": "python",
   "name": "tf36"
  },
  "language_info": {
   "codemirror_mode": {
    "name": "ipython",
    "version": 3
   },
   "file_extension": ".py",
   "mimetype": "text/x-python",
   "name": "python",
   "nbconvert_exporter": "python",
   "pygments_lexer": "ipython3",
   "version": "3.6.8"
  }
 },
 "nbformat": 4,
 "nbformat_minor": 2
}
