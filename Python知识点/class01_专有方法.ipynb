{
 "cells": [
  {
   "cell_type": "markdown",
   "metadata": {},
   "source": [
    "# python中的类，对象，方法，属性初认识（一）\n",
    "\n",
    "**参考：https://blog.csdn.net/brucewong0516/article/details/79114977**\n",
    "\n",
    "面向对象编程需要使用类，类和实例息息相关，有了类之后我们必须创建一个实例，这样才能调用类的方法。首先看一下类的结构模式：\n",
    "\n",
    "- 类的私有属性：`__private_attrs` 两个下划线开头，声明该属性为私有，不能在类地外部被使用或直接访问。在类内部的方法中使用时 `self.__private_attrs`\n",
    "- 类的方法：在类的内部，使用def关键字可以为类定义一个方法，与一般函数定义不同，类方法必须包含参数self,且为第一个参数\n",
    "\n",
    "类的专有方法：\n",
    "\n",
    "```\n",
    "__init__       构造函数，在生成对象时调用\n",
    "__del__        析构函数，释放对象时使用\n",
    "__repr__       打印，转换\n",
    "__setitem__    按照索引赋值\n",
    "__getitem__    按照索引获取值\n",
    "__len__        获得长度\n",
    "__cmp__        比较运算\n",
    "__call__       函数调用\n",
    "__add__        加运算\n",
    "__sub__        减运算\n",
    "__mul__        乘运算\n",
    "__div__        除运算\n",
    "__mod__        求余运算\n",
    "__pow__        乘方\n",
    "```"
   ]
  },
  {
   "cell_type": "code",
   "execution_count": 4,
   "metadata": {},
   "outputs": [
    {
     "name": "stdout",
     "output_type": "stream",
     "text": [
      "3.1 4\n"
     ]
    }
   ],
   "source": [
    "class Complex():\n",
    "    def __init__(self,realpart,imagpart):\n",
    "        self.r = realpart\n",
    "        self.i = imagpart\n",
    "        \n",
    "c1 = Complex(3.1,4)\n",
    "print(c1.r,c1.i)"
   ]
  },
  {
   "cell_type": "code",
   "execution_count": 10,
   "metadata": {},
   "outputs": [
    {
     "name": "stdout",
     "output_type": "stream",
     "text": [
      "<__main__.person object at 0x7fe359a8beb8>\n",
      "Bruce is 25 years old, weights 60\n"
     ]
    }
   ],
   "source": [
    "# -*- coding: utf-8 -*-\n",
    "\"\"\"\n",
    "Created on Sun Jan 21 00:31:07 2018\n",
    "类的定义构建\n",
    "@author: \n",
    "\"\"\"\n",
    "#构建person的类\n",
    "class person():\n",
    "#     name = ''       #首先定义一下变量,不初始化也可以\n",
    "#     age = 0\n",
    "#     __weight = 0\n",
    "    def __init__(self,name,age,weight):     #初始化变量\n",
    "        self.name = name    #重新给类的name变量赋值，并可以全局调用\n",
    "        self.age = age\n",
    "        self.__weight = weight\n",
    "    def infoma(self):      #定义infoma函数\n",
    "        print('%s is %s years old, weights %s'%(self.name,self.age,self.__weight))\n",
    "        \n",
    "person = person('Bruce',25,60)   #将变量赋值给person类实例化\n",
    "print(person)\n",
    "info = person.infoma()   #调用person类的infoma函数方法"
   ]
  },
  {
   "cell_type": "markdown",
   "metadata": {},
   "source": [
    "### 通过使用类的内置方法进行方法的构造："
   ]
  },
  {
   "cell_type": "code",
   "execution_count": 17,
   "metadata": {},
   "outputs": [
    {
     "name": "stdout",
     "output_type": "stream",
     "text": [
      "<class 'type'>\n",
      "<slot wrapper '__repr__' of 'object' objects>\n",
      "<__main__.person object at 0x7fe359a19da0>\n",
      "Bruce is 25 years old, weights 60\n",
      "625\n",
      "5\n",
      "85\n",
      "doc is None\n",
      "dir is <built-in method __dir__ of person object at 0x7fe359a19da0>\n",
      "delatter is <method-wrapper '__delattr__' of person object at 0x7fe359a19da0>\n",
      "gt is <method-wrapper '__gt__' of person object at 0x7fe359a19da0>\n",
      "hash is <method-wrapper '__hash__' of person object at 0x7fe359a19da0>\n",
      "init is <bound method person.__init__ of <__main__.person object at 0x7fe359a19da0>>\n",
      "new is <built-in method __new__ of type object at 0x9ee620>\n"
     ]
    }
   ],
   "source": [
    "# -*- coding: utf-8 -*-\n",
    "\"\"\"\n",
    "Created on Sun Jan 21 00:31:07 2018\n",
    "类的定义构建\n",
    "@author: \n",
    "\"\"\"\n",
    "\n",
    "class person():\n",
    "    def __init__(self,name,age,weight):\n",
    "        self.name = name\n",
    "        self.age = age\n",
    "        self.__weight = weight\n",
    "    def __pow__(self):\n",
    "        pow_age = self.age.__pow__(2)\n",
    "        print(pow_age)\n",
    "    def __len__(self):\n",
    "        name_del = self.name.__len__()\n",
    "        print(name_del)\n",
    "    def __add__(self):\n",
    "        adds = self.age.__add__(self.__weight)\n",
    "        print(adds)\n",
    "    def infoma(self):\n",
    "        print('%s is %s years old, weights %s'%(self.name,self.age,self.__weight))\n",
    "print(person.__class__)\n",
    "print(person.__repr__)\n",
    "\n",
    "\n",
    "\n",
    "person = person('Bruce',25,60)\n",
    "print(person)\n",
    "infoma = person.infoma()\n",
    "cmp = person.__pow__()\n",
    "lens = person.__len__()\n",
    "adds = person.__add__()\n",
    "print('doc is %s'%person.__doc__)\n",
    "print('dir is %s'%person.__dir__)\n",
    "print('delatter is %s'%person.__delattr__)\n",
    "print('gt is %s'%person.__gt__)\n",
    "print('hash is %s'%person.__hash__)\n",
    "print('init is %s'%person.__init__)\n",
    "print('new is %s'%person.__new__)"
   ]
  },
  {
   "cell_type": "markdown",
   "metadata": {},
   "source": [
    "# [Python——类的专有方法](https://blog.csdn.net/qq_41573234/article/details/82316207)\n",
    "\n",
    "# 1.`__str__`\n",
    "\n",
    "定义一个 Student 类："
   ]
  },
  {
   "cell_type": "code",
   "execution_count": 6,
   "metadata": {},
   "outputs": [
    {
     "name": "stdout",
     "output_type": "stream",
     "text": [
      "<__main__.Student object at 0x7fbdfb30b710>\n"
     ]
    }
   ],
   "source": [
    "class Student(object):\n",
    "    def __init__(self, name):\n",
    "        self.name = name\n",
    "\n",
    "print(Student('zth'))"
   ]
  },
  {
   "cell_type": "markdown",
   "metadata": {},
   "source": [
    "- 1、由代码可以看出如果直接输出一个类的实例的话，得到的是一个特殊的字符串(程序开发者所用的)\n",
    "- 2、如果要把一个类的实例变成str，就需要实现特殊方法`__str__( )`方法\n",
    "- 3、`__str__`方法必须要return一个字符串类型的返回值，作为对实例对象的字符串描述"
   ]
  },
  {
   "cell_type": "code",
   "execution_count": 10,
   "metadata": {},
   "outputs": [
    {
     "name": "stdout",
     "output_type": "stream",
     "text": [
      "学生的姓名：zth\n"
     ]
    },
    {
     "data": {
      "text/plain": [
       "<__main__.Student at 0x7fbdfb30b908>"
      ]
     },
     "execution_count": 10,
     "metadata": {},
     "output_type": "execute_result"
    }
   ],
   "source": [
    "class Student(object):\n",
    "    def __init__(self,name):\n",
    "        self.name = name\n",
    "    def __str__(self):\n",
    "        return \"学生的姓名：%s\"%(self.name)\n",
    "\n",
    "s = Student('zth')\n",
    "print(s)\n",
    "s"
   ]
  },
  {
   "cell_type": "markdown",
   "metadata": {},
   "source": [
    "最后直接输入s不显示“学生的姓名：zth”，原因是直接显示变量的时候，调用的不是  `__str__()` ,而是 `__repr__()`，两者的区别在于`__str__()` 返回用户看到的字符串，而 `__repr__()` 返回程序开发者看到的字符串。也就是`__repr__()` 是为调试服务的。\n",
    "\n",
    "解决办法是再定义一个`__repr__`。通常`__str__()` 和 `__repr__()` 代码是一样的，可以如下简写："
   ]
  },
  {
   "cell_type": "code",
   "execution_count": 11,
   "metadata": {},
   "outputs": [
    {
     "name": "stdout",
     "output_type": "stream",
     "text": [
      "学生的姓名：zth\n"
     ]
    },
    {
     "data": {
      "text/plain": [
       "学生的姓名：zth"
      ]
     },
     "execution_count": 11,
     "metadata": {},
     "output_type": "execute_result"
    }
   ],
   "source": [
    "class Student(object):\n",
    "    def __init__(self,name):\n",
    "        self.name = name\n",
    "    def __str__(self):\n",
    "        return \"学生的姓名：%s\"%(self.name)\n",
    "    __repr__ = __str__\n",
    "\n",
    "s = Student('zth')\n",
    "print(s)\n",
    "s"
   ]
  },
  {
   "cell_type": "markdown",
   "metadata": {},
   "source": [
    "# 2. `__iter__`\n",
    "如果想要将一个类用于 for ... in 循环，类似 list 或 tuple 一样，就必须实现一个`__iter__()`  方法。该方法返回一个迭代对象，Python 的 for  循环会不断调用该迭代对象的  `__next__()`  方法，获得循环的下一个值，直到遇到 StopIteration 错误时退出循环。\n",
    "\n",
    "如下：一个作用于 for 循环的斐波那契数列类："
   ]
  },
  {
   "cell_type": "code",
   "execution_count": 5,
   "metadata": {},
   "outputs": [
    {
     "name": "stdout",
     "output_type": "stream",
     "text": [
      "1\n",
      "1\n",
      "2\n",
      "3\n",
      "5\n",
      "8\n",
      "13\n",
      "21\n",
      "34\n",
      "55\n",
      "89\n"
     ]
    }
   ],
   "source": [
    "class Fib(object):\n",
    "    def __init__(self):\n",
    "        self.a , self.b = 0,1           # 初始化两个计数器 a、b\n",
    "        \n",
    "    def __iter__(self):\n",
    "        return self                     # 实例本身就是迭代对象。故返回自己\n",
    "    \n",
    "    def __next__(self):\n",
    "        self.a ,self.b = self.b ,self.a+self.b      # 计算下一个值\n",
    "        if self.a > 100:                 # 退出循环的条件\n",
    "            raise StopIteration();\n",
    "        return self.a                   # 返回下一值\n",
    "    \n",
    "for n in Fib(): # Fib()是一个迭代对象\n",
    "    print(n)"
   ]
  },
  {
   "cell_type": "code",
   "execution_count": 12,
   "metadata": {},
   "outputs": [
    {
     "data": {
      "text/plain": [
       "<__main__.Fib at 0x7fbdfaa8f400>"
      ]
     },
     "execution_count": 12,
     "metadata": {},
     "output_type": "execute_result"
    }
   ],
   "source": [
    "Fib()"
   ]
  },
  {
   "cell_type": "markdown",
   "metadata": {},
   "source": [
    "# 3. `__getitem__`\n",
    "Fib 实例虽然能够作用于 for 循环，和 list 有点像，但是不能将它当成 list 使用。比如取第3个元素：\n",
    "\n",
    "```shell\n",
    "Fib()[3]\n",
    "\n",
    "---------------------------------------------------------------------------\n",
    "TypeError                                 Traceback (most recent call last)\n",
    "<ipython-input-13-0b840ba97306> in <module>()\n",
    "----> 1 Fib()[3]\n",
    "\n",
    "TypeError: 'Fib' object does not support indexing\n",
    "```\n",
    "\n",
    "若要像list一样按照索引来获取元素，需要实现`__getitem__()`方法"
   ]
  },
  {
   "cell_type": "code",
   "execution_count": 17,
   "metadata": {},
   "outputs": [
    {
     "data": {
      "text/plain": [
       "2"
      ]
     },
     "execution_count": 17,
     "metadata": {},
     "output_type": "execute_result"
    }
   ],
   "source": [
    "class Fib(object):\n",
    "    def __getitem__(self,n):\n",
    "        a = 0\n",
    "        b = 1\n",
    "        for _ in range(n):\n",
    "            a,b = b,a+b\n",
    "        return a\n",
    "\n",
    "\n",
    "fib = Fib()\n",
    "\n",
    "fib[3]"
   ]
  },
  {
   "cell_type": "markdown",
   "metadata": {},
   "source": [
    "# 4. `__getattr__`\n",
    "正常情况下，调用类的方法或属性时，如果类的方法或属性不存在就会报错。\n",
    "\n",
    "定义Student类："
   ]
  },
  {
   "cell_type": "code",
   "execution_count": 19,
   "metadata": {},
   "outputs": [
    {
     "name": "stdout",
     "output_type": "stream",
     "text": [
      "zth\n"
     ]
    }
   ],
   "source": [
    "class Student(object):\n",
    "    def __init__(self):\n",
    "        self.name = 'zth'\n",
    "\n",
    "s = Student()\n",
    "print(s.name)\n",
    "# print(s.age) #报错 AttributeError: 'Student' object has no attribute 'age'"
   ]
  },
  {
   "cell_type": "markdown",
   "metadata": {},
   "source": [
    "要避免这个错误，除了可以添加一个score属性外，Python还提供了另一种机制，就是写一个`__getattr__()`方法，动态返回一个属性。\n",
    "\n",
    "注意，只有在没有找到属性的情况下才调用`__getattr__`，已有的属性（如name），不会在`__getattr__`中查找。此外，如果所有调用都会返回None（如stu.abc），就是定义的`__getattr__`，返回None。"
   ]
  },
  {
   "cell_type": "code",
   "execution_count": 21,
   "metadata": {},
   "outputs": [
    {
     "name": "stdout",
     "output_type": "stream",
     "text": [
      "zth\n",
      "20\n",
      "None\n"
     ]
    }
   ],
   "source": [
    "class Student(object):\n",
    "    def __init__(self):\n",
    "        self.name = 'zth'\n",
    "    def __getattr__(self,attr):\n",
    "        if attr == 'age':\n",
    "            return 20\n",
    "        else:\n",
    "            return None\n",
    "\n",
    "s = Student()\n",
    "print(s.name)\n",
    "print(s.age)\n",
    "print(s.weight)"
   ]
  },
  {
   "cell_type": "markdown",
   "metadata": {},
   "source": [
    "5. `__call__`\n",
    " \n",
    "\n",
    "一个对象实例可以有自己的属性和方法，调用实例的方法时使用  `instance.method()`  调用。能不能直接在实例本身调用`instance()`如`s()`，答案是可以的。\n",
    "\n",
    "任何类，只需要定义一个`__call__()`方法，就可以直接对实例进行调用:"
   ]
  },
  {
   "cell_type": "code",
   "execution_count": 24,
   "metadata": {},
   "outputs": [
    {
     "name": "stdout",
     "output_type": "stream",
     "text": [
      "姓名：zth\n"
     ]
    }
   ],
   "source": [
    "class Student(object):\n",
    "    def __init__(self,name):\n",
    "        self.name = name\n",
    "    def __call__(self):\n",
    "        print(\"姓名：%s\"%(self.name))\n",
    "\n",
    "s = Student('zth')\n",
    "s()"
   ]
  },
  {
   "cell_type": "markdown",
   "metadata": {},
   "source": [
    "`__call__()` 还可以定义参数。对实例进行直接调用就像对一个函数调用一样，完全可以把对象看成函数，把函数看成对象。如果把对象看成函数，函数本身就可以在运行期间动态创建出来，因为类的实例都是运行期间创建出来的。 \n",
    "判断一个对象能否被调用，可以使用Callable()函数，比如函数和上面定义带有`__call__()`的类实例。"
   ]
  },
  {
   "cell_type": "code",
   "execution_count": 25,
   "metadata": {},
   "outputs": [
    {
     "data": {
      "text/plain": [
       "True"
      ]
     },
     "execution_count": 25,
     "metadata": {},
     "output_type": "execute_result"
    }
   ],
   "source": [
    "callable(Student('zth'))"
   ]
  },
  {
   "cell_type": "code",
   "execution_count": 26,
   "metadata": {},
   "outputs": [
    {
     "data": {
      "text/plain": [
       "True"
      ]
     },
     "execution_count": 26,
     "metadata": {},
     "output_type": "execute_result"
    }
   ],
   "source": [
    "callable(max)"
   ]
  },
  {
   "cell_type": "code",
   "execution_count": 27,
   "metadata": {},
   "outputs": [
    {
     "data": {
      "text/plain": [
       "False"
      ]
     },
     "execution_count": 27,
     "metadata": {},
     "output_type": "execute_result"
    }
   ],
   "source": [
    "callable([1,3,5])"
   ]
  },
  {
   "cell_type": "markdown",
   "metadata": {},
   "source": [
    "# 6. getattr()：\n",
    "getattr( ) 函数用于返回一个对象指定的属性值。如果指定的属性不存在，则返回default的值，若没有设置default参数，则抛出AttributeError异常。以下为该函数的语法：\n",
    "```\n",
    "getattr(object, name[, default])\n",
    " \n",
    "object -- 对象\n",
    " \n",
    "name -- 字符串，对象属性。\n",
    " \n",
    "default -- 默认返回值，如果不提供该参数，在没有对应属性时，将触发 AttributeError。\n",
    " \n",
    "返回值：返回对象属性值。\n",
    "```"
   ]
  },
  {
   "cell_type": "code",
   "execution_count": 28,
   "metadata": {},
   "outputs": [
    {
     "data": {
      "text/plain": [
       "'zth'"
      ]
     },
     "execution_count": 28,
     "metadata": {},
     "output_type": "execute_result"
    }
   ],
   "source": [
    "getattr(s ,'name')"
   ]
  },
  {
   "cell_type": "code",
   "execution_count": 30,
   "metadata": {},
   "outputs": [
    {
     "data": {
      "text/plain": [
       "5"
      ]
     },
     "execution_count": 30,
     "metadata": {},
     "output_type": "execute_result"
    }
   ],
   "source": [
    "getattr(s ,'class',5)"
   ]
  },
  {
   "cell_type": "markdown",
   "metadata": {},
   "source": [
    "```\n",
    "getattr(s,'class')\n",
    "\n",
    "---------------------------------------------------------------------------\n",
    "AttributeError                            Traceback (most recent call last)\n",
    "<ipython-input-32-90f7fbca136e> in <module>()\n",
    "----> 1 getattr(s,'class')\n",
    "\n",
    "AttributeError: 'Student' object has no attribute 'class'\n",
    "```\n"
   ]
  },
  {
   "cell_type": "markdown",
   "metadata": {},
   "source": [
    "# 7 . setattr()\n",
    "setattr( )函数对应函数getatt()，用于设置指定属性的值，若指定的属性不存在则新建属性并赋值。以下为该函数的语法：\n",
    "```\n",
    "setattr(object, name, value)\n",
    " \n",
    "object -- 对象。\n",
    " \n",
    "name -- 字符串，对象属性。\n",
    " \n",
    "value -- 属性值。\n",
    " \n",
    "返回值:无\n",
    "```"
   ]
  },
  {
   "cell_type": "code",
   "execution_count": 44,
   "metadata": {},
   "outputs": [
    {
     "name": "stdout",
     "output_type": "stream",
     "text": [
      "en\n",
      "20\n"
     ]
    }
   ],
   "source": [
    "class People():\n",
    "    name = 'zth'\n",
    "\n",
    "a=People()\n",
    "\n",
    "setattr(a, 'name','en')\n",
    "setattr(a,'age',20)\n",
    "print(getattr(a,'name'))\n",
    "print(a.age)"
   ]
  },
  {
   "cell_type": "markdown",
   "metadata": {},
   "source": [
    "# 8.  delattr()\n",
    "delattr( )函数用于删除属性,若属性不存在则抛出 AttributeError 异常。以下为该函数的语法：\n",
    "```\n",
    "delattr(object, name)\n",
    "object -- 类名。(这个要使用类名)\n",
    "name -- 必须是对象的属性。\n",
    "返回值:无\n",
    "delattr(x, 'foobar') 相等于 del x.foobar\n",
    "```"
   ]
  },
  {
   "cell_type": "code",
   "execution_count": 63,
   "metadata": {},
   "outputs": [],
   "source": [
    "class People():\n",
    "    name = 'zth'\n",
    "    age = 20\n",
    "\n",
    "a=People()\n",
    "\n",
    "delattr(People, 'name') #使用类名People进行删除，不能用a，会报错AttributeError\n",
    "# a.name #AttributeError: 'People' object has no attribute 'name'\n",
    "\n",
    "del People.age\n",
    "# a.age #AttributeError: 'Student' object has no attribute 'age'"
   ]
  },
  {
   "cell_type": "code",
   "execution_count": 64,
   "metadata": {},
   "outputs": [
    {
     "data": {
      "text/plain": [
       "['__class__',\n",
       " '__delattr__',\n",
       " '__dict__',\n",
       " '__dir__',\n",
       " '__doc__',\n",
       " '__eq__',\n",
       " '__format__',\n",
       " '__ge__',\n",
       " '__getattribute__',\n",
       " '__gt__',\n",
       " '__hash__',\n",
       " '__init__',\n",
       " '__init_subclass__',\n",
       " '__le__',\n",
       " '__lt__',\n",
       " '__module__',\n",
       " '__ne__',\n",
       " '__new__',\n",
       " '__reduce__',\n",
       " '__reduce_ex__',\n",
       " '__repr__',\n",
       " '__setattr__',\n",
       " '__sizeof__',\n",
       " '__str__',\n",
       " '__subclasshook__',\n",
       " '__weakref__']"
      ]
     },
     "execution_count": 64,
     "metadata": {},
     "output_type": "execute_result"
    }
   ],
   "source": [
    "dir(People)"
   ]
  }
 ],
 "metadata": {
  "kernelspec": {
   "display_name": "Python 3 (Ubuntu Linux)",
   "language": "python",
   "name": "python3"
  },
  "language_info": {
   "codemirror_mode": {
    "name": "ipython",
    "version": 3
   },
   "file_extension": ".py",
   "mimetype": "text/x-python",
   "name": "python",
   "nbconvert_exporter": "python",
   "pygments_lexer": "ipython3",
   "version": "3.6.8"
  }
 },
 "nbformat": 4,
 "nbformat_minor": 2
}
