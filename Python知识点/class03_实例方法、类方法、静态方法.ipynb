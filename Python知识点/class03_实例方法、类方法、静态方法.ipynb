{
 "cells": [
  {
   "cell_type": "markdown",
   "metadata": {},
   "source": [
    "# 详解类class的方法：实例方法、类方法、静态方法（三）\n",
    "\n",
    "参考：https://blog.csdn.net/brucewong0516/article/details/79119551\n",
    "\n",
    "在一个类中，可能出现三种方法，实例方法、静态方法和类方法，下面来看看三种方法的不同：\n",
    "\n",
    "## 1、实例方法\n",
    "\n",
    "实例方法的第一个参数必须是”self”，实例方法只能通过类实例进行调用，这时候“self”就代表这个类实例本身。通过”self”可以直接访问实例的属性。"
   ]
  },
  {
   "cell_type": "code",
   "execution_count": 1,
   "metadata": {},
   "outputs": [
    {
     "name": "stdout",
     "output_type": "stream",
     "text": [
      "Bruce is 25 weights 60\n"
     ]
    }
   ],
   "source": [
    "class person():\n",
    "    '''\n",
    "    this is doc of class\n",
    "    write doc contents here\n",
    "    '''\n",
    "    height = 180\n",
    "    hobbies = []\n",
    "    def __init__(self,name,age,weight):\n",
    "        self.name = name\n",
    "        self.age = age\n",
    "        self.weight = weight\n",
    "    def infoma(self):\n",
    "        print('%s is %s weights %s'%(self.name,self.age,self.weight))\n",
    "\n",
    "\n",
    "Bruce = person('Bruce',25,60)\n",
    "Bruce.infoma()"
   ]
  },
  {
   "cell_type": "markdown",
   "metadata": {},
   "source": [
    "## 2、类方法\n",
    "\n",
    "类方法以cls作为第一个参数，cls表示类本身，定义时使用@classmethod装饰器。通过cls可以访问类的相关属性。"
   ]
  },
  {
   "cell_type": "code",
   "execution_count": 3,
   "metadata": {},
   "outputs": [],
   "source": [
    "class person(object):\n",
    "\n",
    "    height = 180\n",
    "    hobbies = []\n",
    "    def __init__(self, name, age,weight):\n",
    "        self.name = name\n",
    "        self.age = age\n",
    "        self.weight = weight\n",
    "    @classmethod     #类的装饰器\n",
    "    def infoma(cls):   #cls表示类本身，使用类参数cls\n",
    "        print(cls.__name__)\n",
    "        print(dir(cls))"
   ]
  },
  {
   "cell_type": "markdown",
   "metadata": {},
   "source": [
    "直接调用类的装饰器函数，通过cls可以访问类的相关属性"
   ]
  },
  {
   "cell_type": "code",
   "execution_count": 5,
   "metadata": {},
   "outputs": [
    {
     "name": "stdout",
     "output_type": "stream",
     "text": [
      "person\n",
      "['__class__', '__delattr__', '__dict__', '__dir__', '__doc__', '__eq__', '__format__', '__ge__', '__getattribute__', '__gt__', '__hash__', '__init__', '__init_subclass__', '__le__', '__lt__', '__module__', '__ne__', '__new__', '__reduce__', '__reduce_ex__', '__repr__', '__setattr__', '__sizeof__', '__str__', '__subclasshook__', '__weakref__', 'height', 'hobbies', 'infoma']\n"
     ]
    }
   ],
   "source": [
    "person.infoma()  "
   ]
  },
  {
   "cell_type": "markdown",
   "metadata": {},
   "source": [
    "也可以通过两步骤来实现，第一步实例化person，第二步调用装饰器"
   ]
  },
  {
   "cell_type": "code",
   "execution_count": 6,
   "metadata": {},
   "outputs": [
    {
     "name": "stdout",
     "output_type": "stream",
     "text": [
      "person\n",
      "['__class__', '__delattr__', '__dict__', '__dir__', '__doc__', '__eq__', '__format__', '__ge__', '__getattribute__', '__gt__', '__hash__', '__init__', '__init_subclass__', '__le__', '__lt__', '__module__', '__ne__', '__new__', '__reduce__', '__reduce_ex__', '__repr__', '__setattr__', '__sizeof__', '__str__', '__subclasshook__', '__weakref__', 'height', 'hobbies', 'infoma']\n"
     ]
    }
   ],
   "source": [
    "Bruce = person(\"Bruce\", 25,180)\n",
    "Bruce.infoma() "
   ]
  },
  {
   "cell_type": "markdown",
   "metadata": {},
   "source": [
    "**类方法可以通过类名访问，也可以通过实例访问**\n",
    "\n",
    "## 3、静态方法\n",
    "\n",
    "与实例方法和类方法不同，静态方法没有参数限制，既不需要实例参数，也不需要类参数，定义的时候使用@staticmethod装饰器。\n",
    "同类方法一样，静态法可以通过类名访问，也可以通过实例访问。"
   ]
  },
  {
   "cell_type": "code",
   "execution_count": 7,
   "metadata": {},
   "outputs": [],
   "source": [
    "class person(object):\n",
    "\n",
    "    tall = 180\n",
    "    hobbies = []\n",
    "    def __init__(self, name, age,weight):\n",
    "        self.name = name\n",
    "        self.age = age\n",
    "        self.weight = weight\n",
    "    @staticmethod    #静态方法装饰器\n",
    "    def infoma():     #没有参数限制，既不要实例参数，也不用类参数\n",
    "        print(person.tall)\n",
    "        print(person.hobbies)  "
   ]
  },
  {
   "cell_type": "code",
   "execution_count": 8,
   "metadata": {},
   "outputs": [
    {
     "name": "stdout",
     "output_type": "stream",
     "text": [
      "180\n",
      "[]\n"
     ]
    }
   ],
   "source": [
    "person.infoma()   #静态法可以通过类名访问"
   ]
  },
  {
   "cell_type": "code",
   "execution_count": 9,
   "metadata": {},
   "outputs": [
    {
     "name": "stdout",
     "output_type": "stream",
     "text": [
      "180\n",
      "[]\n"
     ]
    }
   ],
   "source": [
    "Bruce = person(\"Bruce\", 25,180)   #通过实例访问\n",
    "Bruce.infoma() "
   ]
  },
  {
   "cell_type": "markdown",
   "metadata": {},
   "source": [
    "这三种方法的主要区别在于参数，实例方法被绑定到一个实例，只能通过实例进行调用；但是对于静态方法和类方法，可以通过类名和实例两种方式进行调用。"
   ]
  }
 ],
 "metadata": {
  "kernelspec": {
   "display_name": "Python 3 (Ubuntu Linux)",
   "language": "python",
   "name": "python3"
  },
  "language_info": {
   "codemirror_mode": {
    "name": "ipython",
    "version": 3
   },
   "file_extension": ".py",
   "mimetype": "text/x-python",
   "name": "python",
   "nbconvert_exporter": "python",
   "pygments_lexer": "ipython3",
   "version": "3.6.8"
  }
 },
 "nbformat": 4,
 "nbformat_minor": 2
}
