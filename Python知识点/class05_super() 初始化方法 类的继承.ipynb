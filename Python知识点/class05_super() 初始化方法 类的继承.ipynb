{
 "cells": [
  {
   "cell_type": "markdown",
   "metadata": {},
   "source": [
    "参考：\n",
    "\n",
    "[【python】详解类class的继承、__init__初始化、super方法（五）](https://blog.csdn.net/brucewong0516/article/details/79121179)"
   ]
  },
  {
   "cell_type": "markdown",
   "metadata": {},
   "source": [
    "# python super()\n",
    "\n",
    "super() 函数是用于调用父类(超类)的一个方法。\n",
    "\n",
    "super 是用来解决多重继承问题的，直接用类名调用父类方法在使用单继承的时候没问题，但是如果使用多继承，会涉及到查找顺序（MRO）、重复调用（钻石继承）等种种问题。\n",
    "\n",
    "MRO 就是类的方法解析顺序表, 其实也就是继承父类方法时的顺序表。\n",
    "\n",
    "`super(type[, object-or-type])`\n",
    "\n",
    "- type -- 类。\n",
    "- object-or-type -- 类，一般是 self\n",
    "\n",
    "Python3.x 和 Python2.x 的一个区别是: \n",
    "\n",
    "**Python 3 可以使用直接使用 super().xxx 代替 super(Class, self).xxx** :"
   ]
  },
  {
   "cell_type": "code",
   "execution_count": 8,
   "metadata": {},
   "outputs": [
    {
     "name": "stdout",
     "output_type": "stream",
     "text": [
      "3\n"
     ]
    }
   ],
   "source": [
    "class A:\n",
    "     def add(self, x):\n",
    "        y = x+1\n",
    "        print(y)\n",
    "class B(A):\n",
    "    def add(self, x):\n",
    "        super(B,self).add(x)\n",
    "#         super().add(x) #同样效果\n",
    "b = B()\n",
    "b.add(2)  # 3"
   ]
  },
  {
   "cell_type": "markdown",
   "metadata": {},
   "source": [
    "python2:\n",
    "\n",
    "```python2\n",
    "#!/usr/bin/python\n",
    "# -*- coding: UTF-8 -*-\n",
    " \n",
    "class A(object):   # Python2.x 记得继承 object\n",
    "    def add(self, x):\n",
    "         y = x+1\n",
    "         print y\n",
    "class B(A):\n",
    "    def add(self, x):\n",
    "        super(B, self).add(x)\n",
    "b = B()\n",
    "b.add(2)  # 3\n",
    "```"
   ]
  },
  {
   "cell_type": "markdown",
   "metadata": {},
   "source": [
    "以下展示了使用 super 函数的实例："
   ]
  },
  {
   "cell_type": "code",
   "execution_count": 3,
   "metadata": {},
   "outputs": [
    {
     "name": "stdout",
     "output_type": "stream",
     "text": [
      "Parent\n",
      "Child\n",
      "HelloWorld from Parent\n",
      "Child bar fuction\n",
      "I'm the parent.\n"
     ]
    }
   ],
   "source": [
    "#!/usr/bin/python\n",
    "# -*- coding: UTF-8 -*-\n",
    " \n",
    "class FooParent:\n",
    "    def __init__(self):\n",
    "        self.parent = 'I\\'m the parent.'\n",
    "        print ('Parent')\n",
    "    \n",
    "    def bar(self,message):\n",
    "        print (\"%s from Parent\" % message)\n",
    "\n",
    "class FooChild(FooParent):\n",
    "    def __init__(self):\n",
    "        # super(FooChild,self) 首先找到 FooChild 的父类（就是类 FooParent），然后把类 FooChild 的对象转换为类 FooParent 的对象\n",
    "        super(FooChild,self).__init__()\n",
    "        print ('Child')\n",
    "        \n",
    "    def bar(self,message):\n",
    "        super(FooChild, self).bar(message)\n",
    "        print ('Child bar fuction')\n",
    "        print (self.parent)\n",
    "        \n",
    "if __name__ == '__main__':\n",
    "    fooChild = FooChild()\n",
    "    fooChild.bar('HelloWorld')"
   ]
  },
  {
   "cell_type": "markdown",
   "metadata": {},
   "source": [
    "## 构造方法、构造函数、初始化函数 `__init__`\n",
    "\n",
    "我们在学习 Python 类的时候，总会碰见书上的类中有 `__init__()` 这样一个函数，很多同学百思不得其解，其实它就是 Python 的构造方法。\n",
    "\n",
    "构造方法类似于类似 init() 这种初始化方法，来初始化新创建对象的状态，在一个对象呗创建以后会立即调用，比如像实例化一个类：\n",
    "\n",
    "实例化一个类：\n",
    "```\n",
    "f = FooBar()\n",
    "f.init()\n",
    "```\n",
    "使用构造方法就能让它简化成如下形式：\n",
    "```\n",
    "f = FooBar()\n",
    "```"
   ]
  },
  {
   "cell_type": "code",
   "execution_count": 1,
   "metadata": {},
   "outputs": [
    {
     "data": {
      "text/plain": [
       "42"
      ]
     },
     "execution_count": 1,
     "metadata": {},
     "output_type": "execute_result"
    }
   ],
   "source": [
    "class FooBar:\n",
    "    def __init__(self):\n",
    "        self.somevar = 42\n",
    "\n",
    "f = FooBar()\n",
    "f.somevar"
   ]
  },
  {
   "cell_type": "markdown",
   "metadata": {},
   "source": [
    "我们会发现在初始化 FooBar 中的 somevar 的值为 42 之后，实例化直接就能够调用 somevar 的值；如果说你没有用构造方法初始化值得话，就不能够调用，\n",
    "\n",
    "**构造方法中的初始值无法继承的问题。**"
   ]
  },
  {
   "cell_type": "code",
   "execution_count": 9,
   "metadata": {},
   "outputs": [
    {
     "name": "stdout",
     "output_type": "stream",
     "text": [
      "Squawk\n"
     ]
    }
   ],
   "source": [
    "class Bird:\n",
    "    def __init__(self):\n",
    "          self.hungry = True\n",
    "    def eat(self):\n",
    "        if self.hungry:\n",
    "            print 'Ahahahah'\n",
    "        else:\n",
    "            print 'No thanks!'\n",
    "\n",
    "class SongBird(Bird):\n",
    "    def __init__(self):\n",
    "        self.sound = 'Squawk'\n",
    "    def sing(self):\n",
    "        print self.sound\n",
    "\n",
    "sb = SongBird()\n",
    "sb.sing()    # 能正常输出\n",
    "# sb.eat()     # 报错，因为 songgird 中没有 hungry 特性"
   ]
  }
 ],
 "metadata": {
  "kernelspec": {
   "display_name": "Python 2 (system-wide)",
   "language": "python",
   "name": "python2"
  },
  "language_info": {
   "codemirror_mode": {
    "name": "ipython",
    "version": 2
   },
   "file_extension": ".py",
   "mimetype": "text/x-python",
   "name": "python",
   "nbconvert_exporter": "python",
   "pygments_lexer": "ipython2",
   "version": "2.7.15+"
  }
 },
 "nbformat": 4,
 "nbformat_minor": 2
}
