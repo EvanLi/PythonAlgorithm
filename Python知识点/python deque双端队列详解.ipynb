{
 "cells": [
  {
   "cell_type": "markdown",
   "metadata": {},
   "source": [
    "# python deque（双端队列）详解\n",
    "\n",
    "deque的英文意思是Double-Ended Queue，从字面的意思来看，他就是一个双向队列。\n",
    "\n",
    "deque模块是python标准库collections中的一项，它提供了两端都可以操作的序列，这意味着，在序列的前后你都可以执行添加或删除操作。\n",
    "\n",
    "参考官方文档\n",
    "\n",
    "- [collections — Container datatypes： collections.deque](https://docs.python.org/3/library/collections.html#collections.deque)\n",
    "- [collections --- 容器数据类型： collections.deque](https://docs.python.org/zh-cn/3/library/collections.html)\n",
    "\n",
    "## 介绍\n",
    "\n",
    "```\n",
    "双向队列(deque)对象支持以下方法：\n",
    "\n",
    "append(x)\n",
    "添加 x 到右端。\n",
    "\n",
    "appendleft(x)\n",
    "添加 x 到左端。\n",
    "\n",
    "clear()\n",
    "移除所有元素，使其长度为0.\n",
    "\n",
    "copy()\n",
    "创建一份浅拷贝。\n",
    "\n",
    "3.5 新版功能.\n",
    "\n",
    "count(x)\n",
    "计算deque中个数等于 x 的元素。\n",
    "\n",
    "3.2 新版功能.\n",
    "\n",
    "extend(iterable)\n",
    "扩展deque的右侧，通过添加iterable参数中的元素。\n",
    "\n",
    "extendleft(iterable)\n",
    "扩展deque的左侧，通过添加iterable参数中的元素。注意，左添加时，在结果中iterable参数中的顺序将被反过来添加。\n",
    "\n",
    "index(x[, start[, stop]])\n",
    "返回第 x 个元素（从 start 开始计算，在 stop 之前）。返回第一个匹配，如果没找到的话，升起 ValueError 。\n",
    "\n",
    "3.5 新版功能.\n",
    "\n",
    "insert(i, x)\n",
    "在位置 i 插入 x 。\n",
    "\n",
    "如果插入会导致一个限长deque超出长度 maxlen 的话，就升起一个 IndexError 。\n",
    "\n",
    "3.5 新版功能.\n",
    "\n",
    "pop()\n",
    "移去并且返回一个元素，deque最右侧的那一个。如果没有元素的话，就升起 IndexError 索引错误。\n",
    "\n",
    "popleft()\n",
    "移去并且返回一个元素，deque最左侧的那一个。如果没有元素的话，就升起 IndexError 索引错误。\n",
    "\n",
    "remove(value)\n",
    "移去找到的第一个 value。 如果没有的话就升起 ValueError 。\n",
    "\n",
    "reverse()\n",
    "将deque逆序排列。返回 None 。\n",
    "\n",
    "3.2 新版功能.\n",
    "\n",
    "rotate(n=1)\n",
    "向右循环移动 n 步。 如果 n 是负数，就向左循环。\n",
    "\n",
    "如果deque不是空的，向右循环移动一步就等价于 d.appendleft(d.pop()) ， 向左循环一步就等价于 d.append(d.popleft()) 。\n",
    "\n",
    "Deque对象同样提供了一个只读属性:\n",
    "\n",
    "maxlen\n",
    "Deque的最大尺寸，如果没有限定的话就是 None 。\n",
    "\n",
    "3.1 新版功能.\n",
    "\n",
    "除了以上，deque还支持迭代，清洗，len(d), reversed(d), copy.copy(d), copy.deepcopy(d), 成员测试 in 操作符，和下标引用 d[-1] 。索引存取在两端的复杂度是 O(1)， 在中间的复杂度比 O(n) 略低。要快速存取，使用list来替代。\n",
    "\n",
    "Deque从版本3.5开始支持 __add__(), __mul__(), 和 __imul__() 。\n",
    "```\n",
    "\n",
    "序列定义 索引 删除和list相似："
   ]
  },
  {
   "cell_type": "code",
   "execution_count": 4,
   "metadata": {},
   "outputs": [
    {
     "name": "stdout",
     "output_type": "stream",
     "text": [
      "Deque: deque(['a', 'b', 'c', 'd', 'e', 'f', 'g'])\n",
      "Length: 7\n",
      "Left end: a\n",
      "Right end: g\n",
      "remove(c): deque(['a', 'b', 'd', 'e', 'f', 'g'])\n"
     ]
    }
   ],
   "source": [
    "from collections import deque\n",
    "d1 = deque('abcdefg')\n",
    "print('Deque:',d1)\n",
    "print('Length:',len(d1))\n",
    "print('Left end:',d1[0])\n",
    "print('Right end:',d1[-1])\n",
    " \n",
    "d1.remove('c')\n",
    "print('remove(c):',d1)"
   ]
  },
  {
   "cell_type": "markdown",
   "metadata": {},
   "source": [
    "## extend、extendleft、append、appendleft\n",
    "\n",
    "- extend为列表扩充，append为直接整体添加到后面\n",
    "- extendleft、appendleft为从左侧添加\n",
    "\n",
    "不过，下面的例子就可以看到，deque是通过extend方法初始化集合元素的，同时你可以通过extendleft将结合元素从“左边”加入到集合中："
   ]
  },
  {
   "cell_type": "code",
   "execution_count": 23,
   "metadata": {},
   "outputs": [
    {
     "name": "stdout",
     "output_type": "stream",
     "text": [
      "extend: deque(['a', 'b', 'c', 'd', 'e', 'f', 'g'])\n",
      "append: deque(['a', 'b', 'c', 'd', 'e', 'f', 'g', 'hi'])\n",
      "extendleft: deque([5, 4, 3, 2, 1, 0, 'a', 'b', 'c', 'd', 'e', 'f', 'g', 'hi'])\n",
      "appendleft: deque([[6, 7], 5, 4, 3, 2, 1, 0, 'a', 'b', 'c', 'd', 'e', 'f', 'g', 'hi'])\n"
     ]
    }
   ],
   "source": [
    "d2=deque()\n",
    "d2.extend('abcdefg')\n",
    "print('extend:',d2)\n",
    "\n",
    "d2.append('hi')\n",
    "print('append:',d2)\n",
    "\n",
    "# 从左侧添加：\n",
    "d2.extendleft(list(range(6)))\n",
    "print('extendleft:',d2)\n",
    "\n",
    "d2.appendleft([6,7])\n",
    "print('appendleft:',d2)"
   ]
  },
  {
   "cell_type": "markdown",
   "metadata": {},
   "source": [
    "## pop、popleft\n",
    "\n",
    "- pop 尾部删除（弹出）\n",
    "- popleft 头部删除（弹出）\n",
    "\n",
    "分别用于从集合后面和左边取出元素，看下面的例子："
   ]
  },
  {
   "cell_type": "code",
   "execution_count": 27,
   "metadata": {},
   "outputs": [
    {
     "name": "stdout",
     "output_type": "stream",
     "text": [
      "From the right\n",
      "g\n",
      "f\n",
      "e\n",
      "d\n",
      "c\n",
      "b\n",
      "a\n",
      "From the left\n",
      "0\n",
      "1\n",
      "2\n",
      "3\n",
      "4\n",
      "5\n"
     ]
    }
   ],
   "source": [
    "from collections import deque\n",
    "\n",
    "print(\"From the right\")\n",
    "d3=deque('abcdefg')\n",
    "while True:\n",
    "    try:\n",
    "        print(d3.pop())\n",
    "    except IndexError:\n",
    "        break\n",
    "        \n",
    "print('From the left')\n",
    "d4=deque(list(range(6)))\n",
    "while True:\n",
    "    try:\n",
    "        print(d4.popleft())\n",
    "    except IndexError:\n",
    "        break"
   ]
  },
  {
   "cell_type": "markdown",
   "metadata": {},
   "source": [
    "## count index insert remove reverse rotate"
   ]
  },
  {
   "cell_type": "code",
   "execution_count": 25,
   "metadata": {},
   "outputs": [],
   "source": [
    "from collections import deque\n",
    "\n",
    "d4=deque('abcdeffgg')\n",
    "print(d4.count('f')) #计算元素的个数\n",
    "print(d4.index('e',4,6)) #位置的索引，在[4,6)之间的，返回的是原来的位置索引\n",
    "d4.insert(1,'H') #位置i插入'H',如果插入会导致一个限长deque超出长度 maxlen 的话，就升起一个 IndexError 。\n",
    "print(d4)\n",
    "d4.remove('H') #移去找到的第一个 value。 如果没有的话就升起 ValueError 。\n",
    "print(d4)\n",
    "d4.reverse() #将deque逆序排列。返回 None 。\n",
    "print(d4)\n",
    "d4.rotate(1) #向右循环移动 n 步。 如果 n 是负数，就向左循环。\n",
    "# 如果deque不是空的，向右循环移动一步就等价于 d.appendleft(d.pop()) ， 向左循环一步就等价于 d.append(d.popleft()) \n",
    "print(d4)"
   ]
  },
  {
   "cell_type": "markdown",
   "metadata": {},
   "source": [
    "## maxlen\n",
    "初始化deque的时候可以给他传一个参数maxlen，如果 maxlen 没有指定或者是 None ，deques 可以增长到任意长度。否则，deque就限定到指定最大长度。一旦限定长度的deque满了，当新项加入时，同样数量的项就从另一端弹出。"
   ]
  },
  {
   "cell_type": "code",
   "execution_count": 26,
   "metadata": {},
   "outputs": [
    {
     "name": "stdout",
     "output_type": "stream",
     "text": [
      "deque([1, 2, 3], maxlen=3)\n",
      "deque([2, 3, 4], maxlen=3)\n",
      "deque([5, 2, 3], maxlen=3)\n"
     ]
    }
   ],
   "source": [
    "d5 = deque([1,2,3],maxlen = 3)\n",
    "print(d5)\n",
    "d5.append(4)\n",
    "print(d5)\n",
    "d5.appendleft(5)\n",
    "print(d5)"
   ]
  },
  {
   "cell_type": "markdown",
   "metadata": {},
   "source": [
    "## deque是线程安全的\n",
    "\n",
    "也就是说你可以同时从deque集合的左边和右边进行操作而不会有影响，\n",
    "\n",
    "为了试验线程安全，我们分别起了两个线程从deque的左边和右边开始移出集合元素，\n",
    "\n",
    "看下面的代码："
   ]
  },
  {
   "cell_type": "code",
   "execution_count": 4,
   "metadata": {},
   "outputs": [
    {
     "name": "stdout",
     "output_type": "stream",
     "text": [
      "left : 0\n",
      "right : 4\n",
      "left : 1\n",
      "right : 3\n",
      "left : 2\n",
      "done right\n",
      "done left\n"
     ]
    }
   ],
   "source": [
    "from collections import deque\n",
    "import threading\n",
    "import time\n",
    "candle=deque(list(range(5)))\n",
    "def burn(direction,nextSource):\n",
    "    while True:\n",
    "        try:\n",
    "            next=nextSource()\n",
    "        except IndexError:\n",
    "            break\n",
    "        else:\n",
    "            print('%s : %s' % (direction,next))\n",
    "            time.sleep(0.1)\n",
    "    print(\"done %s\" % direction)\n",
    "    return\n",
    "left=threading.Thread(target=burn,args=('left',candle.popleft))\n",
    "right=threading.Thread(target=burn,args=('right',candle.pop))\n",
    " \n",
    "left.start()\n",
    "right.start()\n",
    "\n",
    "left.join()\n",
    "right.join()\n"
   ]
  },
  {
   "cell_type": "markdown",
   "metadata": {},
   "source": [
    "---\n",
    "\n",
    "参考：\n",
    "\n",
    "- https://blog.csdn.net/liangguohuan/article/details/7088265\n",
    "- https://docs.python.org/zh-cn/3/library/collections.html"
   ]
  }
 ],
 "metadata": {
  "kernelspec": {
   "display_name": "Python 3 (system-wide)",
   "language": "python",
   "name": "python3"
  },
  "language_info": {
   "codemirror_mode": {
    "name": "ipython",
    "version": 3
   },
   "file_extension": ".py",
   "mimetype": "text/x-python",
   "name": "python",
   "nbconvert_exporter": "python",
   "pygments_lexer": "ipython3",
   "version": "3.6.8"
  }
 },
 "nbformat": 4,
 "nbformat_minor": 2
}
