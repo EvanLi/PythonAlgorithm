{
 "cells": [
  {
   "cell_type": "markdown",
   "metadata": {},
   "source": [
    "https://www.zhihu.com/question/20761771"
   ]
  },
  {
   "cell_type": "code",
   "execution_count": 1,
   "metadata": {},
   "outputs": [
    {
     "name": "stdout",
     "output_type": "stream",
     "text": [
      "3919377061614427623668052985592742430389065042819420493170692719480242247392252775480208752179017313071371501566248877239254299341332131655760767122899079117071192049598939666199865808814650408864891823186505\n"
     ]
    }
   ],
   "source": [
    "def fib(count, cur=0, next_=1):\n",
    "    if count <= 1:\n",
    "        yield cur\n",
    "    else:\n",
    "        # Notice that this is the tail-recursive version\n",
    "        # of fib.\n",
    "        yield fib(count-1, next_, cur + next_)\n",
    "\n",
    "import types\n",
    "\n",
    "def tramp(gen, *args, **kwargs):\n",
    "    g = gen(*args, **kwargs)\n",
    "    while isinstance(g, types.GeneratorType):\n",
    "        g=g.__next__()\n",
    "    return g\n",
    "print(tramp(fib, 996))"
   ]
  }
 ],
 "metadata": {
  "kernelspec": {
   "display_name": "tf36",
   "language": "python",
   "name": "tf36"
  },
  "language_info": {
   "codemirror_mode": {
    "name": "ipython",
    "version": 3
   },
   "file_extension": ".py",
   "mimetype": "text/x-python",
   "name": "python",
   "nbconvert_exporter": "python",
   "pygments_lexer": "ipython3",
   "version": "3.6.8"
  }
 },
 "nbformat": 4,
 "nbformat_minor": 2
}
