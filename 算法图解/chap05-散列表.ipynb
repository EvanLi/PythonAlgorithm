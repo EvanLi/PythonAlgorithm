{
 "cells": [
  {
   "cell_type": "markdown",
   "metadata": {},
   "source": [
    "# 第5章 散列表\n",
    "\n",
    "## 5.1散列函数\n",
    "\n",
    "散列函数准确地指出了价格的存储位置，你根本不用查找！之所以能够这样，具体原因如下。\n",
    "\n",
    "- 散列函数总是将同样的输入映射到相同的索引。每次你输入avocado，得到的都是同一个数字。因此，你可首先使用它来确定将鳄梨的价格存储在什么地方，并在以后使用它来确定鳄梨的价格存储在什么地方。\n",
    "- 散列函数将不同的输入映射到不同的索引。avocado映射到索引4，milk映射到索引0。每种商品都映射到数组的不同位置，让你能够将其价格存储到这里。\n",
    "- 散列函数知道数组有多大，只返回有效的索引。如果数组包含5个元素，散列函数就不会返回无效索引100。\n",
    "\n",
    "你可能根本不需要自己去实现散列表，任一优秀的语言都提供了散列表实现。Python提供的散列表实现为字典，你可使用函数 dict 来创建散列表。\n",
    "\n",
    "在你将学习的复杂数据结构中，散列表可能是最有用的，也被称为散列映射、映射、字典和关联数组。散列表的速度很快！还记得第2章关于数组和链表的讨论吗？你可以立即获取数组中的元素，而散列表也使用数组来存储数据，因此其获取元素的速度与数组一样快。"
   ]
  },
  {
   "cell_type": "code",
   "execution_count": 1,
   "metadata": {},
   "outputs": [
    {
     "name": "stdout",
     "output_type": "stream",
     "text": [
      "{'apple': 0.67, 'milk': 1.49, 'avocado': 1.49}\n"
     ]
    }
   ],
   "source": [
    "book = dict()\n",
    "book[\"apple\"] = 0.67\n",
    "book[\"milk\"] = 1.49\n",
    "book[\"avocado\"] = 1.49\n",
    "print(book)"
   ]
  },
  {
   "cell_type": "markdown",
   "metadata": {},
   "source": [
    "## 5.2应用案例\n",
    "### 5.2.1 将散列表用于查找\n",
    "\n",
    "如电话簿"
   ]
  },
  {
   "cell_type": "code",
   "execution_count": 4,
   "metadata": {},
   "outputs": [
    {
     "name": "stdout",
     "output_type": "stream",
     "text": [
      "8675309\n"
     ]
    }
   ],
   "source": [
    "phone_book = dict()\n",
    "phone_book[\"jenny\"] = 8675309\n",
    "phone_book[\"emergency\"] = 911\n",
    "print(phone_book[\"jenny\"])"
   ]
  },
  {
   "cell_type": "markdown",
   "metadata": {},
   "source": [
    "### 5.2.2 防止重复\n",
    "\n",
    "投票记录"
   ]
  },
  {
   "cell_type": "code",
   "execution_count": 5,
   "metadata": {},
   "outputs": [],
   "source": [
    "voted = {}\n",
    "def check_voter(name):\n",
    "    if voted.get(name):\n",
    "        print(\"kick them out!\")\n",
    "    else:\n",
    "        voted[name] = True\n",
    "        print(\"let them vote!\")"
   ]
  },
  {
   "cell_type": "code",
   "execution_count": 6,
   "metadata": {},
   "outputs": [
    {
     "name": "stdout",
     "output_type": "stream",
     "text": [
      "let them vote!\n"
     ]
    }
   ],
   "source": [
    "check_voter(\"tom\")"
   ]
  },
  {
   "cell_type": "code",
   "execution_count": 7,
   "metadata": {},
   "outputs": [
    {
     "name": "stdout",
     "output_type": "stream",
     "text": [
      "let them vote!\n"
     ]
    }
   ],
   "source": [
    "check_voter(\"mike\")"
   ]
  },
  {
   "cell_type": "code",
   "execution_count": 8,
   "metadata": {},
   "outputs": [
    {
     "name": "stdout",
     "output_type": "stream",
     "text": [
      "kick them out!\n"
     ]
    }
   ],
   "source": [
    "check_voter(\"mike\")"
   ]
  },
  {
   "cell_type": "markdown",
   "metadata": {},
   "source": [
    "### 5.2.3 将散列表用作缓存\n",
    "\n",
    "来看最后一个应用案例：缓存。如果你在网站工作，可能听说过进行缓存是一种不错的做法。下面简要地介绍其中的原理。假设你访问网facebook.com。\n",
    "\n",
    "- (1) 你向Facebook的服务器发出请求。\n",
    "- (2) 服务器做些处理，生成一个网页并将其发送给你。\n",
    "- (3) 你获得一个网页。\n",
    "\n",
    "如果你登录了Facebook，你看到的所有内容都是为你定制的。你每次访问facebook.com，其服务器都需考虑你感兴趣的是什么内容。但如果你没有登录，看到的将是登录页面。每个人看到的登录页面都相同。Facebook被反复要求做同样的事情：“当我注销时，请向我显示主页。”有鉴于此，它不让服务器去生成主页，而是将主页存储起来，并在需要时将其直接发送给用户。\n",
    "\n",
    "缓存是一种常用的加速方式，所有大型网站都使用缓存，而缓存的数据则存储在散列表中！Facebook不仅缓存主页，还缓存About页面、Contact页面、Terms and Conditions页面等众多其他的页面。因此，它需要将页面URL映射到页面数据。"
   ]
  },
  {
   "cell_type": "code",
   "execution_count": 9,
   "metadata": {},
   "outputs": [],
   "source": [
    "cache = {}\n",
    "def get_page(url):\n",
    "    if cache.get(url):\n",
    "        return cache[url]\n",
    "    else:\n",
    "        data = get_data_from_server(url)\n",
    "        cache[url] = data\n",
    "        return data"
   ]
  },
  {
   "cell_type": "markdown",
   "metadata": {},
   "source": [
    "## 5.3 冲突\n",
    "\n",
    "前面说过，大多数语言都提供了散列表实现，你不用知道如何实现它们。有鉴于此，我就不再过多地讨论散列表的内部原理，但你依然需要考虑性能！要明白散列表的性能，你得先搞清楚什么是冲突。本节和下一节将分别介绍冲突和性能。\n",
    "\n",
    "首先，我撒了一个善意的谎。我之前告诉你的是，散列函数总是将不同的键映射到数组的不同位置。\n",
    "\n",
    "实际上，几乎不可能编写出这样的散列函数。\n",
    "\n",
    "这种情况被称为冲突（collision）：给两个键分配的位置相同。这是个问题。如果你将鳄梨的价格存储到这个位置，将覆盖苹果的价格，以后再查询苹果的价格时，得到的将是鳄梨的价格！冲突很糟糕，必须要避免。处理冲突的方式很多，最简单的办法如下：如果两个键映射到了同一个位置，就在这个位置存储一个链表。\n",
    "\n",
    "这里的经验教训有两个。\n",
    "\n",
    "- 散列函数很重要。前面的散列函数将所有的键都映射到一个位置，而最理想的情况是，散列函数将键均匀地映射到散列表的不同位置。\n",
    "- 如果散列表存储的链表很长，散列表的速度将急剧下降。然而，如果使用的散列函数很好，这些链表就不会很长！\n",
    "\n",
    "散列函数很重要，好的散列函数很少导致冲突。那么，如何选择好的散列函数呢？这将在下一节介绍！\n",
    "\n",
    "## 5.4 性能\n",
    "\n",
    "在最糟情况下，散列表所有操作的运行时间都为O(n)——线性时间，这真的很慢。我们来将散列表同数组和链表比较一下。\n",
    "\n",
    "在平均情况下，散列表的查找（获取给定索引处的值）速度与数组一样快，而插入和删除速度与链表一样快，因此它兼具两者的优点！\n",
    "\n",
    "但在最糟情况下，散列表的各种操作的速度都很慢。因此，在使用散列表时，避开最糟情况至关重要。为此，需要避免冲突。而要避免冲突，需要有：\n",
    "\n",
    "- 较低的填装因子；\n",
    "- 良好的散列函数。\n",
    "\n",
    "### 5.4.1 填装因子\n",
    "\n",
    "散列表的填装因子很容易计算。\n",
    "\n",
    "散列表包含的元素数/位置总数\n",
    "\n",
    "散列表使用数组来存储数据，因此你需要计算数组中被占用的位置数。例如，下述散列表的填装因子为2/5，即0.4。\n",
    "\n",
    "![eBazu9.png](https://s2.ax1x.com/2019/08/03/eBazu9.png)\n",
    "\n",
    "不可能让每种商品都有自己的位置，因为没有足够的位置！填装因子大于1意味着商品数量超过了数组的位置数。一旦填装因子开始增大，你就需要在散列表中添加位置，这被称为调整长度（resizing）。\n",
    "\n",
    "填装因子越低，发生冲突的可能性越小，散列表的性能越高。一个不错的经验规则是：一旦填装因子大于0.7，就调整散列表的长度。\n",
    "\n",
    "你可能在想，调整散列表长度的工作需要很长时间！你说得没错，调整长度的开销很大，因此你不会希望频繁地这样做。但平均而言，即便考虑到调整长度所需的时间，散列表操作所需的时间也为O(1)。\n",
    "\n",
    "### 5.4.2 良好的散列函数\n",
    "\n",
    "良好的散列函数让数组中的值呈均匀分布。\n",
    "\n",
    "糟糕的散列函数让值扎堆，导致大量的冲突。\n",
    "\n",
    "什么样的散列函数是良好的呢？你根本不用操心——天塌下来有高个子顶着。如果你好奇，可研究一下SHA函数（本书最后一章做了简要的介绍）。你可将它用作散列函数。\n",
    "\n",
    "## 5.5 小结\n",
    "\n",
    "你几乎根本不用自己去实现散列表，因为你使用的编程语言提供了散列表实现。你可使用Python提供的散列表，并假定能够获得平均情况下的性能：常量时间。\n",
    "\n",
    "散列表是一种功能强大的数据结构，其操作速度快，还能让你以不同的方式建立数据模型。你可能很快会发现自己经常在使用它。\n",
    "\n",
    "- 你可以结合散列函数和数组来创建散列表。\n",
    "- 冲突很糟糕，你应使用可以最大限度减少冲突的散列函数。\n",
    "- 散列表的查找、插入和删除速度都非常快。\n",
    "- 散列表适合用于模拟映射关系。\n",
    "- 一旦填装因子超过0.7，就该调整散列表的长度。\n",
    "- 散列表可用于缓存数据（例如，在Web服务器上）。\n",
    "- 散列表非常适合用于防止重复。"
   ]
  }
 ],
 "metadata": {
  "kernelspec": {
   "display_name": "Python 3 (system-wide)",
   "language": "python",
   "name": "python3"
  },
  "language_info": {
   "codemirror_mode": {
    "name": "ipython",
    "version": 3
   },
   "file_extension": ".py",
   "mimetype": "text/x-python",
   "name": "python",
   "nbconvert_exporter": "python",
   "pygments_lexer": "ipython3",
   "version": "3.6.8"
  }
 },
 "nbformat": 4,
 "nbformat_minor": 2
}
