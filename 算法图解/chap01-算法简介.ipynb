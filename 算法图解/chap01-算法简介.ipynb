{
 "cells": [
  {
   "cell_type": "markdown",
   "metadata": {},
   "source": [
    "# 第1章 算法简介\n",
    "## 1.2 二分查找\n",
    "\n",
    "二分查找是一种算法，其输入是一个有序的元素列表（必须有序的原因稍后解释）。如果要查找的元素包含在列表中，二分查找返回其位置；否则返回 null 。\n",
    "\n",
    "函数 binary_search 接受一个有序数组和一个元素。如果指定的元素包含在数组中，这个函数将返回其位置。你将跟踪要在其中查找的数组部分——开始时为整个数组，你每次都检查中间的元素。\n",
    "\n",
    "算法复杂度：O(log n)"
   ]
  },
  {
   "cell_type": "code",
   "execution_count": 1,
   "metadata": {},
   "outputs": [
    {
     "name": "stdout",
     "output_type": "stream",
     "text": [
      "1\n",
      "None\n"
     ]
    }
   ],
   "source": [
    "def binary_search(ordered_list,item):\n",
    "    '''二分查找'''\n",
    "    low = 0\n",
    "    high = len(ordered_list) - 1\n",
    "    while low <= high:\n",
    "        mid = int((low + high)/2) #向下取整\n",
    "        guess =ordered_list[mid] #这次猜的值\n",
    "        if guess == item: #猜到了\n",
    "            return mid\n",
    "            print(mid)\n",
    "        if guess > item: #猜大了\n",
    "            high = mid - 1\n",
    "        else:            # 猜小了\n",
    "            low = mid + 1\n",
    "    return None      # 没有指定的元素\n",
    "\n",
    "my_list = [1, 3, 5, 7, 9]\n",
    "\n",
    "# 能找到对应的值\n",
    "print(binary_search(my_list,3))\n",
    "# 不能找到对应的值\n",
    "print(binary_search(my_list,0))"
   ]
  },
  {
   "cell_type": "markdown",
   "metadata": {},
   "source": [
    "### 一些常见的大 O 运行时间\n",
    "\n",
    "下面按从快到慢的顺序列出了你经常会遇到的5种大O运行时间。\n",
    "\n",
    "- $O(log n)$，也叫对数时间，这样的算法包括二分查找。\n",
    "- $O(n)$，也叫线性时间，这样的算法包括简单查找。\n",
    "- $O(n * log n)$，这样的算法包括第4章将介绍的快速排序——一种速度较快的排序算法。\n",
    "- $O(n^2)$，这样的算法包括第2章将介绍的选择排序——一种速度较慢的排序算法。\n",
    "- $O(n!)$，这样的算法包括接下来将介绍的旅行商问题的解决方案——一种非常慢的算法。\n",
    "\n",
    "### 旅行商\n",
    "\n",
    "下面就是一个运行时间极长的算法。这个算法要解决的是计算机科学领域非常著名的旅行商问题，其计算时间增加得非常快，而有些非常聪明的人都认为没有改进空间。\n",
    "\n",
    "有一位旅行商。他需要前往5个城市。这位旅行商要前往这5个城市，同时要确保旅程最短。为此，可考虑前往这些城市的各种可能顺序。\n",
    "\n",
    "对于每种顺序，他都计算总旅程，再挑选出旅程最短的路线。5个城市有120种不同的排列方式。因此，在涉及5个城市时，解决这个问题需要执行120次操作。涉及6个城市时，需要执行720次操作（有720种不同的排列方式）。涉及7个城市时，需要执行5040次操作！\n",
    "\n",
    "推而广之，涉及n个城市时，需要执行n!（n的阶乘）次操作才能计算出结果。因此运行时间为O(n!)，即阶乘时间。除非涉及的城市数很少，否则需要执行非常多的操作。如果涉及的城市数超过100，根本就不能在合理的时间内计算出结果——等你计算出结果，太阳都没了。\n",
    "\n",
    "这是计算机科学领域待解的问题之一。对于这个问题，目前还没有找到更快的算法，有些很聪明的人认为这个问题根本就没有更巧妙的算法。面对这个问题，我们能做的只是去找出近似答案，更详细的信息请参阅第10章。"
   ]
  }
 ],
 "metadata": {
  "kernelspec": {
   "display_name": "Python 3 (system-wide)",
   "language": "python",
   "name": "python3"
  },
  "language_info": {
   "codemirror_mode": {
    "name": "ipython",
    "version": 3
   },
   "file_extension": ".py",
   "mimetype": "text/x-python",
   "name": "python",
   "nbconvert_exporter": "python",
   "pygments_lexer": "ipython3",
   "version": "3.6.8"
  }
 },
 "nbformat": 4,
 "nbformat_minor": 2
}
