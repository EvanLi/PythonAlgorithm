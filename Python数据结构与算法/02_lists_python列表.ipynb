{
 "cells": [
  {
   "cell_type": "markdown",
   "metadata": {
    "collapsed": false
   },
   "source": [
    "# Python列表（Lists）\n",
    "列表是Python中最通用的数据类型，可以写为方括号之间的逗号分隔值（项）列表。列表的重要一点是列表中的项不必是相同的类型，列表的元素也可以为列表（二维列表）。\n",
    "\n",
    "## 创建列表"
   ]
  },
  {
   "cell_type": "code",
   "execution_count": 1,
   "metadata": {
    "collapsed": false
   },
   "outputs": [
    {
     "name": "stdout",
     "output_type": "stream",
     "text": [
      "['physics', 'chemistry', 1997, 2000]\n",
      "[1, 2, 3, 4, 5]\n",
      "['a', 'b', 'c', 'd']\n",
      "[[11, 12, 5, 2], [15, 6, 10], [10, 8, 12, 5], [12, 15, 8, 6]]\n"
     ]
    }
   ],
   "source": [
    "list1 = ['physics', 'chemistry', 1997, 2000]\n",
    "list2 = [1, 2, 3, 4, 5 ]\n",
    "list3 = [\"a\", \"b\", \"c\", \"d\"]\n",
    "# 二维列表\n",
    "T = [\n",
    "    [11, 12, 5, 2],\n",
    "    [15, 6,10],\n",
    "    [10, 8, 12, 5],\n",
    "    [12,15,8,6]\n",
    "]\n",
    "# 或者写成一行\n",
    "# T = [[11, 12, 5, 2], [15, 6,10], [10, 8, 12, 5], [12,15,8,6]]\n",
    "\n",
    "print(list1)\n",
    "print(list2)\n",
    "print(list3)\n",
    "print(T)"
   ]
  },
  {
   "cell_type": "markdown",
   "metadata": {
    "collapsed": false
   },
   "source": [
    "## 访问列表"
   ]
  },
  {
   "cell_type": "code",
   "execution_count": 2,
   "metadata": {
    "collapsed": false
   },
   "outputs": [
    {
     "name": "stdout",
     "output_type": "stream",
     "text": [
      "list1[0]:  physics\n",
      "list2[1:5]:  [2, 3, 4, 5]\n",
      "[11, 12, 5, 2]\n",
      "10\n",
      "11 12 5 2 \n",
      "15 6 10 \n",
      "10 8 12 5 \n",
      "12 15 8 6 \n"
     ]
    }
   ],
   "source": [
    "print(\"list1[0]: \", list1[0])\n",
    "print(\"list2[1:5]: \", list2[1:5])\n",
    "\n",
    "print(T[0])\n",
    "print(T[1][2])\n",
    "for r in T:\n",
    "    for c in r:\n",
    "        print(c,end = \" \")\n",
    "    print()"
   ]
  },
  {
   "cell_type": "markdown",
   "metadata": {
    "collapsed": false
   },
   "source": [
    "## 插入"
   ]
  },
  {
   "cell_type": "code",
   "execution_count": 3,
   "metadata": {
    "collapsed": false
   },
   "outputs": [
    {
     "name": "stdout",
     "output_type": "stream",
     "text": [
      "['physics', 1001, 'chemistry', 1997, 2000]\n",
      "[[11, 12, 5, 2], [15, 6, 10], [0, 5, 11, 13, 6], [10, 8, 12, 5], [12, 15, 8, 6]]\n"
     ]
    }
   ],
   "source": [
    "list1.insert(1,1001)\n",
    "print(list1)\n",
    "T.insert(2, [0,5,11,13,6])\n",
    "print(T)"
   ]
  },
  {
   "cell_type": "markdown",
   "metadata": {
    "collapsed": false
   },
   "source": [
    "## 更新列表"
   ]
  },
  {
   "cell_type": "code",
   "execution_count": 1,
   "metadata": {
    "collapsed": false
   },
   "outputs": [
    {
     "name": "stdout",
     "output_type": "stream",
     "text": [
      "['physics', 'chemistry', 1997, 2000]\n",
      "['physics', 'chemistry', 2001, 2000]\n",
      "['physics', 'chemistry', 2001, 2000, 2019]\n",
      "[[11, 12, 5, 2], [15, 6, 10], [10, 8, 12, 5], [12, 15, 8, 6]]\n",
      "[[11, 12, 5, 2], [15, 6, 10], [11, 9], [12, 15, 8, 6]]\n",
      "[[11, 12, 5, 2], [15, 6, 10], [11, 7], [12, 15, 8, 6]]\n"
     ]
    }
   ],
   "source": [
    "# 一维列表\n",
    "lst = ['physics', 'chemistry', 1997, 2000]\n",
    "print(lst)\n",
    "lst[2] = 2001\n",
    "print(lst)\n",
    "lst.append(2019)\n",
    "print(lst)\n",
    "\n",
    "# 二维列表\n",
    "T = [[11, 12, 5, 2], [15, 6,10], [10, 8, 12, 5], [12,15,8,6]]\n",
    "print(T)\n",
    "\n",
    "T[2] = [11,9]\n",
    "print(T)\n",
    "\n",
    "T[2][1] = 7\n",
    "print(T)"
   ]
  },
  {
   "cell_type": "markdown",
   "metadata": {
    "collapsed": false
   },
   "source": [
    "## 删除列表元素 del .remove"
   ]
  },
  {
   "cell_type": "code",
   "execution_count": 5,
   "metadata": {
    "collapsed": false
   },
   "outputs": [
    {
     "name": "stdout",
     "output_type": "stream",
     "text": [
      "['physics', 'chemistry', 1997, 2000]\n",
      "['physics', 'chemistry', 2000]\n",
      "['physics', 'chemistry']\n",
      "[[11, 12, 5, 2], [15, 6, 10], [10, 8, 12, 5], [12, 15, 8, 6]]\n",
      "[[15, 6, 10], [10, 8, 12, 5], [12, 15, 8, 6]]\n",
      "[[6, 10], [10, 8, 12, 5], [12, 15, 8, 6]]\n"
     ]
    }
   ],
   "source": [
    "list1 = ['physics', 'chemistry', 1997, 2000]\n",
    "print(list1)\n",
    "del(list1[2])\n",
    "print(list1)\n",
    "list1.remove(2000) #多个相同值时，从前面开始删除\n",
    "print(list1)\n",
    "\n",
    "T = [[11, 12, 5, 2], [15, 6,10], [10, 8, 12, 5], [12,15,8,6]]\n",
    "print(T)\n",
    "\n",
    "# 删除内部列表\n",
    "del T[0]\n",
    "print(T)\n",
    "\n",
    "# 删除内部列表的数据元素\n",
    "del T[0][0]\n",
    "print(T)"
   ]
  },
  {
   "cell_type": "markdown",
   "metadata": {
    "collapsed": false
   },
   "source": [
    "## 列表基本操作\n",
    "\n",
    "```\n",
    "len, +, *, i in list, for i in list\n",
    "```"
   ]
  },
  {
   "cell_type": "code",
   "execution_count": 6,
   "metadata": {
    "collapsed": false
   },
   "outputs": [
    {
     "name": "stdout",
     "output_type": "stream",
     "text": [
      "3\n",
      "[1, 2, 3, 4, 5, 6]\n",
      "['Hi!', 'Hi!', 'Hi!', 'Hi!']\n",
      "True\n",
      "1\n",
      "2\n",
      "3\n"
     ]
    }
   ],
   "source": [
    "# len\n",
    "print(len([1,2,3]))\n",
    "\n",
    "# + 加号\n",
    "print([1, 2, 3] + [4, 5, 6])\n",
    "\n",
    "# * 乘号\n",
    "print(['Hi!'] * 4)\n",
    "\n",
    "# Membership 包含,输出Ture False\n",
    "print(3 in [1, 2, 3])\n",
    "\n",
    "# Iteration 迭代\n",
    "for x in [1, 2, 3]: print(x)"
   ]
  }
 ],
 "metadata": {
  "kernelspec": {
   "display_name": "Python 3 (system-wide)",
   "language": "python",
   "metadata": {
    "cocalc": {
     "description": "Python 3 programming language",
     "priority": 100,
     "url": "https://www.python.org/"
    }
   },
   "name": "python3"
  },
  "language_info": {
   "codemirror_mode": {
    "name": "ipython",
    "version": 3
   },
   "file_extension": ".py",
   "mimetype": "text/x-python",
   "name": "python",
   "nbconvert_exporter": "python",
   "pygments_lexer": "ipython3",
   "version": "3.6.8"
  }
 },
 "nbformat": 4,
 "nbformat_minor": 0
}