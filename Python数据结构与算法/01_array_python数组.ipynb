{
 "cells": [
  {
   "cell_type": "markdown",
   "metadata": {},
   "source": [
    "# python数组 array\n",
    "\n",
    "https://www.tutorialspoint.com/python_data_structure/python_arrays.htm\n",
    "\n",
    "Array是一个容器，可以容纳固定数量的项目，这些项目应该是相同的类型。大多数数据结构都使用数组来实现其算法。以下是理解Array概念的重要术语。 \n",
    "\n",
    "- 元素 - 存储在数组中的每个项称为元素。 \n",
    "- 索引 - 数组中元素的每个位置都有一个数字索引，用于标识元素。\n",
    "\n",
    "## 基本操作\n",
    "\n",
    "以下是数组支持的基本操作。 \n",
    "\n",
    "- 遍历 - 逐个打印所有数组元素。 \n",
    "- 插入 - 在给定索引处添加元素。 \n",
    "- 删除 - 删除给定索引处的元素。 \n",
    "- 搜索 - 使用给定索引或值搜索元素。 \n",
    "- 更新 - 更新给定索引处的元素。 \n",
    "\n",
    "通过将array模块导入python程序，在Python中创建数组。然后声明数组如下所示：\n",
    "\n",
    "```\n",
    "from array import *\n",
    "\n",
    "arrayName = array(typecode, [Initializers])\n",
    "\n",
    "```\n",
    "\n",
    "| Typecode | Value |\n",
    "| --- | --- |\n",
    "| b | Represents signed integer of size 1 byte |\n",
    "| B | Represents unsigned integer of size 1 byte |\n",
    "| c | Represents character of size 1 byte |\n",
    "| i | Represents signed integer of size 2 bytes |\n",
    "| I | Represents unsigned integer of size 2 bytes |\n",
    "| f | Represents floating point of size 4 bytes |\n",
    "| d | Represents floating point of size 8 bytes |"
   ]
  },
  {
   "cell_type": "markdown",
   "metadata": {},
   "source": [
    "## 创建数组并遍历"
   ]
  },
  {
   "cell_type": "code",
   "execution_count": 1,
   "metadata": {
    "collapsed": false
   },
   "outputs": [
    {
     "name": "stdout",
     "output_type": "stream",
     "text": [
      "array('i', [10, 20, 30, 40, 50])\n",
      "10\n",
      "20\n",
      "30\n",
      "40\n",
      "50\n"
     ]
    }
   ],
   "source": [
    "from array import *\n",
    "array1 = array('i', [10,20,30,40,50])\n",
    "print(array1)\n",
    "for x in array1:\n",
    "    print(x)"
   ]
  },
  {
   "cell_type": "markdown",
   "metadata": {},
   "source": [
    "## 访问和更新"
   ]
  },
  {
   "cell_type": "code",
   "execution_count": 2,
   "metadata": {
    "collapsed": false
   },
   "outputs": [
    {
     "name": "stdout",
     "output_type": "stream",
     "text": [
      "10\n",
      "30\n",
      "array('i', [10, 20, 80, 40, 50])\n"
     ]
    }
   ],
   "source": [
    "print (array1[0])\n",
    "print (array1[2])\n",
    "\n",
    "array1[2] = 80\n",
    "print(array1)"
   ]
  },
  {
   "cell_type": "markdown",
   "metadata": {},
   "source": [
    "## 插入 .insert()"
   ]
  },
  {
   "cell_type": "code",
   "execution_count": 3,
   "metadata": {
    "collapsed": false
   },
   "outputs": [
    {
     "name": "stdout",
     "output_type": "stream",
     "text": [
      "array('i', [10, 60, 20, 80, 40, 50])\n"
     ]
    }
   ],
   "source": [
    "array1.insert(1,60)\n",
    "print(array1)"
   ]
  },
  {
   "cell_type": "markdown",
   "metadata": {},
   "source": [
    "## 删除 .remove()"
   ]
  },
  {
   "cell_type": "code",
   "execution_count": 4,
   "metadata": {
    "collapsed": false
   },
   "outputs": [
    {
     "name": "stdout",
     "output_type": "stream",
     "text": [
      "array('i', [10, 60, 20, 80, 50])\n"
     ]
    }
   ],
   "source": [
    "array1.remove(40)\n",
    "print(array1)"
   ]
  },
  {
   "cell_type": "markdown",
   "metadata": {},
   "source": [
    "## 搜索 .search()"
   ]
  },
  {
   "cell_type": "code",
   "execution_count": 5,
   "metadata": {
    "collapsed": false
   },
   "outputs": [
    {
     "name": "stdout",
     "output_type": "stream",
     "text": [
      "2\n"
     ]
    }
   ],
   "source": [
    "print(array1.index(20))"
   ]
  },
  {
   "cell_type": "markdown",
   "metadata": {},
   "source": [
    "# Python矩阵（Matrix）——使用numpy array\n",
    "\n",
    "Matrix是二维数组的特例，其中每个数据元素的大小完全相同。因此每个矩阵也是二维数组，但反之不然。矩阵是许多数学和科学计算的非常重要的数据结构。正如我们在前一章中已经讨论过的二维数组数据结构，我们将重点关注本章中特定于矩阵的数据结构操作。 我们还会使用numpy包进行矩阵数据操作。\n",
    "\n",
    "## 创建\n",
    "\n",
    "考虑在早晨，中午，晚上和午夜测量的记录温度1周的情况。它可以使用数组呈现为7X5矩阵，并且可以在numpy中使用reshape方法。"
   ]
  },
  {
   "cell_type": "code",
   "execution_count": 1,
   "metadata": {},
   "outputs": [
    {
     "name": "stdout",
     "output_type": "stream",
     "text": [
      "[['Mon' '18' '20' '22' '17']\n",
      " ['Tue' '11' '18' '21' '18']\n",
      " ['Wed' '15' '21' '20' '19']\n",
      " ['Thu' '11' '20' '22' '21']\n",
      " ['Fri' '18' '17' '23' '22']\n",
      " ['Sat' '12' '22' '20' '18']\n",
      " ['Sun' '13' '15' '19' '16']]\n"
     ]
    }
   ],
   "source": [
    "from numpy import * \n",
    "m = array([['Mon',18,20,22,17],\n",
    "           ['Tue',11,18,21,18],\n",
    "           ['Wed',15,21,20,19],\n",
    "           ['Thu',11,20,22,21],\n",
    "           ['Fri',18,17,23,22],\n",
    "           ['Sat',12,22,20,18],\n",
    "           ['Sun',13,15,19,16]])\n",
    "    \n",
    "# m = reshape(a,(7,5))\n",
    "print(m)"
   ]
  },
  {
   "cell_type": "markdown",
   "metadata": {},
   "source": [
    "## 访问"
   ]
  },
  {
   "cell_type": "code",
   "execution_count": 2,
   "metadata": {},
   "outputs": [
    {
     "name": "stdout",
     "output_type": "stream",
     "text": [
      "['Wed' '15' '21' '20' '19']\n",
      "['18' '11' '15' '11' '18' '12' '13']\n",
      "23\n"
     ]
    }
   ],
   "source": [
    "# 第3行\n",
    "print(m[2])\n",
    "\n",
    "# 第2列\n",
    "print(m[:,1])\n",
    "\n",
    "# 第5行第4列\n",
    "print(m[4][3])"
   ]
  },
  {
   "cell_type": "markdown",
   "metadata": {},
   "source": [
    "## 添加行或列 append() insert()\n",
    "\n",
    "### 添加行"
   ]
  },
  {
   "cell_type": "code",
   "execution_count": 3,
   "metadata": {},
   "outputs": [
    {
     "name": "stdout",
     "output_type": "stream",
     "text": [
      "[['Mon' '18' '20' '22' '17']\n",
      " ['Tue' '11' '18' '21' '18']\n",
      " ['Wed' '15' '21' '20' '19']\n",
      " ['Thu' '11' '20' '22' '21']\n",
      " ['Fri' '18' '17' '23' '22']\n",
      " ['Sat' '12' '22' '20' '18']\n",
      " ['Sun' '13' '15' '19' '16']\n",
      " ['Avg' '12' '15' '13' '11']]\n"
     ]
    }
   ],
   "source": [
    "m_r = append(m,[['Avg',12,15,13,11]],0)\n",
    "\n",
    "print(m_r)"
   ]
  },
  {
   "cell_type": "markdown",
   "metadata": {},
   "source": [
    "添加到第2行，后面的0表示插入行，1则为插入列，[1]表示插入到第2行"
   ]
  },
  {
   "cell_type": "code",
   "execution_count": 4,
   "metadata": {},
   "outputs": [
    {
     "name": "stdout",
     "output_type": "stream",
     "text": [
      "[['Mon' '18' '20' '22' '17']\n",
      " ['Avg' '12' '15' '13' '11']\n",
      " ['Tue' '11' '18' '21' '18']\n",
      " ['Wed' '15' '21' '20' '19']\n",
      " ['Thu' '11' '20' '22' '21']\n",
      " ['Fri' '18' '17' '23' '22']\n",
      " ['Sat' '12' '22' '20' '18']\n",
      " ['Sun' '13' '15' '19' '16']]\n"
     ]
    }
   ],
   "source": [
    "m_r2 = insert(m,[1],[['Avg','12','15','13','11']],0)\n",
    "\n",
    "print(m_r2)"
   ]
  },
  {
   "cell_type": "markdown",
   "metadata": {},
   "source": [
    "### 添加列\n",
    "\n",
    "添加到第4列，后面的1表示插入列，0则为插入行，[3]表示插入到第4列"
   ]
  },
  {
   "cell_type": "code",
   "execution_count": 5,
   "metadata": {},
   "outputs": [
    {
     "name": "stdout",
     "output_type": "stream",
     "text": [
      "[['Mon' '18' '20' '1' '2' '22' '17']\n",
      " ['Tue' '11' '18' '2' '3' '21' '18']\n",
      " ['Wed' '15' '21' '3' '4' '20' '19']\n",
      " ['Thu' '11' '20' '4' '5' '22' '21']\n",
      " ['Fri' '18' '17' '5' '6' '23' '22']\n",
      " ['Sat' '12' '22' '6' '7' '20' '18']\n",
      " ['Sun' '13' '15' '7' '8' '19' '16']]\n"
     ]
    }
   ],
   "source": [
    "m_c = insert(m,[3],[[1,2],[2,3],[3,4],[4,5],[5,6],[6,7],[7,8]],1)\n",
    "\n",
    "print(m_c)"
   ]
  },
  {
   "cell_type": "markdown",
   "metadata": {},
   "source": [
    "## 删除行或者列\n",
    "\n",
    "删除行，`delete(array,[index_list],0)`"
   ]
  },
  {
   "cell_type": "code",
   "execution_count": 6,
   "metadata": {},
   "outputs": [
    {
     "name": "stdout",
     "output_type": "stream",
     "text": [
      "[['Mon' '18' '20' '22' '17']\n",
      " ['Tue' '11' '18' '21' '18']\n",
      " ['Thu' '11' '20' '22' '21']\n",
      " ['Fri' '18' '17' '23' '22']\n",
      " ['Sat' '12' '22' '20' '18']\n",
      " ['Sun' '13' '15' '19' '16']]\n"
     ]
    }
   ],
   "source": [
    "# 删除第3行\n",
    "mde = delete(m,[2],0)\n",
    "\n",
    "print(mde)"
   ]
  },
  {
   "cell_type": "markdown",
   "metadata": {},
   "source": [
    "删除列，`delete(array,[index_list],1)`"
   ]
  },
  {
   "cell_type": "code",
   "execution_count": 7,
   "metadata": {},
   "outputs": [
    {
     "name": "stdout",
     "output_type": "stream",
     "text": [
      "[['Mon' '18' '17']\n",
      " ['Tue' '11' '18']\n",
      " ['Wed' '15' '19']\n",
      " ['Thu' '11' '21']\n",
      " ['Fri' '18' '22']\n",
      " ['Sat' '12' '18']\n",
      " ['Sun' '13' '16']]\n"
     ]
    }
   ],
   "source": [
    "# 删除第3、4列\n",
    "mde = delete(m,[2,3],1)\n",
    "\n",
    "print(mde)"
   ]
  },
  {
   "cell_type": "markdown",
   "metadata": {},
   "source": [
    "## 更新"
   ]
  },
  {
   "cell_type": "code",
   "execution_count": 8,
   "metadata": {},
   "outputs": [
    {
     "name": "stdout",
     "output_type": "stream",
     "text": [
      "[['Mon' '18' '20' '22' '17']\n",
      " ['Tue' '11' '18' '21' '18']\n",
      " ['Wed' '15' '21' '20' '19']\n",
      " ['Thu' '0' '0' '0' '0']\n",
      " ['Fri' '18' '17' '23' '22']\n",
      " ['Sat' '12' '22' '20' '18']\n",
      " ['Sun' '13' '15' '19' '16']]\n"
     ]
    }
   ],
   "source": [
    "m = array([['Mon',18,20,22,17],\n",
    "           ['Tue',11,18,21,18],\n",
    "           ['Wed',15,21,20,19],\n",
    "           ['Thu',11,20,22,21],\n",
    "           ['Fri',18,17,23,22],\n",
    "           ['Sat',12,22,20,18],\n",
    "           ['Sun',13,15,19,16]])\n",
    "\n",
    "m[3] = ['Thu',0,0,0,0]\n",
    "\n",
    "print(m)"
   ]
  },
  {
   "cell_type": "code",
   "execution_count": 9,
   "metadata": {},
   "outputs": [
    {
     "name": "stdout",
     "output_type": "stream",
     "text": [
      "[['Mon' '18' '1' '22' '17']\n",
      " ['Tue' '11' '2' '21' '18']\n",
      " ['Wed' '15' '3' '20' '19']\n",
      " ['Thu' '0' '4' '0' '0']\n",
      " ['Fri' '18' '5' '23' '22']\n",
      " ['Sat' '12' '6' '20' '18']\n",
      " ['Sun' '13' '7' '19' '16']]\n"
     ]
    }
   ],
   "source": [
    "m[:,2] = [1,2,3,4,5,6,7]\n",
    "print(m)"
   ]
  }
 ],
 "metadata": {
  "kernelspec": {
   "display_name": "Python 3",
   "language": "python",
   "name": "python3"
  },
  "language_info": {
   "codemirror_mode": {
    "name": "ipython",
    "version": 3
   },
   "file_extension": ".py",
   "mimetype": "text/x-python",
   "name": "python",
   "nbconvert_exporter": "python",
   "pygments_lexer": "ipython3",
   "version": "3.7.3"
  }
 },
 "nbformat": 4,
 "nbformat_minor": 2
}
