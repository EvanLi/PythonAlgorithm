{
 "cells": [
  {
   "cell_type": "markdown",
   "metadata": {},
   "source": [
    "# Python数据结构之链表（linked list）\n",
    "\n",
    "https://www.tutorialspoint.com/python_data_structure/python_linked_lists.htm\n",
    "\n",
    "参考：\n",
    "\n",
    "- [Python数据结构之链表-掘金](https://juejin.im/post/5b93be37e51d450e68674833)\n",
    "- [Python - Linked Lists-tutorialspoint](https://www.tutorialspoint.com/python_data_structure/python_linked_lists.htm)\n",
    "\n",
    "# 一、链表的基本知识\n",
    "\n",
    "熟悉python语法的同学肯定都知道list，但是这并不是真正意义上的链表（linked list）。链表是由一系列的节点(node)来实现的，通过每一个node存储下一个节点的指针来实现一种快速的插入。此外每个节点都有一个cargo包含一定的数据。根据链表结构的不同，其种类可以分为单向链表、单项循环链表、双向链表、双向循环链表等。\n",
    "\n",
    "# 二、创建一个新链表\n",
    "\n",
    "由于链表的功能是依靠节点来完成的，所以链表的建立必然要先建立节点类。我们通过节点间传递值的方式将指针指向下一个节点。如下代码是一个链表的创建，下一节将介绍如何遍历(traverse)链表。"
   ]
  },
  {
   "cell_type": "code",
   "execution_count": 56,
   "metadata": {},
   "outputs": [
    {
     "name": "stdout",
     "output_type": "stream",
     "text": [
      "Wed\n",
      "Wed\n"
     ]
    }
   ],
   "source": [
    "class Node:\n",
    "    '''\n",
    "    定义链表结点\n",
    "    '''\n",
    "    def __init__(self,dataval=None):\n",
    "        self.val = dataval\n",
    "        self.next = None\n",
    "        \n",
    "    def __str__(self):\n",
    "        return str(self.val)\n",
    "        \n",
    "class SLinkedList:\n",
    "    '''\n",
    "    定义链表\n",
    "    '''\n",
    "    def __init__(self):\n",
    "        self.head = None\n",
    "\n",
    "li = SLinkedList()\n",
    "li.head = Node('Mon')\n",
    "e2 = Node('Tue')\n",
    "e3 = Node('Wed')\n",
    "\n",
    "# 连接第一第二个节点\n",
    "li.head.next = e2\n",
    "\n",
    "# 连接第二第三个节点\n",
    "e2.next = e3\n",
    "\n",
    "print(e2.next) #结果为e3内存地址（没有__str__的时候）\n",
    "print(e2.next.val)#结果为e3所代表的值Wed"
   ]
  },
  {
   "cell_type": "code",
   "execution_count": 57,
   "metadata": {},
   "outputs": [
    {
     "name": "stdout",
     "output_type": "stream",
     "text": [
      "<__main__.SLinkedList object at 0x7fdadc3392b0>\n"
     ]
    }
   ],
   "source": [
    "print(li)"
   ]
  },
  {
   "cell_type": "markdown",
   "metadata": {},
   "source": [
    "# 三、链表遍历\n",
    "\n",
    "在创建完链表之后，可以通过输入第一个节点的方式遍历整个链表"
   ]
  },
  {
   "cell_type": "code",
   "execution_count": 59,
   "metadata": {},
   "outputs": [
    {
     "name": "stdout",
     "output_type": "stream",
     "text": [
      "Mon\n",
      "Tue\n",
      "Wed\n"
     ]
    }
   ],
   "source": [
    "class Node:\n",
    "    '''\n",
    "    定义链表结点\n",
    "    '''\n",
    "    def __init__(self,dataval=None):\n",
    "        self.val = dataval\n",
    "        self.next = None\n",
    "        \n",
    "    def __str__(self):\n",
    "        return str(self.val)\n",
    "        \n",
    "class SLinkedList:\n",
    "    '''\n",
    "    定义链表\n",
    "    '''\n",
    "    def __init__(self):\n",
    "        self.head = None\n",
    "        \n",
    "    # 从头到尾打印链表\n",
    "    def LListprint(self):\n",
    "        printval = self.head\n",
    "        while printval is not None:\n",
    "            print(printval.val)\n",
    "            printval = printval.next\n",
    "\n",
    "li = SLinkedList()\n",
    "li.head = Node('Mon')\n",
    "e2 = Node('Tue')\n",
    "e3 = Node('Wed')\n",
    "\n",
    "li.head.next = e2\n",
    "e2.next = e3\n",
    "\n",
    "li.LListprint()"
   ]
  },
  {
   "cell_type": "markdown",
   "metadata": {},
   "source": [
    "# 四、插入\n",
    "\n",
    "在链表中插入一个元素指的是将指针从一个已经存在的节点指向一个新插入的节点。取决于不同的插入位置，主要有以下几种情形。\n",
    "\n",
    "## 1、插入在链表开头\n",
    "\n",
    "在开头插入一个节点顾名思义是将原来的节点变为第二个节点即可，后续排列顺序不变。"
   ]
  },
  {
   "cell_type": "code",
   "execution_count": 62,
   "metadata": {},
   "outputs": [
    {
     "name": "stdout",
     "output_type": "stream",
     "text": [
      "Sun\n",
      "Mon\n",
      "Tue\n",
      "Wed\n"
     ]
    }
   ],
   "source": [
    "class Node:\n",
    "    '''\n",
    "    定义链表结点\n",
    "    '''\n",
    "    def __init__(self,dataval=None):\n",
    "        self.val = dataval\n",
    "        self.next = None\n",
    "        \n",
    "    def __str__(self):\n",
    "        return str(self.val)\n",
    "        \n",
    "class SLinkedList:\n",
    "    '''\n",
    "    定义链表\n",
    "    '''\n",
    "    def __init__(self):\n",
    "        self.head = None\n",
    "        \n",
    "    # 从头到尾打印链表\n",
    "    def LListprint(self):\n",
    "        printval = self.head\n",
    "        while printval is not None:\n",
    "            print(printval.val)\n",
    "            printval = printval.next\n",
    "    \n",
    "    #在头部插入结点    \n",
    "    def InsertHead(self,newdata):\n",
    "        NewNode = Node(newdata)\n",
    "        NewNode.next = self.head #插在最前面，和原先的头指针连接\n",
    "        self.head = NewNode #把NewNode赋值成为新的头指针\n",
    "        \n",
    "li = SLinkedList()\n",
    "li.head = Node('Mon')\n",
    "e2 = Node('Tue')\n",
    "e3 = Node('Wed')\n",
    "\n",
    "li.head.next = e2\n",
    "e2.next = e3\n",
    "\n",
    "li.InsertHead('Sun') #插入结点\n",
    "li.LListprint()"
   ]
  },
  {
   "cell_type": "markdown",
   "metadata": {},
   "source": [
    "## 2、插入在链表末尾\n",
    "\n",
    "这涉及将链表的当前最后一个节点的下一个指针指向新数据节点。因此，链表的当前最后一个节点成为倒数第二个数据节点，新节点成为链表的最后一个节点。"
   ]
  },
  {
   "cell_type": "code",
   "execution_count": 64,
   "metadata": {},
   "outputs": [
    {
     "name": "stdout",
     "output_type": "stream",
     "text": [
      "Mon\n",
      "Tue\n",
      "Wed\n",
      "Thu\n"
     ]
    }
   ],
   "source": [
    "class Node:\n",
    "    '''\n",
    "    定义链表结点\n",
    "    '''\n",
    "    def __init__(self,dataval=None):\n",
    "        self.val = dataval\n",
    "        self.next = None\n",
    "        \n",
    "    def __str__(self):\n",
    "        return str(self.val)\n",
    "        \n",
    "class SLinkedList:\n",
    "    '''\n",
    "    定义链表\n",
    "    '''\n",
    "    def __init__(self):\n",
    "        self.head = None\n",
    "        \n",
    "    # 从头到尾打印链表\n",
    "    def LListprint(self):\n",
    "        printval = self.head\n",
    "        while printval is not None:\n",
    "            print(printval.val)\n",
    "            printval = printval.next\n",
    "    \n",
    "    # 在尾部插入结点    \n",
    "    def InsertEnd(self,newdata):\n",
    "        NewNode = Node(newdata)\n",
    "        \n",
    "        if self.head is None:\n",
    "            self.head = NewNode #头节点\n",
    "            return\n",
    "        laste = self.head\n",
    "        while(laste.next): #一直找到原先的最后一个结点\n",
    "            laste = laste.next\n",
    "        laste.next = NewNode #在最后一个结点后添加新结点\n",
    "        \n",
    "li = SLinkedList()\n",
    "li.head = Node('Mon')\n",
    "e2 = Node('Tue')\n",
    "e3 = Node('Wed')\n",
    "\n",
    "li.head.next = e2\n",
    "e2.next = e3\n",
    "\n",
    "li.InsertEnd('Thu')\n",
    "li.LListprint()"
   ]
  },
  {
   "cell_type": "markdown",
   "metadata": {},
   "source": [
    "## 3、在两个元素中间插入\n",
    "\n",
    "把需要插入位置的前一个指针指向新节点，将新节点的指针指向插入位置的下一个节点即可。\n",
    "\n",
    "这涉及查询特定节点的指针以指向新节点。这可以通过传入新节点和现有节点来实现，之后将插入新节点。\n",
    "\n",
    "因此，我们定义了一个方法，它将新节点的下一个指针更改为中间节点的下一个指针。然后将新节点分配给中间节点的下一个指针。"
   ]
  },
  {
   "cell_type": "code",
   "execution_count": 69,
   "metadata": {},
   "outputs": [
    {
     "name": "stdout",
     "output_type": "stream",
     "text": [
      "Mon\n",
      "Tue\n",
      "Wed\n",
      "Thu\n"
     ]
    }
   ],
   "source": [
    "class Node:\n",
    "    '''\n",
    "    定义链表结点\n",
    "    '''\n",
    "    def __init__(self,dataval=None):\n",
    "        self.val = dataval\n",
    "        self.next = None\n",
    "        \n",
    "    def __str__(self):\n",
    "        return str(self.val)\n",
    "        \n",
    "class SLinkedList:\n",
    "    '''\n",
    "    定义链表\n",
    "    '''\n",
    "    def __init__(self):\n",
    "        self.head = None\n",
    "        \n",
    "    # 从头到尾打印链表\n",
    "    def LListprint(self):\n",
    "        printval = self.head\n",
    "        while printval is not None:\n",
    "            print(printval.val)\n",
    "            printval = printval.next\n",
    "    \n",
    "    # 在中间插入结点\n",
    "    def InsertBetween(self,middle_node,newdata):\n",
    "        if middle_node is None:\n",
    "            print(\"The mentioned node is absent\")\n",
    "            return\n",
    "        NewNode = Node(newdata)\n",
    "        \n",
    "        NewNode.next = middle_node.next #先要把新结点放到后一个指针的前面\n",
    "        middle_node.next = NewNode #然后再和前面的指针连接\n",
    "        \n",
    "        \n",
    "li = SLinkedList()\n",
    "li.head = Node('Mon')\n",
    "e2 = Node('Tue')\n",
    "e3 = Node('Thu')\n",
    "\n",
    "li.head.next = e2\n",
    "e2.next = e3\n",
    "\n",
    "li.InsertBetween(li.head.next,\"Wed\") #插入结点\n",
    "\n",
    "li.LListprint()"
   ]
  },
  {
   "cell_type": "markdown",
   "metadata": {},
   "source": [
    "# 五、删除链表元素\n",
    "\n",
    "我们可以使用该节点的密钥删除现有节点。在下面的程序中，我们找到要删除的节点的前一个节点。然后将该节点的下一个指针指向要删除的节点的下一个节点。"
   ]
  },
  {
   "cell_type": "code",
   "execution_count": 72,
   "metadata": {},
   "outputs": [
    {
     "name": "stdout",
     "output_type": "stream",
     "text": [
      "Mon\n",
      "Thu\n"
     ]
    }
   ],
   "source": [
    "class Node:\n",
    "    '''\n",
    "    定义链表结点\n",
    "    '''\n",
    "    def __init__(self,dataval=None):\n",
    "        self.val = dataval\n",
    "        self.next = None\n",
    "        \n",
    "    def __str__(self):\n",
    "        return str(self.val)\n",
    "        \n",
    "class SLinkedList:\n",
    "    '''\n",
    "    定义链表\n",
    "    '''\n",
    "    def __init__(self):\n",
    "        self.head = None\n",
    "        \n",
    "    # 从头到尾打印链表\n",
    "    def LListprint(self):\n",
    "        printval = self.head\n",
    "        while printval is not None:\n",
    "            print(printval.val)\n",
    "            printval = printval.next          \n",
    "\n",
    "    # 删除结点\n",
    "    def RemoveNode(self, Removekey):\n",
    "        HeadVal = self.head\n",
    "        if (HeadVal is not None): #链表不空\n",
    "            if (HeadVal.val == Removekey): #删除头结点\n",
    "                self.head = HeadVal.next\n",
    "                HeadVal = None\n",
    "                return\n",
    "\n",
    "        while (HeadVal is not None):\n",
    "            if HeadVal.val == Removekey:\n",
    "                break\n",
    "            prev = HeadVal\n",
    "            HeadVal = HeadVal.next\n",
    "        if (HeadVal == None):\n",
    "            return\n",
    "        prev.next = HeadVal.next\n",
    "\n",
    "li = SLinkedList()\n",
    "li.head = Node('Mon')\n",
    "e2 = Node('Tue')\n",
    "e3 = Node('Thu')\n",
    "\n",
    "li.head.next = e2\n",
    "e2.next = e3\n",
    "\n",
    "li.RemoveNode('Tue') #删除结点\n",
    "\n",
    "li.LListprint()"
   ]
  },
  {
   "cell_type": "markdown",
   "metadata": {},
   "source": [
    "# 汇总总结："
   ]
  },
  {
   "cell_type": "code",
   "execution_count": 74,
   "metadata": {},
   "outputs": [
    {
     "name": "stdout",
     "output_type": "stream",
     "text": [
      "Mon\n",
      "Tue\n",
      "Thu\n",
      "Wed\n",
      "Fri\n"
     ]
    }
   ],
   "source": [
    "class Node:\n",
    "    '''\n",
    "    定义链表结点\n",
    "    '''\n",
    "    def __init__(self,dataval=None):\n",
    "        self.val = dataval\n",
    "        self.next = None\n",
    "        \n",
    "    def __str__(self):\n",
    "        return str(self.val)\n",
    "        \n",
    "class SLinkedList:\n",
    "    '''\n",
    "    定义链表\n",
    "    '''\n",
    "    def __init__(self):\n",
    "        self.head = None\n",
    "        \n",
    "    # 从头到尾打印链表（遍历链表）\n",
    "    def LListprint(self):\n",
    "        printval = self.head\n",
    "        while printval is not None:\n",
    "            print(printval.val)\n",
    "            printval = printval.next\n",
    "            \n",
    "    #在头部插入结点    \n",
    "    def InsertHead(self,newdata):\n",
    "        NewNode = Node(newdata)\n",
    "        NewNode.next = self.head #插在最前面，和原先的头指针连接\n",
    "        self.head = NewNode #把NewNode赋值成为新的头指针\n",
    "        \n",
    "    # 在尾部插入结点    \n",
    "    def InsertEnd(self,newdata):\n",
    "        NewNode = Node(newdata)\n",
    "        \n",
    "        if self.head is None:\n",
    "            self.head = NewNode #头节点\n",
    "            return\n",
    "        laste = self.head\n",
    "        while(laste.next): #一直找到原先的最后一个结点\n",
    "            laste = laste.next\n",
    "        laste.next = NewNode #在最后一个结点后添加新结点\n",
    "        \n",
    "    # 在中间插入结点\n",
    "    def InsertBetween(self,middle_node,newdata):\n",
    "        if middle_node is None:\n",
    "            print(\"The mentioned node is absent\")\n",
    "            return\n",
    "        NewNode = Node(newdata)\n",
    "        \n",
    "        NewNode.next = middle_node.next #先要把新结点放到后一个指针的前面\n",
    "        middle_node.next = NewNode #然后再和前面的指针连接\n",
    "        \n",
    "    # 删除结点\n",
    "    def RemoveNode(self, Removekey):\n",
    "        HeadVal = self.head\n",
    "        if (HeadVal is not None): #链表不空\n",
    "            if (HeadVal.val == Removekey): #删除头结点\n",
    "                self.head = HeadVal.next\n",
    "                HeadVal = None\n",
    "                return\n",
    "\n",
    "        while (HeadVal is not None):\n",
    "            if HeadVal.val == Removekey:\n",
    "                break\n",
    "            prev = HeadVal\n",
    "            HeadVal = HeadVal.next\n",
    "        if (HeadVal == None):\n",
    "            return\n",
    "        prev.next = HeadVal.next\n",
    "\n",
    "#创建链表\n",
    "li = SLinkedList()\n",
    "li.head = Node('Mon')\n",
    "e2 = Node('Tue')\n",
    "e3 = Node('Thu')\n",
    "\n",
    "li.head.next = e2\n",
    "e2.next = e3\n",
    "\n",
    "\n",
    "li.InsertHead('Sun') #头部插入结点\n",
    "li.InsertEnd('Fri') #尾部插入结点\n",
    "li.InsertBetween(e3,'Wed')\n",
    "li.RemoveNode('Sun') #删除结点\n",
    "\n",
    "li.LListprint()"
   ]
  }
 ],
 "metadata": {
  "kernelspec": {
   "display_name": "Python 3",
   "language": "python",
   "name": "python3"
  },
  "language_info": {
   "codemirror_mode": {
    "name": "ipython",
    "version": 3
   },
   "file_extension": ".py",
   "mimetype": "text/x-python",
   "name": "python",
   "nbconvert_exporter": "python",
   "pygments_lexer": "ipython3",
   "version": "3.7.3"
  }
 },
 "nbformat": 4,
 "nbformat_minor": 2
}
