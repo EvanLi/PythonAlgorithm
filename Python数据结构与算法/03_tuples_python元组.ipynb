{
 "cells": [
  {
   "cell_type": "markdown",
   "metadata": {},
   "source": [
    "# Python元组(Tuples)\n",
    "\n",
    "元组是一系列不可变的Python对象。 元组是序列，就像列表一样。 元组和列表之间的区别是，元组不能更改，列表可以更改。元组使用圆括号，而列表使用方括号。\n",
    "\n",
    "## 创建元组"
   ]
  },
  {
   "cell_type": "code",
   "execution_count": 1,
   "metadata": {},
   "outputs": [
    {
     "name": "stdout",
     "output_type": "stream",
     "text": [
      "('physics', 'chemistry', 1997, 2000)\n",
      "(1, 2, 3, 4, 5)\n",
      "('a', 'b', 'c', 'd')\n",
      "()\n",
      "(100,)\n"
     ]
    }
   ],
   "source": [
    "tup1 = ('physics', 'chemistry', 1997, 2000)\n",
    "print(tup1)\n",
    "tup2 = (1, 2, 3, 4, 5 )\n",
    "print(tup2)\n",
    "\n",
    "# 也可以不加括号\n",
    "tup3 = \"a\", \"b\", \"c\", \"d\"\n",
    "print(tup3)\n",
    "\n",
    "# 空元组\n",
    "tup4 = ()\n",
    "print(tup4)\n",
    "\n",
    "# 创建只有一个元素的元组，需要加上逗号（否则直接是int）\n",
    "tup5 = (100,)\n",
    "print(tup5)"
   ]
  },
  {
   "cell_type": "markdown",
   "metadata": {},
   "source": [
    "## 访问元组\n",
    "\n",
    "和list相似，直接用中括号进行索引"
   ]
  },
  {
   "cell_type": "code",
   "execution_count": 2,
   "metadata": {},
   "outputs": [
    {
     "name": "stdout",
     "output_type": "stream",
     "text": [
      "physics\n",
      "('chemistry', 1997, 2000)\n"
     ]
    }
   ],
   "source": [
    "tup1 = ('physics', 'chemistry', 1997, 2000);\n",
    "print(tup1[0])\n",
    "print(tup1[1:4])"
   ]
  },
  {
   "cell_type": "markdown",
   "metadata": {},
   "source": [
    "## 不能更改和删除tuple元素"
   ]
  },
  {
   "cell_type": "markdown",
   "metadata": {},
   "source": [
    "## 元组基本操作\n",
    "\n",
    "```\n",
    "len, +, *, i in tuple, for i in tuple\n",
    "```"
   ]
  },
  {
   "cell_type": "code",
   "execution_count": 3,
   "metadata": {},
   "outputs": [
    {
     "name": "stdout",
     "output_type": "stream",
     "text": [
      "3\n",
      "(1, 2, 3, 4, 5, 6)\n",
      "('Hi!', 'Hi!', 'Hi!', 'Hi!')\n",
      "True\n",
      "1\n",
      "2\n",
      "3\n"
     ]
    }
   ],
   "source": [
    "# len\n",
    "print(len((1,2,3)))\n",
    "\n",
    "# + 加号\n",
    "print((1,2,3)+(4,5,6))\n",
    "\n",
    "# * 乘号\n",
    "print(('Hi!',) * 4)\n",
    "\n",
    "# Membership 包含,输出Ture False\n",
    "print(3 in (1, 2, 3))\n",
    "\n",
    "# Iteration 迭代\n",
    "for x in (1, 2, 3): print(x)"
   ]
  }
 ],
 "metadata": {
  "kernelspec": {
   "display_name": "Python 3 (system-wide)",
   "language": "python",
   "name": "python3"
  },
  "language_info": {
   "codemirror_mode": {
    "name": "ipython",
    "version": 3
   },
   "file_extension": ".py",
   "mimetype": "text/x-python",
   "name": "python",
   "nbconvert_exporter": "python",
   "pygments_lexer": "ipython3",
   "version": "3.6.8"
  }
 },
 "nbformat": 4,
 "nbformat_minor": 2
}
