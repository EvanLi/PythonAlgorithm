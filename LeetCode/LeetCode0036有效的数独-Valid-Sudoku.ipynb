{
 "cells": [
  {
   "cell_type": "markdown",
   "metadata": {},
   "source": [
    "# LeetCode 36.有效的数独\n",
    "判断一个 9x9 的数独是否有效。只需要根据以下规则，验证已经填入的数字是否有效即可。\n",
    "\n",
    "- 数字 1-9 在每一行只能出现一次。\n",
    "- 数字 1-9 在每一列只能出现一次。\n",
    "- 数字 1-9 在每一个以粗实线分隔的 3x3 宫内只能出现一次。\n",
    "\n",
    "![](https://upload.wikimedia.org/wikipedia/commons/thumb/f/ff/Sudoku-by-L2G-20050714.svg/250px-Sudoku-by-L2G-20050714.svg.png)\n",
    "\n",
    "## 一次迭代即可进行判断\n",
    "\n",
    "### 1.首先要解决怎么判断子数独的序号\n",
    "\n",
    "如图所示，为9个子数独的标号，可以根据行和列进行确定：\n",
    "\n",
    "\n",
    "<img src=\"https://raw.githubusercontent.com/hostimg/img/gh-pages/s/20190819223351.png\" width=300px/>\n",
    "\n",
    "`box = (row // 3) * 3 + columns // 3`\n",
    "\n",
    "其中 // 取整除 - 返回商的整数部分（向下取整）\n",
    "\n",
    "### 2.分别创建集合set()用来判断行、列、子数独中是否已经出现\n",
    "\n",
    "### 3.程序如下"
   ]
  },
  {
   "cell_type": "code",
   "execution_count": 13,
   "metadata": {},
   "outputs": [],
   "source": [
    "class Solution(object):\n",
    "    def isValidSudoku(self,board):\n",
    "        \"\"\"\n",
    "        :type board:List[List[str]]\n",
    "        :rtype:bool\n",
    "        \"\"\"\n",
    "        digits = [str(i) for i in range(1,10)] #判断1-9以外的数\n",
    "        rows = [set() for _ in range(9)] #分别保存9行出现的数\n",
    "        cols = [set() for _ in range(9)] #分别保存9列出现的数\n",
    "        boxes = [set() for _ in range(9)] #分别保存9个方格出现的数\n",
    "        \n",
    "        for r in range(9):\n",
    "            for c in range(9):\n",
    "                digit = board[r][c]\n",
    "                if digit == '.':\n",
    "                    continue\n",
    "                if digit not in digits: #出现1-9以外的数\n",
    "                    return False\n",
    "                box = (r // 3) * 3 + c // 3 #计算子数独序号\n",
    "                if digit in rows[r] or digit in cols[c] or digit in boxes[box]:\n",
    "                    #如果已经出现过，则输出False\n",
    "                    return False\n",
    "                # 否则，在各个set()中添加这个数字\n",
    "                rows[r].add(digit)\n",
    "                rows[c].add(digit)\n",
    "                boxes[box].add(digit)\n",
    "        return True"
   ]
  },
  {
   "cell_type": "markdown",
   "metadata": {},
   "source": [
    "**测试1：**"
   ]
  },
  {
   "cell_type": "code",
   "execution_count": 15,
   "metadata": {},
   "outputs": [
    {
     "data": {
      "text/plain": [
       "True"
      ]
     },
     "execution_count": 15,
     "metadata": {},
     "output_type": "execute_result"
    }
   ],
   "source": [
    "board = [\n",
    "  [\"5\",\"3\",\".\",\".\",\"7\",\".\",\".\",\".\",\".\"],\n",
    "  [\"6\",\".\",\".\",\"1\",\"9\",\"5\",\".\",\".\",\".\"],\n",
    "  [\".\",\"9\",\"8\",\".\",\".\",\".\",\".\",\"6\",\".\"],\n",
    "  [\"8\",\".\",\".\",\".\",\"6\",\".\",\".\",\".\",\"3\"],\n",
    "  [\"4\",\".\",\".\",\"8\",\".\",\"3\",\".\",\".\",\"1\"],\n",
    "  [\"7\",\".\",\".\",\".\",\"2\",\".\",\".\",\".\",\"6\"],\n",
    "  [\".\",\"6\",\".\",\".\",\".\",\".\",\"2\",\"8\",\".\"],\n",
    "  [\".\",\".\",\".\",\"4\",\"1\",\"9\",\".\",\".\",\"5\"],\n",
    "  [\".\",\".\",\".\",\".\",\"8\",\".\",\".\",\"7\",\"9\"]\n",
    "]\n",
    "s = Solution()\n",
    "s.isValidSudoku(board)"
   ]
  },
  {
   "cell_type": "markdown",
   "metadata": {},
   "source": [
    "**测试2：**"
   ]
  },
  {
   "cell_type": "code",
   "execution_count": 18,
   "metadata": {},
   "outputs": [
    {
     "data": {
      "text/plain": [
       "False"
      ]
     },
     "execution_count": 18,
     "metadata": {},
     "output_type": "execute_result"
    }
   ],
   "source": [
    "board = [\n",
    "    [\"8\",\"3\",\".\",\".\",\"7\",\".\",\".\",\".\",\".\"],\n",
    "    [\"6\",\".\",\".\",\"1\",\"9\",\"5\",\".\",\".\",\".\"],\n",
    "    [\".\",\"9\",\"8\",\".\",\".\",\".\",\".\",\"6\",\".\"],\n",
    "    [\"8\",\".\",\".\",\".\",\"6\",\".\",\".\",\".\",\"3\"],\n",
    "    [\"4\",\".\",\".\",\"8\",\".\",\"3\",\".\",\".\",\"1\"],\n",
    "    [\"7\",\".\",\".\",\".\",\"2\",\".\",\".\",\".\",\"6\"],\n",
    "    [\".\",\"6\",\".\",\".\",\".\",\".\",\"2\",\"8\",\".\"],\n",
    "    [\".\",\".\",\".\",\"4\",\"1\",\"9\",\".\",\".\",\"5\"],\n",
    "    [\".\",\".\",\".\",\".\",\"8\",\".\",\".\",\"7\",\"9\"]\n",
    "]\n",
    "\n",
    "s = Solution()\n",
    "s.isValidSudoku(board)"
   ]
  }
 ],
 "metadata": {
  "kernelspec": {
   "display_name": "tf36",
   "language": "python",
   "name": "tf36"
  },
  "language_info": {
   "codemirror_mode": {
    "name": "ipython",
    "version": 3
   },
   "file_extension": ".py",
   "mimetype": "text/x-python",
   "name": "python",
   "nbconvert_exporter": "python",
   "pygments_lexer": "ipython3",
   "version": "3.6.8"
  }
 },
 "nbformat": 4,
 "nbformat_minor": 2
}
