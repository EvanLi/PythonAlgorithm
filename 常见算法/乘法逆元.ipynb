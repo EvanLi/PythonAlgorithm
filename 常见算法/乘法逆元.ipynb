{
 "cells": [
  {
   "cell_type": "markdown",
   "metadata": {},
   "source": [
    "# 乘法逆元\n",
    "\n",
    "\n",
    "## 1.逆元简介\n",
    "\n",
    "参考：[乘法逆元-OI Wiki](https://oi-wiki.org/math/inverse/)\n",
    "\n",
    "介绍模意义下乘法运算的逆元（Modular Multiplicative Inverse），并介绍如何使用扩展欧几里德算法（Extended Euclidean algorithm）求解乘法逆元\n",
    "\n",
    "如果一个线性同余方程：\n",
    "\n",
    "$$xy \\equiv 1 \\;(\\bmod\\; p)$$\n",
    "\n",
    "则$y$称为$x \\bmod b$的逆元，记为$x^{-1}$\n",
    "\n",
    "有：\n",
    "\n",
    "$$x\\times x^{-1} \\equiv 1 \\;(\\bmod\\; p)$$\n",
    "\n",
    "例如，求5关于模14的乘法逆元：\n",
    "\n",
    "$$5\\times 3 \\equiv 1 \\;(\\bmod\\; 14)$$\n",
    "\n",
    "因此，5关于模14的乘法逆元为3。\n",
    "\n",
    "## 2.应用\n",
    "\n",
    "参考：[乘法逆元的几种计算方法](https://oi.men.ci/mul-inverse/)\n",
    "\n",
    "乘法逆元的一大应用是模意义下的除法，除法在模意义下并不是封闭的，但我们可以根据上述公式，将其转化为乘法。\n",
    "\n",
    "$$\\frac{x}{y} \\equiv x\\times y^{-1} \\;(\\bmod\\; p)$$\n",
    "\n",
    "## 3.求解方法：快速幂法\n",
    "\n",
    "### 3.1费马小定理\n",
    "\n",
    "假如a是一个整数，p是一个质数，那么$a^{p}-a$是$p$的倍数，可以表示为:\n",
    "\n",
    "$$a^{p} \\equiv a \\;(\\bmod\\; p)$$\n",
    "\n",
    "如果a不是p的倍数，这个定理也可以写成\n",
    "\n",
    "$$a^{p-1} \\equiv 1 \\;(\\bmod\\; p)$$\n",
    "\n",
    "这个书写方式更加常用"
   ]
  },
  {
   "cell_type": "code",
   "execution_count": 1,
   "metadata": {},
   "outputs": [
    {
     "data": {
      "text/plain": [
       "1"
      ]
     },
     "execution_count": 1,
     "metadata": {},
     "output_type": "execute_result"
    }
   ],
   "source": [
    "p = 221\n",
    "a = 38\n",
    "pow(a,p-1,p)"
   ]
  },
  {
   "cell_type": "markdown",
   "metadata": {},
   "source": [
    "### 3.2求解\n",
    "\n",
    "上述公式可变形为:\n",
    "\n",
    "$$a\\times a^{p-2} \\equiv 1 \\;(\\bmod\\; p)$$\n",
    "\n",
    "由乘法逆元的定义，$a^{p-2}$ 即为 $a$ 的乘法逆元。求乘法逆元等价于求$a^{p-2}$\n",
    "\n",
    "使用快速幂计算$a^{p-2}$，总时间复杂度为 $O(loga)$。\n",
    "\n",
    "#### 模意义下取幂与乘法逆元\n",
    "\n",
    "计算 \n",
    "\n",
    "$$x^n \\bmod\\; m$$\n",
    "\n",
    "https://oi-wiki.org/math/quick-pow/#_3\n",
    "\n",
    "快速幂的一个非常常见的应用，模意义下取幂，它可以用于计算模意义下的乘法逆元。\n",
    "\n",
    "既然我们知道取模的运算不会干涉乘法运算，因此我们只需要在计算的过程中取模即可。\n",
    "\n",
    "代码如下："
   ]
  },
  {
   "cell_type": "code",
   "execution_count": 14,
   "metadata": {},
   "outputs": [
    {
     "name": "stdout",
     "output_type": "stream",
     "text": [
      "905611805\n",
      "333333336\n"
     ]
    }
   ],
   "source": [
    "def fast_pow(x,n,MOD):\n",
    "    \"\"\"x^n对MOD取模\"\"\"\n",
    "    res = 1\n",
    "    x %= MOD\n",
    "    while n > 0:\n",
    "        if n&1: #位与=1时，n是奇数\n",
    "            res = res * x % MOD\n",
    "        x = x * x % MOD #base翻倍\n",
    "        n >>= 1 #右移一位\n",
    "    return res\n",
    "\n",
    "def mod_multi_inv(num,MOD):\n",
    "    #模意义下的乘法逆元\n",
    "    return fast_pow(num, MOD-2, MOD)\n",
    "if __name__ == \"__main__\":\n",
    "    MOD = 10**9+7\n",
    "    print(fast_pow(2,10000,MOD))\n",
    "    print(mod_multi_inv(3,MOD))"
   ]
  },
  {
   "cell_type": "markdown",
   "metadata": {},
   "source": [
    "C++代码：\n",
    "\n",
    "- 写法一：\n",
    "\n",
    "```\n",
    "long long binpow(long long a, long long b, long long m) {\n",
    "  a %= m;\n",
    "  long long res = 1;\n",
    "  while (b > 0) {\n",
    "    if (b & 1) res = res * a % m;\n",
    "    a = a * a % m;\n",
    "    b >>= 1;\n",
    "  }\n",
    "  return res;\n",
    "}\n",
    "\n",
    "inline int inverse(const int num,long long MOD){\n",
    "    return binpow(num, MOD - 2, MOD);\n",
    "}\n",
    "```\n",
    "\n",
    "- 写法二：\n",
    "\n",
    "```\n",
    "inline int pow(const int n, const int k) {\n",
    "    long long ans = 1;\n",
    "    for (long long num = n, t = k; t; num = num * num % MOD, t >>= 1) \n",
    "        if (t & 1) ans = ans * num % MOD;\n",
    "    return ans;\n",
    "}\n",
    "\n",
    "inline int inv(const int num) {\n",
    "    return pow(num, MOD - 2);\n",
    "}\n",
    "```"
   ]
  },
  {
   "cell_type": "markdown",
   "metadata": {},
   "source": [
    "#### 除法取模\n",
    "\n",
    "$$x^n \\bmod\\; m$$\n",
    "\n",
    "$$\\frac{x}{y} \\bmod\\; MOD = x*y^{-1} \\bmod\\; MOD = ((x \\bmod\\; MOD) *(y^{-1} \\bmod\\; MOD)) \\bmod\\; MOD$$\n",
    "\n",
    "代码如下："
   ]
  },
  {
   "cell_type": "code",
   "execution_count": 18,
   "metadata": {},
   "outputs": [
    {
     "name": "stdout",
     "output_type": "stream",
     "text": [
      "905611805\n",
      "333333336\n",
      "333333337\n"
     ]
    }
   ],
   "source": [
    "def fast_pow(x,n,MOD):\n",
    "    \"\"\"x^n对MOD取模\"\"\"\n",
    "    res = 1\n",
    "    x %= MOD\n",
    "    while n > 0:\n",
    "        if n&1: #位与=1时，n是奇数\n",
    "            res = res * x % MOD\n",
    "        x = x * x % MOD #base翻倍\n",
    "        n >>= 1 #右移一位\n",
    "    return res\n",
    "\n",
    "def mod_multi_inv(num,MOD):\n",
    "    #模意义下的乘法逆元\n",
    "    return fast_pow(num, MOD-2, MOD)\n",
    "\n",
    "def divide_mod(num,den,MOD):\n",
    "    #den:分母，num:分子 num/den\n",
    "    inv_den = mod_multi_inv(den,MOD)\n",
    "    return ((num%MOD)*inv_den)%MOD\n",
    "\n",
    "if __name__ == \"__main__\":\n",
    "    MOD = 10**9+7\n",
    "    print(fast_pow(2,10000,MOD))\n",
    "    print(mod_multi_inv(3,MOD))\n",
    "    print(divide_mod(4,3,MOD)) #4/3对1e9+7取模"
   ]
  },
  {
   "cell_type": "markdown",
   "metadata": {},
   "source": [
    "## 求解方法：扩展欧几里得法\n",
    "\n",
    "扩展欧几里得（EXGCD）算法可以在$O(log\\ max(a,b))$的时间内求出关于 x、y 的方程\n",
    "\n",
    "$$ax+by=gcd(a,b)$$\n",
    "\n",
    "的一组整数解\n",
    "\n",
    "当b为素数时，gcd(a,b)=1，此时有\n",
    "\n",
    "$$ax\\equiv 1 \\;(\\bmod\\; b)$$\n",
    "\n",
    "即x是a的乘法逆元"
   ]
  },
  {
   "cell_type": "markdown",
   "metadata": {},
   "source": [
    "C++代码：\n",
    "\n",
    "```\n",
    "void exgcd(const int a, const int b, int &g, int &x, int &y) {\n",
    "    if (!b) g = a, x = 1, y = 0;\n",
    "    else exgcd(b, a % b, g, y, x), y -= x * (a / b);\n",
    "}\n",
    "\n",
    "inline int inv(const int num) {\n",
    "    int g, x, y;\n",
    "    exgcd(num, MOD, g, x, y);\n",
    "    return ((x % MOD) + MOD) % MOD;\n",
    "}\n",
    "```"
   ]
  },
  {
   "cell_type": "markdown",
   "metadata": {},
   "source": [
    "## 例题求解：\n",
    "\n",
    "[P2613 【模板】有理数取余](https://www.luogu.org/problem/P2613)\n",
    "\n",
    "题目描述\n",
    "给出一个有理数$c=\\frac{a}{b}$，\n",
    "\n",
    "求$c\\ \\bmod 19260817$的值。\n",
    "\n",
    "输入格式\n",
    "一共两行。\n",
    "\n",
    "第一行，一个整数a。\n",
    "第二行，一个整数b。\n",
    "\n",
    "输出格式\n",
    "一个整数，代表求余后的结果。如果无解，输出Angry!\n",
    "\n",
    "输入输出样例\n",
    "\n",
    "输入 #1\n",
    "```\n",
    "233\n",
    "666\n",
    "```\n",
    "输出 #1 \n",
    "```\n",
    "18595654\n",
    "```\n",
    "说明/提示\n",
    "对于所有数据，$0\\leq a,b \\leq 10^{10001}$\n",
    "\n",
    "https://www.cnblogs.com/lykkk/p/10902396.html\n",
    "\n"
   ]
  }
 ],
 "metadata": {
  "kernelspec": {
   "display_name": "Python 3",
   "language": "python",
   "name": "python3"
  },
  "language_info": {
   "codemirror_mode": {
    "name": "ipython",
    "version": 3
   },
   "file_extension": ".py",
   "mimetype": "text/x-python",
   "name": "python",
   "nbconvert_exporter": "python",
   "pygments_lexer": "ipython3",
   "version": "3.6.8"
  }
 },
 "nbformat": 4,
 "nbformat_minor": 2
}
