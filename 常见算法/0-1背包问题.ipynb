{
 "cells": [
  {
   "cell_type": "markdown",
   "metadata": {},
   "source": [
    "# 0-1背包问题的动态规划算法\n",
    "\n",
    "https://zhuanlan.zhihu.com/p/30959069\n",
    "\n",
    "## 1.什么是0-1背包问题（knapsack problem）\n",
    "\n",
    "给定一组多个$n$物品，每种物品都有自己的重量$w_i$和价值$v_i$\n",
    "\n",
    "在限定的总重量/总容量$C$内，选择其中若干个（也即每种物品可以选0个或1个）\n",
    "\n",
    "设计选择方案使得物品的总价值最高\n",
    "\n",
    "转换成数学语言：\n",
    "\n",
    "给定正整数$\\{(w_i,v_i)\\}_{1\\leq i\\leq n}$、给定正整数$C$，求解0-1规划问题：\n",
    "\n",
    "$$\n",
    "\\max \\sum_{i=1}^{n}{x_iv_i}\n",
    "$$\n",
    "s.t.,\n",
    "$$\n",
    "\\sum_{i=1}^{n}{x_iw_i}\\leq C\n",
    "$$\n",
    "$$\n",
    "x_i\\in\\{0,1\\}\n",
    "$$\n",
    "\n",
    "示例应用：处理器能力有限时间受限，任务很多，如何选择使得总效用最大？\n",
    "\n",
    "## 0-1背包问题的定性\n",
    "\n",
    "对于一般性的0-1背包，\n",
    "\n",
    "贪婪算法无法得到最优解。\n",
    "\n",
    "## 0-1背包问题的递推关系\n",
    "\n",
    "定义子问题 $P(i,W)$为：在前 $i$ 个物品中挑选总重量不超过 $W$ 的物品，每种物品至多只能挑选1个，使得总价值最大；这时的最优值记作 $m(i,W)$ ，其中 $1\\leq i\\leq n$ ， $1\\leq W\\leq C$ 。\n",
    "\n",
    "考虑第 $i$个物品，无外乎两种可能：选，或者不选。\n",
    "\n",
    "*   不选的话，背包的容量不变，改变为问题$P(i-1,W)$ ；\n",
    "*   选的话，背包的容量变小，改变为问题$P(i-1,W-w_i)$ 。\n",
    "\n",
    "![](https://i.loli.net/2019/08/18/U13YJClAnwiSZjT.png)\n",
    "\n",
    "![](https://i.loli.net/2019/08/18/mIPlaVRodM4sFjB.png)"
   ]
  },
  {
   "cell_type": "code",
   "execution_count": 26,
   "metadata": {},
   "outputs": [
    {
     "data": {
      "text/plain": [
       "[[0, 0, 0, 0, 0],\n",
       " [0, 1500, 1500, 1500, 1500],\n",
       " [0, 1500, 1500, 1500, 3000],\n",
       " [0, 1500, 1500, 2000, 3500]]"
      ]
     },
     "execution_count": 26,
     "metadata": {},
     "output_type": "execute_result"
    }
   ],
   "source": [
    "def knapsack_dp(value,weight,C):\n",
    "    n =len(value)\n",
    "    dp = [[0 for W in range(C+1)] for i in range(n+1)] #多加一行0、一列0\n",
    "    \n",
    "    for i in range(1,n+1):\n",
    "        for W in range(1,C+1):\n",
    "            if weight[i-1] > W: #当前物品重量大于背包重量，则取i-1个物品时的值\n",
    "                dp[i][W] = dp[i-1][W]\n",
    "            else: #当前物品重量小于背包重量，则取两者（不取这个物品、取这个物品）的最大值\n",
    "                dp[i][W] = max(dp[i-1][W],value[i-1]+dp[i-1][W-weight[i-1]])\n",
    "    return dp\n",
    "\n",
    "C = 4 #背包容量\n",
    "value = [1500,3000,2000] #物品价值\n",
    "weight = [1,4,3] #物品重量\n",
    "dp = knapsack_dp(value,weight,C)\n",
    "dp"
   ]
  }
 ],
 "metadata": {
  "kernelspec": {
   "display_name": "Python 3 (system-wide)",
   "language": "python",
   "name": "python3"
  },
  "language_info": {
   "codemirror_mode": {
    "name": "ipython",
    "version": 3
   },
   "file_extension": ".py",
   "mimetype": "text/x-python",
   "name": "python",
   "nbconvert_exporter": "python",
   "pygments_lexer": "ipython3",
   "version": "3.6.8"
  }
 },
 "nbformat": 4,
 "nbformat_minor": 2
}
