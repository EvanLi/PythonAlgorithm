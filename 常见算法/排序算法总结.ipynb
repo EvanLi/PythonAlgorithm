{
 "cells": [
  {
   "cell_type": "markdown",
   "metadata": {},
   "source": [
    "# 十大排序算法总结\n",
    "\n",
    "\n",
    "\n",
    "**十大排序算法：**\n",
    "\n",
    "- 冒泡排序 Bubble Sort [GeeksforGeeks](https://www.geeksforgeeks.org/bubble-sort/)，[中文解释](https://sort.hust.cc/1.bubblesort)\n",
    "- 选择排序 Selection Sort [GeeksforGeeks](https://www.geeksforgeeks.org/selection-sort/)，[中文解释](https://sort.hust.cc/2.selectionsort)\n",
    "- 插入排序 Insertion Sort [GeeksforGeeks](https://www.geeksforgeeks.org/insertion-sort/)，[中文解释](https://sort.hust.cc/3.insertionsort)\n",
    "- 希尔排序 Shell Sort [GeeksforGeeks](https://www.geeksforgeeks.org/shellsort/)，[中文解释](https://sort.hust.cc/4.shellsort)\n",
    "- 归并排序 Merge Sort [GeeksforGeeks](https://www.geeksforgeeks.org/merge-sort/)，[中文解释](https://sort.hust.cc/5.mergesort)\n",
    "- 快速排序 Quicksort [GeeksforGeeks](https://www.geeksforgeeks.org/quick-sort/)，[中文解释](https://sort.hust.cc/6.quicksort)\n",
    "- 堆排序Heapsort [GeeksforGeeks](https://www.geeksforgeeks.org/heap-sort/)，[中文解释](https://sort.hust.cc/7.heapsort)\n",
    "- 计数排序 Counting Sort [GeeksforGeeks](https://www.geeksforgeeks.org/counting-sort/)，[中文解释](https://sort.hust.cc/8.countingsort)\n",
    "- 桶排序 Bucket Sort [GeeksforGeeks](https://www.geeksforgeeks.org/bucket-sort-2/)，[中文解释](https://sort.hust.cc/9.bucketsort)\n",
    "- 基数排序 Radix sort [GeeksforGeeks](https://www.geeksforgeeks.org/radix-sort/)，[中文解释](https://sort.hust.cc/10.radixsort)\n",
    "\n",
    "**参考链接：**\n",
    "\n",
    "- 各种算法的动画演示：\n",
    "    - https://www.cs.usfca.edu/~galles/visualization/flash.html\n",
    "    - https://visualgo.net/en\n",
    "- [十大经典排序算法 https://sort.hust.cc/](https://sort.hust.cc/)\n",
    "- [十大经典排序算法 https://github.com/hustcc/JS-Sorting-Algorithm](https://github.com/hustcc/JS-Sorting-Algorithm)\n",
    "- [[学习笔记] 排序知识点（时间复杂度记忆技巧）](https://fishc.com.cn/thread-121120-1-1.html)\n",
    "- [十大经典排序算法动画与解析，看我就够了！（配代码完全版）](https://mp.weixin.qq.com/s/vn3KiV-ez79FmbZ36SX9lg)"
   ]
  },
  {
   "cell_type": "markdown",
   "metadata": {},
   "source": [
    "## 0.介绍\n",
    "\n",
    "### 0.1 分类：\n",
    "\n",
    "#### 内部排序和外部排序\n",
    "\n",
    "内部排序是数据记录在内存中进行排序。\n",
    "\n",
    "而外部排序是因排序的数据很大，一次不能容纳全部的排序记录，在排序过程中需要访问外存。\n",
    "\n",
    "常见的内部排序算法有：\n",
    "\n",
    "- 插入排序\n",
    "- 希尔排序\n",
    "- 选择排序\n",
    "- 冒泡排序\n",
    "- 归并排序\n",
    "- 快速排序\n",
    "- 堆排序\n",
    "- 基数排序\n",
    "\n",
    "\n",
    "首先解释下算法的稳定性定义：对于待排序列中相同项的原来次序不能被算法改变则称该算法稳定。\n",
    "\n",
    "![](https://raw.githubusercontent.com/hostimg/img/gh-pages/s/20190824130735.png)\n",
    "\n",
    "**下面是网上流传很广一张图，的这里的快排的空间复杂度应该为$O(logn)$，而不是$O(nlogn)$（递归使用的栈空间），空间复杂度最坏情况是$O(n)$**\n",
    "\n",
    "![](https://raw.githubusercontent.com/hostimg/img/gh-pages/s/20190901010247.png)"
   ]
  },
  {
   "cell_type": "markdown",
   "metadata": {},
   "source": [
    "## 1.冒泡排序 Bubble Sort\n",
    "\n",
    "冒泡排序（Bubble Sort）也是一种简单直观的排序算法。它重复地走访过要排序的数列，一次比较两个元素，如果他们的顺序错误就把他们交换过来。走访数列的工作是重复地进行直到没有再需要交换，也就是说该数列已经排序完成。这个算法的名字由来是因为越小的元素会经由交换慢慢“浮”到数列的顶端。\n",
    "\n",
    "作为最简单的排序算法之一，冒泡排序给我的感觉就像 Abandon 在单词书里出现的感觉一样，每次都在第一页第一位，所以最熟悉。冒泡排序还有一种优化算法，就是立一个 flag，当在一趟序列遍历中元素没有发生交换，则证明该序列已经有序。但这种改进对于提升性能来说并没有什么太大作用。\n",
    "\n",
    "### 1.1 算法步骤\n",
    "比较相邻的元素。如果第一个比第二个大，就交换他们两个。\n",
    "\n",
    "对每一对相邻元素作同样的工作，从开始第一对到结尾的最后一对。这步做完后，最后的元素会是最大的数。\n",
    "\n",
    "针对所有的元素重复以上的步骤，除了最后一个。持续每次对越来越少的元素重复上面的步骤，直到没有任何一对数字需要比较。\n",
    "\n",
    "**复杂度分析：**\n",
    "\n",
    "冒泡排序是每次从左边选择一个数据一次与右边数据比较，如果比右边大就交换位置，继续往后比较，那么最好的情况就是序列本身就是升序的，一趟下来比较了n-1次不需要交换结束排序，时间复杂度为O（n）；最坏的情况序列本身降序，那么第一次就需要交换n-1次，第二次排序需要交换n-2次，最后一共需要交换$(n-1)+(n-2)+(n-3)+….+1= n(n-1)/2$，所以时间复杂度为$O(n^2)$。\n",
    "\n",
    "故时间复杂度为$O(n)-O(n^2)$。平均复杂度为$O(n^2)$。\n",
    "\n",
    "空间复杂度：在交换的时候需要一个外部空间，因此$O(1)$\n",
    "\n",
    "稳定性：稳定\n",
    "### 1.2 python代码实现"
   ]
  },
  {
   "cell_type": "code",
   "execution_count": 1,
   "metadata": {},
   "outputs": [
    {
     "name": "stdout",
     "output_type": "stream",
     "text": [
      "11,12,22,25,34,64,90,"
     ]
    }
   ],
   "source": [
    "# Python实现冒泡排序\n",
    "  \n",
    "def bubbleSort(arr): \n",
    "    n = len(arr)\n",
    "    # 最后n-1个排好后，第一个自然是正确的位置\n",
    "    for i in range(n-1): \n",
    "        # 最后i个元素已经排好序\n",
    "        for j in range(0, n-i-1):\n",
    "            if arr[j] > arr[j+1]:\n",
    "                arr[j], arr[j+1] = arr[j+1], arr[j] \n",
    "    return arr\n",
    "\n",
    "if __name__ == \"__main__\":\n",
    "    arr = [64, 34, 25, 12, 22, 11, 90] \n",
    "    arr = bubbleSort(arr) \n",
    "    for i in arr:\n",
    "        print(i,end=',') "
   ]
  },
  {
   "cell_type": "markdown",
   "metadata": {},
   "source": [
    "### 1.3 优化版本\n",
    "\n",
    "即使数组已排序，上述函数也始终运行 $O(n^2)$ 时间。如果内部循环没有导致任何交换，则可以通过停止算法来优化它。"
   ]
  },
  {
   "cell_type": "code",
   "execution_count": 2,
   "metadata": {},
   "outputs": [
    {
     "name": "stdout",
     "output_type": "stream",
     "text": [
      "11 12 22 25 34 64 90\n"
     ]
    }
   ],
   "source": [
    "# Python实现冒泡排序\n",
    "  \n",
    "def bubbleSort(arr): \n",
    "    n = len(arr)\n",
    "    # 最后n-1个排好后，第一个自然是正确的位置\n",
    "    for i in range(n-1): \n",
    "        swapped = False #记录有没有交换过程\n",
    "        # 最后i个元素已经排好序\n",
    "        for j in range(0, n-i-1): \n",
    "            if arr[j] > arr[j+1]:\n",
    "                arr[j], arr[j+1] = arr[j+1], arr[j]\n",
    "                swapped = True\n",
    "        if swapped == False: \n",
    "            break\n",
    "    return arr\n",
    "\n",
    "if __name__ == \"__main__\":\n",
    "    arr = [64, 34, 25, 12, 22, 11, 90] \n",
    "    arr = bubbleSort(arr) \n",
    "    print(\" \".join([str(i) for i in arr]))"
   ]
  },
  {
   "cell_type": "markdown",
   "metadata": {},
   "source": [
    "## 2.选择排序 \n",
    "\n",
    "https://www.geeksforgeeks.org/selection-sort/\n",
    "\n",
    "## 3.插入排序\n",
    "## 4.希尔排序\n",
    "## 5.归并排序"
   ]
  },
  {
   "cell_type": "code",
   "execution_count": 3,
   "metadata": {},
   "outputs": [
    {
     "name": "stdout",
     "output_type": "stream",
     "text": [
      "original: [1, 4, 2, 3.6, -1, 0, 25, -34, 8, 9, 1, 0]\n",
      "Sorted: [-34, -1, 0, 0, 1, 1, 2, 3.6, 4, 8, 9, 25]\n"
     ]
    }
   ],
   "source": [
    "# Recursively implementation of Merge Sort\n",
    "def merge(left, right):\n",
    "    result = []\n",
    "    while left and right:\n",
    "        if left[0] <= right[0]:\n",
    "            result.append(left.pop(0))\n",
    "        else:\n",
    "            result.append(right.pop(0))\n",
    "    if left:\n",
    "        result += left\n",
    "    if right:\n",
    "        result += right\n",
    "    return result\n",
    "\n",
    "\n",
    "def merge_sort(L):\n",
    "    if len(L) <= 1:\n",
    "        # When D&C to 1 element, just return it\n",
    "        return L\n",
    "    mid = len(L) // 2\n",
    "    left = L[:mid]\n",
    "    right = L[mid:]\n",
    "\n",
    "    left = merge_sort(left)\n",
    "    right = merge_sort(right)\n",
    "    # conquer sub-problem recursively\n",
    "    return merge(left, right)\n",
    "    # return the answer of sub-problem\n",
    "\n",
    "\n",
    "if __name__ == \"__main__\":\n",
    "    test = [1, 4, 2, 3.6, -1, 0, 25, -34, 8, 9, 1, 0]\n",
    "    print(\"original:\", test)\n",
    "    print(\"Sorted:\", merge_sort(test))"
   ]
  },
  {
   "cell_type": "markdown",
   "metadata": {},
   "source": [
    "## 6.快速排序"
   ]
  },
  {
   "cell_type": "code",
   "execution_count": 4,
   "metadata": {},
   "outputs": [
    {
     "name": "stdout",
     "output_type": "stream",
     "text": [
      "[1, 2, 4, 5, 9, 87]\n"
     ]
    }
   ],
   "source": [
    "def quicksort(arr):\n",
    "    if len(arr) < 2:\n",
    "        return arr\n",
    "    else:\n",
    "        provit = arr[0]\n",
    "        less = [i for i in arr[1:] if i <= provit]\n",
    "        greater = [i for i in arr[1:] if i > provit]\n",
    "    return quicksort(less) + [provit] + quicksort(greater)\n",
    " \n",
    "if __name__ == '__main__':\n",
    "    arr = [1,5,2,87,4,9]\n",
    "    print(quicksort(arr=arr))"
   ]
  },
  {
   "cell_type": "markdown",
   "metadata": {},
   "source": [
    "## 7.堆排序\n",
    "## 8.计数排序\n",
    "## 9.桶排序\n",
    "## 10.基数排序"
   ]
  }
 ],
 "metadata": {
  "kernelspec": {
   "display_name": "Python 3",
   "language": "python",
   "name": "python3"
  },
  "language_info": {
   "codemirror_mode": {
    "name": "ipython",
    "version": 3
   },
   "file_extension": ".py",
   "mimetype": "text/x-python",
   "name": "python",
   "nbconvert_exporter": "python",
   "pygments_lexer": "ipython3",
   "version": "3.7.3"
  }
 },
 "nbformat": 4,
 "nbformat_minor": 2
}
