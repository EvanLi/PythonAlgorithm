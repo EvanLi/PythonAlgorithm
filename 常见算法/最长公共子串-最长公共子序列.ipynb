{
 "cells": [
  {
   "cell_type": "markdown",
   "metadata": {},
   "source": [
    "# 1 最长公共子串(Longest Common Substring)\n",
    "\n",
    "- 动态规划可帮助你在给定约束条件下找到最优解。在背包问题中，你必须在背包容量给定的情况下，偷到价值最高的商品。\n",
    "- 在问题可分解为彼此独立且离散的子问题时，就可使用动态规划来解决。要设计出动态规划解决方案可能很难，这正是本节要介绍的。下面是一些通用的小贴士。\n",
    " - 每种动态规划解决方案都涉及网格。\n",
    " - 单元格中的值通常就是你要优化的值。在前面的背包问题中，单元格的值为商品的价值。\n",
    " - 每个单元格都是一个子问题，因此你应考虑如何将问题分成子问题，这有助于你找出网格的坐标轴。\n",
    "\n",
    "下面再来看一个例子。假设你管理着网站dictionary.com。用户在该网站输入单词时，你需要给出其定义。\n",
    "\n",
    "但如果用户拼错了，你必须猜测他原本要输入的是什么单词。\n",
    "\n",
    "例如，Alex想查单词fish，但不小心输入了hish。在你的字典中，根本就没有这样的单词，但有几个类似的单词。\n",
    "\n",
    "在这个例子中，只有两个类似的单词，真是太小儿科了。实际上，类似的单词很可能有数千个。\n",
    "\n",
    "Alex输入了hish，那他原本要输入的是fish还是vista呢？\n",
    "\n",
    "## 1.1 绘制网格\n",
    "\n",
    "- 单元格中的值是什么？\n",
    "- 如何将这个问题划分为子问题？\n",
    "- 网格的坐标轴是什么？\n",
    "\n",
    "网格如下：\n",
    "\n",
    "![](https://raw.githubusercontent.com/hostimg/img/gh-pages/s/20190822192521.png)\n",
    "\n",
    "## 1.2 填充网格\n",
    "\n",
    "我使用下面的公式来计算每个单元格的值。\n",
    "\n",
    "![](https://raw.githubusercontent.com/hostimg/img/gh-pages/s/20190822192839.png)\n",
    "\n",
    "实现这个公式的伪代码类似于下面这样。\n",
    "```python\n",
    "if word_a[i] == word_b[j]: # 两个字母相同\n",
    "    cell[i][j] = cell[i-1][j-1] + 1\n",
    "else: # 两个字母不同\n",
    "    cell[i][j] = 0\n",
    "```\n",
    "\n",
    "查找单词hish和vista的最长公共子串时，网格如下。\n",
    "\n",
    "![](https://raw.githubusercontent.com/hostimg/img/gh-pages/s/20190822193257.png)\n",
    "\n",
    "需要注意的一点是，这个问题的最终答案并不在最后一个单元格中！对于前面的背包问题，最终答案总是在最后的单元格中。\n",
    "\n",
    "但对于最长公共子串问题，答案为**网格中最大的数字**——它可能并不位于最后的单元格中。\n",
    "\n",
    "**具体实现代码如下：**\n",
    "\n",
    "可参考[GeeksforGeeks: Longest Common Substring | DP-29](https://www.geeksforgeeks.org/longest-common-substring-dp-29/)"
   ]
  },
  {
   "cell_type": "code",
   "execution_count": 19,
   "metadata": {},
   "outputs": [
    {
     "name": "stdout",
     "output_type": "stream",
     "text": [
      "3\n",
      "bcd\n"
     ]
    }
   ],
   "source": [
    "# Python3 implementation of Finding\n",
    "# Length of Longest Common Substring\n",
    "\n",
    "def LCSubStr(s1,s2):\n",
    "    # 最长公共子串(Longest Common Substring)\n",
    "    m = len(s1)\n",
    "    n = len(s2)\n",
    "    dp = [[0]*(n+1) for _ in range(m+1)] #全部初始化为0，添加一行、一列0 一共m+1行，n+1列\n",
    "    maxlen = 0  #保存最长公共字串的长度\n",
    "    pos = 0 # 保存最长子串最后一个字符位置\n",
    "    for i in range(1,m+1):\n",
    "        for j in range(1,n+1):\n",
    "            if s1[i-1] == s2[j-1]: # 相同的部分，不相同else的部分，已经初始化为0，故不需要再写\n",
    "                dp[i][j] = dp[i-1][j-1]+1\n",
    "                if dp[i][j] > maxlen: \n",
    "                    maxlen = max(maxlen, dp[i][j])\n",
    "                    pos = i - 1\n",
    "    return maxlen,s1[pos+1-maxlen:pos+1]\n",
    "\n",
    "s1 = \"abcdefghijk\"\n",
    "s2 = \"mnafbcdjk\"\n",
    "maxlen,s = LCSubStr(s1,s2)\n",
    "print(maxlen)\n",
    "print(s)"
   ]
  },
  {
   "cell_type": "markdown",
   "metadata": {},
   "source": [
    "## 2 最长公共子序列(Longest Common Subsequence，LCS)\n",
    "\n",
    "假设Alex不小心输入了fosh，他原本想输入的是fish还是fort呢？如果我们使用最长公共子串公式来比较它们：\n",
    "\n",
    "![](https://raw.githubusercontent.com/hostimg/img/gh-pages/s/20190822193436.png)\n",
    "\n",
    "最长公共子串的长度相同，都包含两个字母！但fosh与fish更像。\n",
    "\n",
    "所以这里应该比较的是**最长公共子序列**：两个单词中**都有的序列**包含的**字母数**。\n",
    "\n",
    "**最长公共子序列（LCS,Longest Common Subsequence）**：它不要求所求得的字符在所给的字符串中是连续的,而**最长公共子串**则要求字符串是连续的。\n",
    "\n",
    "如何计算最长公共子序列呢？\n",
    "\n",
    "### 2.1 动态规划算法\n",
    "\n",
    "下面是填写各个单元格时使用的公式：\n",
    "\n",
    "![](https://raw.githubusercontent.com/hostimg/img/gh-pages/s/20190822194836.png)\n",
    "\n",
    "最终的网格如下：\n",
    "\n",
    "![](https://raw.githubusercontent.com/hostimg/img/gh-pages/s/20190822194437.png)\n",
    "\n",
    "伪代码如下：\n",
    "\n",
    "```python\n",
    "if word_a[i] == word_b[j]:\n",
    "    cell[i][j] = cell[i-1][j-1] + 1\n",
    "else:\n",
    "    cell[i][j] = max(cell[i-1][j], cell[i][j-1])\n",
    "```"
   ]
  },
  {
   "cell_type": "markdown",
   "metadata": {},
   "source": [
    "**具体实现代码如下：**\n",
    "\n",
    "可参考[GeeksforGeeks: Longest Common Subsequence | DP-4](https://www.geeksforgeeks.org/longest-common-subsequence-dp-4/)"
   ]
  },
  {
   "cell_type": "code",
   "execution_count": 21,
   "metadata": {},
   "outputs": [
    {
     "name": "stdout",
     "output_type": "stream",
     "text": [
      "6\n"
     ]
    },
    {
     "data": {
      "text/plain": [
       "[[0, 0, 0, 0, 0, 0, 0, 0, 0, 0],\n",
       " [0, 0, 0, 1, 1, 1, 1, 1, 1, 1],\n",
       " [0, 0, 0, 1, 1, 2, 2, 2, 2, 2],\n",
       " [0, 0, 0, 1, 1, 2, 3, 3, 3, 3],\n",
       " [0, 0, 0, 1, 1, 2, 3, 4, 4, 4],\n",
       " [0, 0, 0, 1, 1, 2, 3, 4, 4, 4],\n",
       " [0, 0, 0, 1, 2, 2, 3, 4, 4, 4],\n",
       " [0, 0, 0, 1, 2, 2, 3, 4, 4, 4],\n",
       " [0, 0, 0, 1, 2, 2, 3, 4, 4, 4],\n",
       " [0, 0, 0, 1, 2, 2, 3, 4, 4, 4],\n",
       " [0, 0, 0, 1, 2, 2, 3, 4, 5, 5],\n",
       " [0, 0, 0, 1, 2, 2, 3, 4, 5, 6]]"
      ]
     },
     "execution_count": 21,
     "metadata": {},
     "output_type": "execute_result"
    }
   ],
   "source": [
    "# Dynamic Programming implementation of LCS problem \n",
    "def LCS(s1,s2):\n",
    "    # 最长公共子序列(Longest Common Subsequence)\n",
    "    m = len(s1)\n",
    "    n = len(s2)\n",
    "    dp = [[0]*(n+1) for _ in range(m+1)] #初始化，添加一行、一列0 一共m+1行，n+1列\n",
    "    path = [[None]*(n+1) for _ in range(m+1)] #保存路径\n",
    "    result = 0  #保存最长公共字串的长度\n",
    "    for i in range(m):\n",
    "        for j in range(n):\n",
    "            if s1[i] == s2[j]: # 相同\n",
    "                dp[i+1][j+1] = dp[i][j]+1\n",
    "                result = max(result, dp[i+1][j+1])\n",
    "            else: # 不同\n",
    "                dp[i+1][j+1] = max(dp[i][j+1],dp[i+1][j])\n",
    "    return dp,result\n",
    "\n",
    "s1 = \"abcdefghijk\"\n",
    "s2 = \"mnafbcdjk\"\n",
    "dp,result = LCS(s1,s2)\n",
    "print(result)\n",
    "dp"
   ]
  },
  {
   "cell_type": "code",
   "execution_count": 26,
   "metadata": {},
   "outputs": [
    {
     "name": "stdout",
     "output_type": "stream",
     "text": [
      "[[None None None None None None None]\n",
      " [None 'ok' 'left' 'left' 'left' 'left' 'left']\n",
      " [None 'up' 'ok' 'left' 'left' 'left' 'left']\n",
      " [None 'up' 'up' 'up' 'ok' 'left' 'left']\n",
      " [None 'up' 'up' 'up' 'up' 'ok' 'left']\n",
      " [None 'up' 'up' 'up' 'up' 'up' 'ok']]\n",
      "abdfg\n"
     ]
    }
   ],
   "source": [
    "import numpy\n",
    "def find_lcseque(s1, s2): \n",
    "\t # 生成字符串长度加1的0矩阵，m用来保存对应位置匹配的结果\n",
    "\tm = [ [ 0 for x in range(len(s2)+1) ] for y in range(len(s1)+1) ] \n",
    "\t# d用来记录转移方向\n",
    "\td = [ [ None for x in range(len(s2)+1) ] for y in range(len(s1)+1) ] \n",
    " \n",
    "\tfor p1 in range(len(s1)): \n",
    "\t\tfor p2 in range(len(s2)): \n",
    "\t\t\tif s1[p1] == s2[p2]:            #字符匹配成功，则该位置的值为左上方的值加1\n",
    "\t\t\t\tm[p1+1][p2+1] = m[p1][p2]+1\n",
    "\t\t\t\td[p1+1][p2+1] = 'ok'          \n",
    "\t\t\telif m[p1+1][p2] > m[p1][p2+1]:  #左值大于上值，则该位置的值为左值，并标记回溯时的方向\n",
    "\t\t\t\tm[p1+1][p2+1] = m[p1+1][p2] \n",
    "\t\t\t\td[p1+1][p2+1] = 'left'          \n",
    "\t\t\telse:                           #上值大于左值，则该位置的值为上值，并标记方向up\n",
    "\t\t\t\tm[p1+1][p2+1] = m[p1][p2+1]   \n",
    "\t\t\t\td[p1+1][p2+1] = 'up'         \n",
    "\t(p1, p2) = (len(s1), len(s2)) \n",
    "\tprint(numpy.array(d))\n",
    "\ts = [] \n",
    "\twhile m[p1][p2]:    #不为None时\n",
    "\t\tc = d[p1][p2]\n",
    "\t\tif c == 'ok':   #匹配成功，插入该字符，并向左上角找下一个\n",
    "\t\t\ts.append(s1[p1-1])\n",
    "\t\t\tp1-=1\n",
    "\t\t\tp2-=1 \n",
    "\t\tif c =='left':  #根据标记，向左找下一个\n",
    "\t\t\tp2 -= 1\n",
    "\t\tif c == 'up':   #根据标记，向上找下一个\n",
    "\t\t\tp1 -= 1\n",
    "\ts.reverse() \n",
    "\treturn ''.join(s) \n",
    " \n",
    "print(find_lcseque('abdfg','abcdfg'))"
   ]
  },
  {
   "cell_type": "markdown",
   "metadata": {},
   "source": [
    "## 2.2 递归算法\n",
    "\n",
    "考虑两个字符串的最后一个字符：\n",
    "\n",
    "- 1.如果最后一个字符相同，可以转化为均去掉最后一个字符之后的LCS，再加上1\n",
    "- 2.如果最后一个字符不同，可以转化为：s1去掉最后一个字符和s2的LCS，以及s2去掉最后一个字符和s1的LCS，两者取大值。如：\n",
    "\n",
    "`LCS(“ABCDGH”, “AEDFHR”) = MAX ( LCS(“ABCDG”, “AEDFHR”), LCS(“ABCDGH”, “AEDFH”) )`\n",
    "\n",
    "上述朴素递归方法的时间复杂度在最坏情况下为$O(2^n)$ ，当X和Y的所有字符不匹配时，即LCS的长度为0时，发生最坏情况。\n",
    "\n",
    "**具体代码如下：**"
   ]
  },
  {
   "cell_type": "code",
   "execution_count": 6,
   "metadata": {},
   "outputs": [
    {
     "name": "stdout",
     "output_type": "stream",
     "text": [
      "Length of LCS is  4\n"
     ]
    }
   ],
   "source": [
    "# A Naive recursive Python implementation of LCS problem \n",
    "  \n",
    "def LCS(X, Y, m, n): \n",
    "    if m == 0 or n == 0: \n",
    "        return 0\n",
    "    elif X[m-1] == Y[n-1]: \n",
    "        return 1 + LCS(X, Y, m-1, n-1)\n",
    "    else: \n",
    "        return max(LCS(X, Y, m, n-1), LCS(X, Y, m-1, n))\n",
    "  \n",
    "  \n",
    "# Driver program to test the above function \n",
    "X = \"AGGTAB\"\n",
    "Y = \"GXTXAYB\"\n",
    "print(\"Length of LCS is \", LCS(X , Y, len(X), len(Y))) "
   ]
  }
 ],
 "metadata": {
  "kernelspec": {
   "display_name": "Python 3",
   "language": "python",
   "name": "python3"
  },
  "language_info": {
   "codemirror_mode": {
    "name": "ipython",
    "version": 3
   },
   "file_extension": ".py",
   "mimetype": "text/x-python",
   "name": "python",
   "nbconvert_exporter": "python",
   "pygments_lexer": "ipython3",
   "version": "3.6.8"
  }
 },
 "nbformat": 4,
 "nbformat_minor": 2
}
