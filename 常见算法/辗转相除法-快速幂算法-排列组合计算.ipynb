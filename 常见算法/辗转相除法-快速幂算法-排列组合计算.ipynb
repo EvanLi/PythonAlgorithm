{
 "cells": [
  {
   "cell_type": "markdown",
   "metadata": {},
   "source": [
    "# 1.辗转相除法、最大公约数(Greatest Common Divisor，GCD)\n",
    "\n",
    "在数学中，辗转相除法，又称欧几里得算法（英语：Euclidean algorithm），是求最大公约数的算法。辗转相除法处理大数时非常高效，如果用除法而不是减法实现，它需要的步骤不会超过较小数的位数（十进制下）的五倍。\n",
    "\n",
    "两个整数的最大公约数(greatest common divisor，gcd)是能够同时整除它们的最大的正整数。辗转相除法基于如下原理：两个整数的最大公约数等于其中较小的数和两数的差的最大公约数。\n",
    "\n",
    "$$gcd(a,b) = gcd(b,a \\mod b)$$\n",
    "\n",
    "（a>b，a mod b不等于0）\n",
    "\n",
    "由辗转相除法也可以推出，两数的最大公约数可以用两数的整数倍相加来表示，如 21 = 5 × 105 + (−2) × 252 。这个重要的结论叫做贝祖定理。\n",
    "\n",
    "平均时间复杂度$O(logn)$\n",
    "\n",
    "## 1.1递归"
   ]
  },
  {
   "cell_type": "code",
   "execution_count": 1,
   "metadata": {},
   "outputs": [
    {
     "name": "stdout",
     "output_type": "stream",
     "text": [
      "12\n",
      "1\n"
     ]
    }
   ],
   "source": [
    "cnt = 0\n",
    "def gcd(a,b):\n",
    "    global cnt\n",
    "    if b==0:\n",
    "        return a\n",
    "    else:\n",
    "        cnt += 1\n",
    "        return gcd(b,a%b)\n",
    "    \n",
    "if __name__ == \"__main__\":\n",
    "    print(gcd(60,24))\n",
    "    print(gcd(6765,4181))"
   ]
  },
  {
   "cell_type": "markdown",
   "metadata": {},
   "source": [
    "## 1.2循环"
   ]
  },
  {
   "cell_type": "code",
   "execution_count": 2,
   "metadata": {},
   "outputs": [
    {
     "name": "stdout",
     "output_type": "stream",
     "text": [
      "12\n",
      "1\n"
     ]
    }
   ],
   "source": [
    "def gcd(a,b):\n",
    "    while (b != 0):\n",
    "        r = a % b\n",
    "        a, b = b, r\n",
    "    return a\n",
    "\n",
    "if __name__ == \"__main__\":\n",
    "    print(gcd(60,24))\n",
    "    print(gcd(6765,4181))"
   ]
  },
  {
   "cell_type": "markdown",
   "metadata": {},
   "source": [
    "# 2.最小公倍数（Least common multiple，LCM）\n",
    "\n",
    "当我们知道两个数的最大公约数gcd以后再求两个数的最小公倍数lcm就很好求了。\n",
    "\n",
    "$$lcm(A,B)=\\frac{A*B}{gcd(A,B)}$$\n",
    "\n",
    "因为`A*B`可能会溢出int而且A和B都是gcd的倍数，所以一般这样写\n",
    "\n",
    "$$lcm(A,B)=\\frac{A}{gcd(A,B)}\\times B$$"
   ]
  },
  {
   "cell_type": "code",
   "execution_count": 3,
   "metadata": {},
   "outputs": [
    {
     "name": "stdout",
     "output_type": "stream",
     "text": [
      "120.0\n"
     ]
    }
   ],
   "source": [
    "def gcd(a,b):\n",
    "    while (b != 0):\n",
    "        r = a % b\n",
    "        a, b = b, r\n",
    "    return a\n",
    "\n",
    "def lcm(a,b):\n",
    "    return a/gcd(a,b)*b\n",
    "\n",
    "if __name__ == \"__main__\":\n",
    "    print(lcm(60,24))"
   ]
  },
  {
   "cell_type": "markdown",
   "metadata": {},
   "source": [
    "# 3.快速幂算法\n",
    "\n"
   ]
  },
  {
   "cell_type": "markdown",
   "metadata": {},
   "source": [
    "## 自带pow()函数计算"
   ]
  },
  {
   "cell_type": "code",
   "execution_count": 4,
   "metadata": {},
   "outputs": [
    {
     "name": "stdout",
     "output_type": "stream",
     "text": [
      "CPU times: user 33 µs, sys: 7 µs, total: 40 µs\n",
      "Wall time: 44.8 µs\n"
     ]
    }
   ],
   "source": [
    "%%time\n",
    "a = pow(2,10000)"
   ]
  },
  {
   "cell_type": "markdown",
   "metadata": {},
   "source": [
    "## 用**计算"
   ]
  },
  {
   "cell_type": "code",
   "execution_count": 5,
   "metadata": {},
   "outputs": [
    {
     "name": "stdout",
     "output_type": "stream",
     "text": [
      "CPU times: user 428 µs, sys: 0 ns, total: 428 µs\n",
      "Wall time: 433 µs\n"
     ]
    }
   ],
   "source": [
    "%%time\n",
    "a = 2**100000"
   ]
  },
  {
   "cell_type": "markdown",
   "metadata": {},
   "source": [
    "## 直接普通算法计算"
   ]
  },
  {
   "cell_type": "code",
   "execution_count": 6,
   "metadata": {},
   "outputs": [
    {
     "name": "stdout",
     "output_type": "stream",
     "text": [
      "CPU times: user 347 ms, sys: 0 ns, total: 347 ms\n",
      "Wall time: 358 ms\n"
     ]
    }
   ],
   "source": [
    "%%time\n",
    "def pow1(x,n):\n",
    "    #普通算法计算x^n\n",
    "    res = 1\n",
    "    for i in range(n):\n",
    "        res *= x\n",
    "    return res\n",
    "\n",
    "if __name__ == \"__main__\":\n",
    "    pow1(2,100000)"
   ]
  },
  {
   "cell_type": "markdown",
   "metadata": {},
   "source": [
    "## 普通快速幂-递归法\n",
    "\n",
    "使用分治法计算$x^n$\n",
    "\n",
    "n=偶数：\n",
    "\n",
    "$$x^n = x^{\\frac{n}{2}}\\times x^{\\frac{n}{2}}$$\n",
    "\n",
    "n=奇数：\n",
    "\n",
    "$$x^n = x^{\\frac{n-1}{2}}\\times x^{\\frac{n-1}{2}} \\times x$$\n",
    "\n",
    "$$T(n) = T(n/2) + O(1)$$\n",
    "\n",
    "推出：\n",
    "\n",
    "$$T(n) = O(logn)$$\n",
    "\n",
    "时间复杂度$O(logn)$"
   ]
  },
  {
   "cell_type": "code",
   "execution_count": 7,
   "metadata": {},
   "outputs": [
    {
     "name": "stdout",
     "output_type": "stream",
     "text": [
      "CPU times: user 384 µs, sys: 0 ns, total: 384 µs\n",
      "Wall time: 391 µs\n"
     ]
    }
   ],
   "source": [
    "%%time\n",
    "def fast_pow(x,n):\n",
    "    #计算x^n\n",
    "    if n == 0:\n",
    "        return 1\n",
    "    if n == 1:\n",
    "        return x #基线条件\n",
    "    elif n % 2 ==0:\n",
    "        tmp = fast_pow(x,n/2) #// 用临时变量减少重复的运算\n",
    "        return tmp*tmp\n",
    "    else:\n",
    "        tmp = fast_pow(x,(n-1)/2)\n",
    "        return tmp*tmp*x\n",
    "\n",
    "if __name__ == \"__main__\":\n",
    "    fast_pow(2,100000)"
   ]
  },
  {
   "cell_type": "markdown",
   "metadata": {},
   "source": [
    "## 普通快速幂-循环法\n",
    "\n",
    "和下面位运算原理相同，只是下面是用位运算，这个是用除法"
   ]
  },
  {
   "cell_type": "code",
   "execution_count": 8,
   "metadata": {},
   "outputs": [
    {
     "name": "stdout",
     "output_type": "stream",
     "text": [
      "CPU times: user 1.05 ms, sys: 0 ns, total: 1.05 ms\n",
      "Wall time: 1.06 ms\n"
     ]
    }
   ],
   "source": [
    "%%time\n",
    "def fast_pow(x,n):\n",
    "    if n == 0:\n",
    "        return 1\n",
    "    res = 1\n",
    "    base = x\n",
    "    while n > 0:\n",
    "        if n % 2: #n是奇数时\n",
    "            res *= base\n",
    "        base *= base #base翻倍\n",
    "        n //= 2 #除以2，向下取整\n",
    "    return res\n",
    "\n",
    "if __name__ == \"__main__\":\n",
    "    fast_pow(2,100000)"
   ]
  },
  {
   "cell_type": "markdown",
   "metadata": {},
   "source": [
    "## 位运算快速幂算法\n",
    "\n",
    "这种实现方法是非递归式的。它在循环的过程中将二进制位为 1 时对应的幂累乘到答案中。尽管两者的理论复杂度是相同的，但第二种在实践过程中的速度是比第一种更快的，因为递归会花费一定的开销。\n",
    "\n",
    "https://oi-wiki.org/math/quick-pow/"
   ]
  },
  {
   "cell_type": "code",
   "execution_count": 9,
   "metadata": {},
   "outputs": [
    {
     "name": "stdout",
     "output_type": "stream",
     "text": [
      "CPU times: user 97 µs, sys: 0 ns, total: 97 µs\n",
      "Wall time: 101 µs\n"
     ]
    }
   ],
   "source": [
    "%%time\n",
    "def fast_pow(x,n):\n",
    "    res = 1\n",
    "    base = x\n",
    "    while n > 0:\n",
    "        if n&1: #位与=1时，n是奇数\n",
    "            res *= base\n",
    "        base *= base #base翻倍\n",
    "        n >>= 1 #右移一位\n",
    "    return res\n",
    "\n",
    "if __name__ == \"__main__\":\n",
    "    fast_pow(2,10000)"
   ]
  },
  {
   "cell_type": "markdown",
   "metadata": {},
   "source": [
    "# 4.排列(Permutation)计算\n",
    "\n",
    "从n个元素中取出k个元素，k个元素的排列数量为：\n",
    "\n",
    "$$A_n^k = \\frac{n!}{(n-k)!} = n·(n-1)·(n-2)...(n-k+1)$$"
   ]
  },
  {
   "cell_type": "markdown",
   "metadata": {},
   "source": [
    "**首先计算阶乘：**"
   ]
  },
  {
   "cell_type": "code",
   "execution_count": 10,
   "metadata": {},
   "outputs": [
    {
     "name": "stdout",
     "output_type": "stream",
     "text": [
      "3628800\n"
     ]
    }
   ],
   "source": [
    "def fact(num):\n",
    "    #阶乘\n",
    "    factorial = 1\n",
    "    # 查看数字是负数，0 或 正数\n",
    "    if num < 0:\n",
    "        print(\"Input error!\")\n",
    "        return\n",
    "    elif num == 0:\n",
    "        return 1\n",
    "    else:\n",
    "        for i in range(1,num + 1):\n",
    "            factorial = factorial*i\n",
    "        return factorial\n",
    "    \n",
    "if __name__ == \"__main__\":\n",
    "    print(fact(10))"
   ]
  },
  {
   "cell_type": "markdown",
   "metadata": {},
   "source": [
    "**计算排列：**"
   ]
  },
  {
   "cell_type": "code",
   "execution_count": 11,
   "metadata": {},
   "outputs": [
    {
     "name": "stdout",
     "output_type": "stream",
     "text": [
      "90\n",
      "1960781468160819415703172080467968000000\n"
     ]
    }
   ],
   "source": [
    "def fact(num):\n",
    "    #阶乘\n",
    "    factorial = 1\n",
    "    # 查看数字是负数，0 或 正数\n",
    "    if num < 0:\n",
    "        print(\"Input error!\")\n",
    "        return\n",
    "    elif num == 0:\n",
    "        return 1\n",
    "    else:\n",
    "        for i in range(1,num + 1):\n",
    "            factorial = factorial*i\n",
    "        return factorial\n",
    "\n",
    "def perm(n,k):\n",
    "    return fact(n)//fact((n-k)) #去除90.0后面的.0\n",
    "\n",
    "if __name__ == \"__main__\":\n",
    "    print(perm(10,2))\n",
    "    print(perm(50,25))"
   ]
  },
  {
   "cell_type": "markdown",
   "metadata": {},
   "source": [
    "**或者直接从n乘到(n-k+1):**"
   ]
  },
  {
   "cell_type": "code",
   "execution_count": 12,
   "metadata": {},
   "outputs": [
    {
     "name": "stdout",
     "output_type": "stream",
     "text": [
      "90\n",
      "1960781468160819415703172080467968000000\n"
     ]
    }
   ],
   "source": [
    "def perm(n,k):\n",
    "    res = 1\n",
    "    while k > 0:\n",
    "        res *= n\n",
    "        n -= 1\n",
    "        k -= 1\n",
    "    return res\n",
    "\n",
    "if __name__ == \"__main__\":\n",
    "    print(perm(10,2))\n",
    "    print(perm(50,25))"
   ]
  },
  {
   "cell_type": "markdown",
   "metadata": {},
   "source": [
    "# 4.组合（Combination）计算\n",
    "\n",
    "和排列不同的是，组合取出元素的顺序不考虑。\n",
    "\n",
    "从n个元素中取出k个元素，组合数为：\n",
    "\n",
    "$$C_n^k = \\frac{A_n^k}{k!} = \\frac{n!}{(n-k)!k!}$$\n",
    "\n",
    "$$=\\frac{n·(n-1)·(n-2)...(n-k+1)}{k·(k-1)·(k-2)...1}$$\n",
    "\n",
    "$$=\\frac{n}{k}·\\frac{n-1}{k-1}·\\frac{n-2}{k-2}...\\frac{n-k+1}{1}·$$"
   ]
  },
  {
   "cell_type": "markdown",
   "metadata": {},
   "source": [
    "**方法1：按上式子最后一行计算,由于中间过程浮点数的精度，最后结果出现了偏差**"
   ]
  },
  {
   "cell_type": "code",
   "execution_count": 13,
   "metadata": {},
   "outputs": [
    {
     "name": "stdout",
     "output_type": "stream",
     "text": [
      "126410606437752.03\n"
     ]
    }
   ],
   "source": [
    "def Com(n,k):\n",
    "    # 组合数公式\n",
    "    res = 1\n",
    "    while k > 0:\n",
    "        tmp = n/k\n",
    "        res = tmp*res\n",
    "        k -= 1\n",
    "        n -= 1\n",
    "    return res\n",
    "\n",
    "if __name__ == \"__main__\":\n",
    "    print(Com(50,25))"
   ]
  },
  {
   "cell_type": "markdown",
   "metadata": {},
   "source": [
    "**方法2：用式子第一行 阶乘相除 结果不会有上面的问题**"
   ]
  },
  {
   "cell_type": "code",
   "execution_count": 14,
   "metadata": {},
   "outputs": [
    {
     "name": "stdout",
     "output_type": "stream",
     "text": [
      "126410606437752\n",
      "100891344545564193334812497256\n"
     ]
    }
   ],
   "source": [
    "def fact(num):\n",
    "    #阶乘\n",
    "    factorial = 1\n",
    "    # 查看数字是负数，0 或 正数\n",
    "    if num < 0:\n",
    "        print(\"Input error!\")\n",
    "        return\n",
    "    elif num == 0:\n",
    "        return 1\n",
    "    else:\n",
    "        for i in range(1,num + 1):\n",
    "            factorial = factorial*i\n",
    "        return factorial\n",
    "\n",
    "def Com(n,k):\n",
    "    # 组合数公式\n",
    "    res = fact(n)//(fact(n-k)*fact(k)) #去除后面的.0\n",
    "    return res\n",
    "\n",
    "if __name__ == \"__main__\":\n",
    "    print(Com(50,25))\n",
    "    print(Com(100,50))"
   ]
  }
 ],
 "metadata": {
  "kernelspec": {
   "display_name": "tf36",
   "language": "python",
   "name": "tf36"
  },
  "language_info": {
   "codemirror_mode": {
    "name": "ipython",
    "version": 3
   },
   "file_extension": ".py",
   "mimetype": "text/x-python",
   "name": "python",
   "nbconvert_exporter": "python",
   "pygments_lexer": "ipython3",
   "version": "3.6.8"
  }
 },
 "nbformat": 4,
 "nbformat_minor": 2
}
