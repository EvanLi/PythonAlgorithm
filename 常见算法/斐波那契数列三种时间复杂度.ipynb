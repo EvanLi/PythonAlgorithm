{
 "cells": [
  {
   "cell_type": "markdown",
   "metadata": {},
   "source": [
    "# 1.递归 $O(2^n)$"
   ]
  },
  {
   "cell_type": "code",
   "execution_count": 28,
   "metadata": {},
   "outputs": [
    {
     "name": "stdout",
     "output_type": "stream",
     "text": [
      "2178309\n",
      "CPU times: user 2 s, sys: 868 µs, total: 2 s\n",
      "Wall time: 2.07 s\n"
     ]
    }
   ],
   "source": [
    "%%time\n",
    "def Fib(n):\n",
    "    if n==0:\n",
    "        return 0\n",
    "    if n==1:\n",
    "        return 1\n",
    "    return Fib(n-1)+Fib(n-2)\n",
    "\n",
    "print(Fib(32))"
   ]
  },
  {
   "cell_type": "markdown",
   "metadata": {},
   "source": [
    "# 2.迭代算法 $O(n)$"
   ]
  },
  {
   "cell_type": "code",
   "execution_count": 29,
   "metadata": {},
   "outputs": [
    {
     "name": "stdout",
     "output_type": "stream",
     "text": [
      "2178309\n",
      "CPU times: user 150 µs, sys: 0 ns, total: 150 µs\n",
      "Wall time: 165 µs\n"
     ]
    }
   ],
   "source": [
    "%%time\n",
    "def Fib(n):\n",
    "    a, b = 0, 1\n",
    "    if n == 0:\n",
    "        return a\n",
    "    for _ in range(n - 1):\n",
    "        a, b = b, a + b\n",
    "    return b\n",
    "\n",
    "print(Fib(32))"
   ]
  },
  {
   "cell_type": "code",
   "execution_count": 30,
   "metadata": {},
   "outputs": [
    {
     "name": "stdout",
     "output_type": "stream",
     "text": [
      "2178309\n",
      "CPU times: user 145 µs, sys: 0 ns, total: 145 µs\n",
      "Wall time: 154 µs\n"
     ]
    }
   ],
   "source": [
    "%%time\n",
    "def Fib(n):\n",
    "    fib = [0]*(n+1)\n",
    "    fib[0] = 0\n",
    "    fib[1] = 1\n",
    "    for i in range(2,n+1):\n",
    "        fib[i] = fib[i-1] + fib[i-2]\n",
    "    return fib[n]\n",
    "\n",
    "print(Fib(32))"
   ]
  },
  {
   "cell_type": "markdown",
   "metadata": {},
   "source": [
    "# 3.利用矩阵乘法 $O(logn)$\n",
    "\n",
    "$$\n",
    "\\begin{pmatrix}f(n) & f(n-1)\\end{pmatrix} = \\begin{pmatrix}f(n-1) & f(n-2)\\end{pmatrix} \\times \\begin{pmatrix}1 & 1 \\\\1 & 0\\end{pmatrix}\n",
    "$$\n",
    "$$\n",
    "= \\begin{pmatrix}f(n-2) & f(n-3)\\end{pmatrix} \\times \\begin{pmatrix}1 & 1 \\\\1 & 0\\end{pmatrix}^2\n",
    "$$\n",
    "\n",
    "$$\n",
    "= ...\n",
    "$$\n",
    "$$\n",
    "= \\begin{pmatrix}f(1) & f(0)\\end{pmatrix} \\times \\begin{pmatrix}1 & 1 \\\\1 & 0\\end{pmatrix}^{n-1}\n",
    "$$\n",
    "\n",
    "我们求一个矩阵的n-1次方即可,两个2维矩阵的乘法次数可以看作常量\n",
    "\n",
    "矩阵的n次方利用分治法，只需要$O(logn)$的复杂度就能计算出来，\n",
    "\n",
    "和常数的乘方相似：\n",
    "\n",
    "n=偶数：\n",
    "\n",
    "$$x^n = x^{\\frac{n}{2}}\\times x^{\\frac{n}{2}}$$\n",
    "\n",
    "n=奇数：\n",
    "\n",
    "$$x^n = x^{\\frac{n-1}{2}}\\times x^{\\frac{n-1}{2}} \\times x$$\n",
    "\n",
    "$$T(n) = T(n/2) + O(1)$$\n",
    "\n",
    "推出：\n",
    "\n",
    "$$T(n) = O(logn)$$"
   ]
  },
  {
   "cell_type": "markdown",
   "metadata": {},
   "source": [
    "## 分治法计算x的n次幂\n",
    "\n",
    "### 普通算法："
   ]
  },
  {
   "cell_type": "code",
   "execution_count": 3,
   "metadata": {},
   "outputs": [
    {
     "name": "stdout",
     "output_type": "stream",
     "text": [
      "10715086071862673209484250490600018105614048117055336074437503883703510511249361224931983788156958581275946729175531468251871452856923140435984577574698574803934567774824230985421074605062371141877954182153046474983581941267398767559165543946077062914571196477686542167660429831652624386837205668069376\n",
      "CPU times: user 410 µs, sys: 0 ns, total: 410 µs\n",
      "Wall time: 420 µs\n"
     ]
    }
   ],
   "source": [
    "%%time\n",
    "def pow1(x,n):\n",
    "    #计算x^n\n",
    "    res = 1\n",
    "    for i in range(n):\n",
    "        res *= x\n",
    "    return res\n",
    "print(pow1(2,1000))"
   ]
  },
  {
   "cell_type": "markdown",
   "metadata": {},
   "source": [
    "### 分治算法"
   ]
  },
  {
   "cell_type": "code",
   "execution_count": 4,
   "metadata": {},
   "outputs": [
    {
     "name": "stdout",
     "output_type": "stream",
     "text": [
      "114813069527425452423283320117768198402231770208869520047764273682576626139237031385665948631650626991844596463898746277344711896086305533142593135616665318539129989145312280000688779148240044871428926990063486244781615463646388363947317026040466353970904996558162398808944629605623311649536164221970332681344168908984458505602379484807914058900934776500429002716706625830522008132236281291761267883317206598995396418127021779858404042159853183251540889433902091920554957783589672039160081957216630582755380425583726015528348786419432054508915275783882625175435528800822842770817965453762184851149029376\n",
      "CPU times: user 121 µs, sys: 0 ns, total: 121 µs\n",
      "Wall time: 126 µs\n"
     ]
    }
   ],
   "source": [
    "%%time\n",
    "def pow2(x,n):\n",
    "    #计算x^n\n",
    "    if n == 1:\n",
    "        return x\n",
    "    elif n % 2 ==0:\n",
    "        tmp = pow2(x,n/2) #// 用临时变量减少重复的运算\n",
    "        return tmp*tmp\n",
    "    else:\n",
    "        tmp = pow2(x,(n-1)/2)\n",
    "        return tmp*tmp*x\n",
    "\n",
    "print(pow2(2,2000))"
   ]
  },
  {
   "cell_type": "markdown",
   "metadata": {},
   "source": [
    "## 分治法计算斐波那契数列：\n",
    "\n",
    "[五种方法计算斐波那契数列的第n项](http://blog.zhengyi.one/fibonacci-in-logn.html)"
   ]
  },
  {
   "cell_type": "code",
   "execution_count": null,
   "metadata": {},
   "outputs": [],
   "source": []
  }
 ],
 "metadata": {
  "kernelspec": {
   "display_name": "Python 3",
   "language": "python",
   "name": "python3"
  },
  "language_info": {
   "codemirror_mode": {
    "name": "ipython",
    "version": 3
   },
   "file_extension": ".py",
   "mimetype": "text/x-python",
   "name": "python",
   "nbconvert_exporter": "python",
   "pygments_lexer": "ipython3",
   "version": "3.6.8"
  }
 },
 "nbformat": 4,
 "nbformat_minor": 2
}
