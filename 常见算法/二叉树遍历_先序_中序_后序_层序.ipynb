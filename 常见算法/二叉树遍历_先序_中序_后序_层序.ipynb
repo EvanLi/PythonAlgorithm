{
 "cells": [
  {
   "cell_type": "markdown",
   "metadata": {},
   "source": [
    "# python实现二叉树、递归非递归实现二叉树遍历\n",
    "\n",
    "参考文章：https://blog.csdn.net/Bone_ACE/article/details/46718683\n",
    "\n",
    "介绍：\n",
    "树是数据结构中非常重要的一种，主要的用途是用来提高查找效率，对于要重复查找的情况效果更佳，如二叉排序树、FP-树。另外可以用来提高编码效率，如哈弗曼树。\n",
    "\n",
    "![](https://img-blog.csdn.net/20150701155332682)\n",
    "\n",
    "用python实现二叉树的构造，以及递归非递归实现二叉树的遍历：\n",
    "\n",
    "- 树的构造\n",
    "- 先序遍历：递归、栈方法\n",
    "- 中序遍历：递归、栈方法\n",
    "- 后序遍历：递归、栈方法\n",
    "- 队列实现层次遍历"
   ]
  },
  {
   "cell_type": "markdown",
   "metadata": {},
   "source": [
    "## 0.树的构造\n",
    "\n",
    "### 0.1 树节点定义"
   ]
  },
  {
   "cell_type": "code",
   "execution_count": 1,
   "metadata": {},
   "outputs": [],
   "source": [
    "class TreeNode:\n",
    "    \"\"\"节点类\"\"\"\n",
    "    def __init__(self, val=None, left=None, right=None):\n",
    "        self.val = val       # 节点的值\n",
    "        self.left = left     # 左子节点\n",
    "        self.right = right   # 右子节点"
   ]
  },
  {
   "cell_type": "markdown",
   "metadata": {},
   "source": [
    "### 0.2 二叉树层序建立\n",
    "\n",
    "https://www.cnblogs.com/tomhawk/p/7464639.html\n",
    "\n",
    "建立二叉树时以层序遍历方式输入，节点不存在时以 `None` 表示，如输入`[1,2,3,4,None,5,6,None,7,None,None,8,None]`\n",
    "\n",
    "二叉树为：\n",
    "\n",
    "```\n",
    "       1\n",
    "      / \\\n",
    "     2   3\n",
    "    /   /  \\\n",
    "   4   5   6\n",
    "    \\     /\n",
    "     7   8\n",
    "```\n",
    "\n",
    "```\n",
    "先序遍历：[1, 2, 4, 7, 3, 5, 6, 8]\n",
    "中序遍历：[4, 7, 2, 1, 5, 3, 8, 6]\n",
    "后序遍历：[7, 4, 2, 5, 8, 6, 3, 1]\n",
    "层序遍历：[1, 2, 3, 4, 5, 6, 7, 8]\n",
    "```"
   ]
  },
  {
   "cell_type": "code",
   "execution_count": 2,
   "metadata": {},
   "outputs": [],
   "source": [
    "def creatTree(nodeList):\n",
    "    \"\"\"二叉树层序建立,层序遍历方式输入\"\"\"\n",
    "    if (nodeList is None) or (nodeList[0] is None):\n",
    "        return None\n",
    "    root = TreeNode(nodeList[0])\n",
    "    Nodes = [root]\n",
    "    j = 1\n",
    "    for node in Nodes:\n",
    "        if node != None:\n",
    "            node.left = (TreeNode(nodeList[j]) if nodeList[j] != None else None)\n",
    "            Nodes.append(node.left)\n",
    "            j += 1\n",
    "            if j == len(nodeList):\n",
    "                break\n",
    "            node.right = (TreeNode(nodeList[j])if nodeList[j] != None else None)\n",
    "            j += 1\n",
    "            Nodes.append(node.right)\n",
    "            if j == len(nodeList):\n",
    "                break\n",
    "    return root"
   ]
  },
  {
   "cell_type": "code",
   "execution_count": 3,
   "metadata": {},
   "outputs": [
    {
     "data": {
      "text/plain": [
       "8"
      ]
     },
     "execution_count": 3,
     "metadata": {},
     "output_type": "execute_result"
    }
   ],
   "source": [
    "nodeList = [1,2,3,4,None,5,6,None,7,None,None,8,None]\n",
    "tree=creatTree(nodeList)\n",
    "tree.right.right.left.val"
   ]
  },
  {
   "cell_type": "markdown",
   "metadata": {},
   "source": [
    "## 0.3 完整总结"
   ]
  },
  {
   "cell_type": "code",
   "execution_count": 4,
   "metadata": {},
   "outputs": [
    {
     "data": {
      "text/plain": [
       "9"
      ]
     },
     "execution_count": 4,
     "metadata": {},
     "output_type": "execute_result"
    }
   ],
   "source": [
    "from collections import Iterable\n",
    "\n",
    "class TreeNode:\n",
    "    \"\"\"节点类\"\"\"\n",
    "    def __init__(self, val=None, left=None, right=None):\n",
    "        self.val = val       # 节点的值\n",
    "        self.left = left     # 左子节点\n",
    "        self.right = right   # 右子节点\n",
    "\n",
    "class BinaryTree:\n",
    "    \"\"\"二叉树类\"\"\"\n",
    "    def __init__(self, seq=()):\n",
    "        assert isinstance(seq, Iterable) #判断是否是 可迭代对象\n",
    "        self.root = None\n",
    "        self.creatTree(*seq)\n",
    "    def creatTree(self, *nodeList):\n",
    "        \"\"\"二叉树层序建立,层序遍历方式输入\"\"\"\n",
    "        if (nodeList is None) or (nodeList[0] is None):\n",
    "            self.root = None\n",
    "        else:\n",
    "            self.root = TreeNode(nodeList[0])\n",
    "            Nodes = [self.root]\n",
    "            j = 1\n",
    "            for node in Nodes:\n",
    "                if node != None:\n",
    "                    node.left = (TreeNode(nodeList[j]) if nodeList[j] != None else None)\n",
    "                    Nodes.append(node.left)\n",
    "                    j += 1\n",
    "                    if j == len(nodeList):\n",
    "                        break\n",
    "                    node.right = (TreeNode(nodeList[j])if nodeList[j] != None else None)\n",
    "                    j += 1\n",
    "                    Nodes.append(node.right)\n",
    "                    if j == len(nodeList):\n",
    "                        break\n",
    "\n",
    "\n",
    "nodeList1 = [0,1,2,3,4,5,6,7,8,9]\n",
    "nodeList2 = [1,2,3,4,None,5,6,None,7,None,None,8,None]\n",
    "tree1 = BinaryTree(nodeList1)\n",
    "tree2 = BinaryTree(nodeList2)\n",
    "tree1.root.left.right.left.val"
   ]
  },
  {
   "cell_type": "markdown",
   "metadata": {},
   "source": [
    "## 1.先序遍历 Pre-order Traversal\n",
    "\n",
    "https://www.tutorialspoint.com/python_data_structure/python_tree_traversal_algorithms.htm\n",
    "\n",
    "根-左-右\n",
    "\n",
    "### 1.1 递归实现"
   ]
  },
  {
   "cell_type": "code",
   "execution_count": 5,
   "metadata": {},
   "outputs": [
    {
     "name": "stdout",
     "output_type": "stream",
     "text": [
      "[0, 1, 3, 7, 8, 4, 9, 2, 5, 6]\n",
      "[1, 2, 4, 7, 3, 5, 6, 8]\n"
     ]
    }
   ],
   "source": [
    "# Preorder traversal\n",
    "# Root -> Left ->Right\n",
    "def Preorder(root):\n",
    "    res = []\n",
    "    if root: #节点为None时，跳过\n",
    "        res.append(root.val)\n",
    "        res = res + Preorder(root.left)\n",
    "        res = res + Preorder(root.right)\n",
    "    return res\n",
    "\n",
    "print(Preorder(tree1.root))\n",
    "print(Preorder(tree2.root))"
   ]
  },
  {
   "cell_type": "markdown",
   "metadata": {},
   "source": [
    "### 1.2 栈实现"
   ]
  },
  {
   "cell_type": "code",
   "execution_count": 6,
   "metadata": {},
   "outputs": [
    {
     "name": "stdout",
     "output_type": "stream",
     "text": [
      "[0, 1, 3, 7, 8, 4, 9, 2, 5, 6]\n",
      "[1, 2, 4, 7, 3, 5, 6, 8]\n"
     ]
    }
   ],
   "source": [
    "def Preorder_stack(root):\n",
    "    \"\"\"利用栈实现树的先序遍历\"\"\"\n",
    "    if root == None:\n",
    "        return\n",
    "    myStack = []\n",
    "    node = root\n",
    "    res = []\n",
    "    while node or myStack:\n",
    "        while node:           #从根节点开始，一直找它的左子树\n",
    "            res.append(node.val)\n",
    "            myStack.append(node)\n",
    "            node = node.left\n",
    "        node = myStack.pop()  #while结束表示当前节点node为空，即前一个节点没有左子树了\n",
    "        node = node.right     #开始查看它的右子树\n",
    "    return res\n",
    "\n",
    "print(Preorder_stack(tree1.root))\n",
    "print(Preorder_stack(tree2.root))"
   ]
  },
  {
   "cell_type": "markdown",
   "metadata": {},
   "source": [
    "## 2.中序遍历 In-order Traversal\n",
    "\n",
    "左-根-右\n",
    "\n",
    "### 2.1 递归实现"
   ]
  },
  {
   "cell_type": "code",
   "execution_count": 7,
   "metadata": {},
   "outputs": [
    {
     "name": "stdout",
     "output_type": "stream",
     "text": [
      "[7, 3, 8, 1, 9, 4, 0, 5, 2, 6]\n",
      "[4, 7, 2, 1, 5, 3, 8, 6]\n"
     ]
    }
   ],
   "source": [
    "# Inorder traversal\n",
    "# Left -> Root -> Right\n",
    "def Inorder(root):\n",
    "    res = []\n",
    "    if root: #节点为None时，跳过\n",
    "        res = res + Inorder(root.left)\n",
    "        res.append(root.val)\n",
    "        res = res + Inorder(root.right)\n",
    "    return res\n",
    "\n",
    "print(Inorder(tree1.root))\n",
    "print(Inorder(tree2.root))"
   ]
  },
  {
   "cell_type": "markdown",
   "metadata": {},
   "source": [
    "### 2.2 栈实现"
   ]
  },
  {
   "cell_type": "code",
   "execution_count": 8,
   "metadata": {},
   "outputs": [
    {
     "name": "stdout",
     "output_type": "stream",
     "text": [
      "[7, 3, 8, 1, 9, 4, 0, 5, 2, 6]\n",
      "[4, 7, 2, 1, 5, 3, 8, 6]\n"
     ]
    }
   ],
   "source": [
    "def Inorder_stack(root):\n",
    "    \"\"\"利用栈实现树的中序遍历\"\"\"\n",
    "    if root == None:\n",
    "        return\n",
    "    myStack = []\n",
    "    node = root\n",
    "    res = []\n",
    "    while node or myStack:\n",
    "        while node:           #从根节点开始，一直找它的左子树\n",
    "            myStack.append(node)\n",
    "            node = node.left\n",
    "        node = myStack.pop()  #while结束表示当前节点node为空，即前一个节点没有左子树了\n",
    "        res.append(node.val)\n",
    "        node = node.right     #开始查看它的右子树\n",
    "    return res\n",
    "\n",
    "print(Inorder_stack(tree1.root))\n",
    "print(Inorder_stack(tree2.root))"
   ]
  },
  {
   "cell_type": "markdown",
   "metadata": {},
   "source": [
    "## 3.后序遍历 Post-order Traversal\n",
    "\n",
    "左-右-根\n",
    "\n",
    "### 3.1 递归实现"
   ]
  },
  {
   "cell_type": "code",
   "execution_count": 9,
   "metadata": {},
   "outputs": [
    {
     "name": "stdout",
     "output_type": "stream",
     "text": [
      "[7, 8, 3, 9, 4, 1, 5, 6, 2, 0]\n",
      "[7, 4, 2, 5, 8, 6, 3, 1]\n"
     ]
    }
   ],
   "source": [
    "# Postorder traversal\n",
    "# Left -> Right -> Root\n",
    "def Postorder(root):\n",
    "    res = []\n",
    "    if root: #节点为None时，跳过\n",
    "        res += Postorder(root.left)\n",
    "        res += Postorder(root.right)\n",
    "        res.append(root.val)\n",
    "    return res\n",
    "\n",
    "print(Postorder(tree1.root))\n",
    "print(Postorder(tree2.root))"
   ]
  },
  {
   "cell_type": "markdown",
   "metadata": {},
   "source": [
    "### 3.2 栈实现"
   ]
  },
  {
   "cell_type": "code",
   "execution_count": 10,
   "metadata": {},
   "outputs": [
    {
     "name": "stdout",
     "output_type": "stream",
     "text": [
      "[7, 8, 3, 9, 4, 1, 5, 6, 2, 0]\n",
      "[7, 4, 2, 5, 8, 6, 3, 1]\n"
     ]
    }
   ],
   "source": [
    "def Postorder_stack(root):\n",
    "    \"\"\"利用栈实现树的后序遍历\"\"\"\n",
    "    if root == None:\n",
    "        return\n",
    "    myStack1 = []\n",
    "    myStack2 = []\n",
    "    node = root\n",
    "    res = []\n",
    "    myStack1.append(node)\n",
    "    while myStack1:                 #这个while循环的功能是找出后序遍历的逆序，存在myStack2里面\n",
    "        node = myStack1.pop()\n",
    "        if node.left:\n",
    "            myStack1.append(node.left)\n",
    "        if node.right:\n",
    "            myStack1.append(node.right)\n",
    "        myStack2.append(node)\n",
    "    while myStack2:                 #将myStack2中的元素出栈，即为后序遍历次序\n",
    "        res.append(myStack2.pop().val)\n",
    "    return res\n",
    "Postorder_stack(tree)\n",
    "\n",
    "print(Postorder_stack(tree1.root))\n",
    "print(Postorder_stack(tree2.root))"
   ]
  },
  {
   "cell_type": "markdown",
   "metadata": {},
   "source": [
    "## 4.层序遍历 Level-order Traversal\n",
    "\n",
    "- 宽度优先搜索（BFS）：层序遍历\n",
    "- 深度优先搜索（DFS）：先序遍历、中序遍历、后序遍历\n",
    "\n",
    "使用队列实现树的层次遍历：\n",
    "\n",
    "初始时根节点入队，然后每次pop队首节点（并打印或添加到list保存），同时将该节点的左右节点（如果有）入队，不断进行，直到队列为空。"
   ]
  },
  {
   "cell_type": "code",
   "execution_count": 11,
   "metadata": {},
   "outputs": [
    {
     "name": "stdout",
     "output_type": "stream",
     "text": [
      "[0, 1, 2, 3, 4, 5, 6, 7, 8, 9]\n",
      "[1, 2, 3, 4, 5, 6, 7, 8]\n"
     ]
    }
   ],
   "source": [
    "def Levelorder(root):\n",
    "    \"\"\"利用队列实现树的层次遍历\"\"\"\n",
    "    if root == None:\n",
    "        return\n",
    "    myQueue = []\n",
    "    node = root\n",
    "    res = []\n",
    "    myQueue.append(node)\n",
    "    while myQueue:\n",
    "        node = myQueue.pop(0)\n",
    "        res.append(node.val)\n",
    "        if node.left != None:\n",
    "            myQueue.append(node.left)\n",
    "        if node.right != None:\n",
    "            myQueue.append(node.right)\n",
    "    return res\n",
    "\n",
    "print(Levelorder(tree1.root))\n",
    "print(Levelorder(tree2.root))"
   ]
  }
 ],
 "metadata": {
  "kernelspec": {
   "display_name": "Python 3",
   "language": "python",
   "name": "python3"
  },
  "language_info": {
   "codemirror_mode": {
    "name": "ipython",
    "version": 3
   },
   "file_extension": ".py",
   "mimetype": "text/x-python",
   "name": "python",
   "nbconvert_exporter": "python",
   "pygments_lexer": "ipython3",
   "version": "3.7.3"
  }
 },
 "nbformat": 4,
 "nbformat_minor": 2
}
