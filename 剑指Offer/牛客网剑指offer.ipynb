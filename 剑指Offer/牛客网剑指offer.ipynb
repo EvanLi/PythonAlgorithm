{
 "cells": [
  {
   "cell_type": "markdown",
   "metadata": {},
   "source": [
    "2.二维数组中的查找\n",
    "\n",
    "题目描述\n",
    "\n",
    "在一个二维数组中，每一行都按照从左到右递增的顺序排序，每一列都按照从上到下递增的顺序排序。请完成一个函数，输入这样的一个二维数组和一个整数，判断数组中是否含有该整数。\n",
    "\n",
    "输入描述\n",
    "\n",
    "array： 待查找的二维数组 target：查找的数字\n",
    "\n",
    "输出描述\n",
    "\n",
    "查找到返回true，查找不到返回false"
   ]
  },
  {
   "cell_type": "markdown",
   "metadata": {},
   "source": [
    "暴力求解："
   ]
  },
  {
   "cell_type": "code",
   "execution_count": 20,
   "metadata": {},
   "outputs": [],
   "source": [
    "# -*- coding:utf-8 -*-\n",
    "class Solution:\n",
    "    # array 二维列表\n",
    "    def Find(self, target, array):\n",
    "        # write code here\n",
    "        if not array:\n",
    "            return False\n",
    "        for line in array:\n",
    "            for col in line:\n",
    "                if target == col:\n",
    "                    return True\n",
    "        return False"
   ]
  },
  {
   "cell_type": "code",
   "execution_count": 23,
   "metadata": {},
   "outputs": [
    {
     "data": {
      "text/plain": [
       "True"
      ]
     },
     "execution_count": 23,
     "metadata": {},
     "output_type": "execute_result"
    }
   ],
   "source": [
    "array = [[1,2,3],[2,3,4],[3,4,5],[4,5,6]]\n",
    "target = 2\n",
    "s1 = Solution()\n",
    "s1.Find(target,array)"
   ]
  },
  {
   "cell_type": "markdown",
   "metadata": {},
   "source": [
    "从左下角或者右上角开始比较:"
   ]
  },
  {
   "cell_type": "code",
   "execution_count": 21,
   "metadata": {},
   "outputs": [],
   "source": [
    "# -*- coding:utf-8 -*-\n",
    "class Solution:\n",
    "    # array 二维列表\n",
    "    def Find(self, target, array):\n",
    "        # write code here\n",
    "        if not array:\n",
    "            return False\n",
    "        row,col = len(array),len(array[0])\n",
    "#         从左下角开始\n",
    "        i,j = row-1,0\n",
    "        while i >=0 and j<col:\n",
    "            if array[i][j] == target:\n",
    "                return True\n",
    "            elif array[i][j] > target:\n",
    "                i -= 1\n",
    "            else:\n",
    "                j +=1\n",
    "        return False"
   ]
  },
  {
   "cell_type": "code",
   "execution_count": 4,
   "metadata": {},
   "outputs": [
    {
     "name": "stdout",
     "output_type": "stream",
     "text": [
      "Hello%20World\n"
     ]
    }
   ],
   "source": [
    "s = \"Hello World\"\n",
    "l = len(s)\n",
    "s_out = ''\n",
    "for i in range(l):\n",
    "    if(s[i]!=' '):\n",
    "        s_out += s[i]\n",
    "    else:\n",
    "        s_out += \"%20\"\n",
    "return s_out"
   ]
  },
  {
   "cell_type": "code",
   "execution_count": 7,
   "metadata": {},
   "outputs": [],
   "source": [
    "# -*- coding:utf-8 -*-\n",
    "class Solution:\n",
    "    # s 源字符串\n",
    "    def replaceSpace(self, s):\n",
    "        # write code here\n",
    "        s = list(s)\n",
    "        l = len(s)\n",
    "        for i in range(l):\n",
    "            if(s[i] == ' '):\n",
    "                s[i] = '%20'\n",
    "        return ''.join(s)"
   ]
  },
  {
   "cell_type": "code",
   "execution_count": 11,
   "metadata": {},
   "outputs": [
    {
     "data": {
      "text/plain": [
       "'Hello%20World'"
      ]
     },
     "execution_count": 11,
     "metadata": {},
     "output_type": "execute_result"
    }
   ],
   "source": [
    "test1 = Solution()\n",
    "test1.replaceSpace(\"Hello World\")"
   ]
  }
 ],
 "metadata": {
  "kernelspec": {
   "display_name": "tf36",
   "language": "python",
   "name": "tf36"
  },
  "language_info": {
   "codemirror_mode": {
    "name": "ipython",
    "version": 3
   },
   "file_extension": ".py",
   "mimetype": "text/x-python",
   "name": "python",
   "nbconvert_exporter": "python",
   "pygments_lexer": "ipython3",
   "version": "3.6.7"
  }
 },
 "nbformat": 4,
 "nbformat_minor": 2
}
