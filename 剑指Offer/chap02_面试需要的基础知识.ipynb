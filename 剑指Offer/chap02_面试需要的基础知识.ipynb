{
 "cells": [
  {
   "cell_type": "markdown",
   "metadata": {},
   "source": [
    "# 第2章 面试基础知识\n",
    "\n",
    "## 2.2 编程语言\n",
    "\n",
    "### 面试题2 使用Python实现单例模式\n",
    "\n",
    "**方法一 使用`__new__`实现单例模式**\n",
    "\n",
    "[由Python通过__new__实现单例模式，所想到的`__new__`和`__init__`方法的区别](https://www.cnblogs.com/qiaojushuang/p/7805973.html)"
   ]
  },
  {
   "cell_type": "markdown",
   "metadata": {},
   "source": [
    "## 2.3 数据结构\n",
    "\n",
    "### 面试题3 二维数组中的查找\n",
    "\n",
    ">题目描述：\n",
    ">\n",
    ">在一个二维数组中（每个一维数组的长度相同），每一行都按照从左到右递增的顺序排序，每一列都按照从上到下递增的顺序排序。请完成一个函数，输入这样的一个二维数组和一个整数，判断数组中是否含有该整数。\n",
    "\n",
    "\n",
    "> 思路：\n",
    ">\n",
    ">从左下角元素往上查找，右边元素是比这个元素大，上边是的元素比这个元素小。于是，target比这个元素小就往上找，比这个元素大就往右找。如果出了边界，则说明二维数组中不存在target元素。"
   ]
  },
  {
   "cell_type": "code",
   "execution_count": 3,
   "metadata": {},
   "outputs": [],
   "source": [
    "# -*- coding:utf-8 -*-\n",
    "class Solution:\n",
    "    # array 二维列表\n",
    "    def Find(self, target, array):\n",
    "        # write code here\n",
    "        if not array: #空值判断\n",
    "            return False\n",
    "        row,col = len(array),len(array[0])\n",
    "#         从左下角开始\n",
    "        i,j = row-1,0\n",
    "        while i >=0 and j<col:\n",
    "            if array[i][j] == target:\n",
    "                return True\n",
    "            elif array[i][j] > target:\n",
    "                i -= 1\n",
    "            else:\n",
    "                j +=1\n",
    "        return False"
   ]
  },
  {
   "cell_type": "code",
   "execution_count": 4,
   "metadata": {},
   "outputs": [
    {
     "data": {
      "text/plain": [
       "True"
      ]
     },
     "execution_count": 4,
     "metadata": {},
     "output_type": "execute_result"
    }
   ],
   "source": [
    "# 测试：\n",
    "solu = Solution()\n",
    "\n",
    "array = [[1,2,3],\n",
    "         [4,5,6],\n",
    "         [7,8,9]]\n",
    "solu.Find(9,array)"
   ]
  },
  {
   "cell_type": "markdown",
   "metadata": {},
   "source": [
    "### 面试题4 替换空格\n",
    "\n",
    ">题目描述:\n",
    ">\n",
    ">请实现一个函数，将一个字符串中的每个空格替换成“%20”。例如，当字符串为We Are Happy.则经过替换之后的字符串为We%20Are%20Happy。"
   ]
  },
  {
   "cell_type": "markdown",
   "metadata": {},
   "source": [
    "直接替换法："
   ]
  },
  {
   "cell_type": "code",
   "execution_count": 6,
   "metadata": {
    "collapsed": false
   },
   "outputs": [],
   "source": [
    "# -*- coding:utf-8 -*-\n",
    "class Solution:\n",
    "    # s 源字符串\n",
    "    def replaceSpace(self, s):\n",
    "        # write code here\n",
    "        l = len(s)\n",
    "        s_out = ''\n",
    "        for i in range(l):\n",
    "            if(s[i]!=' '):\n",
    "                s_out += s[i]\n",
    "            else:\n",
    "                s_out += \"%20\"\n",
    "        return s_out"
   ]
  },
  {
   "cell_type": "markdown",
   "metadata": {},
   "source": [
    "利用join，使用%20连接列表元素即可"
   ]
  },
  {
   "cell_type": "code",
   "execution_count": 7,
   "metadata": {
    "collapsed": false
   },
   "outputs": [],
   "source": [
    "# -*- coding:utf-8 -*-\n",
    "class Solution:\n",
    "    # s 源字符串\n",
    "    def replaceSpace(self, s):\n",
    "        return \"%20\".join(list(s.split(\" \")))"
   ]
  },
  {
   "cell_type": "markdown",
   "metadata": {},
   "source": [
    "replace函数"
   ]
  },
  {
   "cell_type": "code",
   "execution_count": 8,
   "metadata": {
    "collapsed": false
   },
   "outputs": [],
   "source": [
    "# -*- coding:utf-8 -*-\n",
    "class Solution:\n",
    "    # s 源字符串\n",
    "    def replaceSpace(self, s):\n",
    "        # write code here\n",
    "        return s.replace(' ','%20')"
   ]
  },
  {
   "cell_type": "markdown",
   "metadata": {},
   "source": [
    "正则表达式："
   ]
  },
  {
   "cell_type": "code",
   "execution_count": 11,
   "metadata": {
    "collapsed": false
   },
   "outputs": [],
   "source": [
    "# -*- coding:utf-8 -*-\n",
    "class Solution:\n",
    "    # s 源字符串\n",
    "    def replaceSpace(self, s):\n",
    "        # write code here\n",
    "        import re\n",
    "        ret = re.compile(' ')\n",
    "        return ret.sub('%20',s)"
   ]
  },
  {
   "cell_type": "code",
   "execution_count": 9,
   "metadata": {
    "collapsed": false
   },
   "outputs": [
    {
     "data": {
      "text/plain": [
       "'We%20Are%20Happy'"
      ]
     },
     "execution_count": 9,
     "metadata": {},
     "output_type": "execute_result"
    }
   ],
   "source": [
    "# 测试：\n",
    "solu = Solution()\n",
    "solu.replaceSpace(\"We Are Happy\")"
   ]
  },
  {
   "cell_type": "markdown",
   "metadata": {},
   "source": [
    "### 面试题5 从尾到头打印单链表\n",
    "\n",
    "\n",
    ">题目描述:\n",
    ">\n",
    ">输入一个链表，按链表值从尾到头的顺序返回一个ArrayList。\n",
    "\n",
    "方法1：使用栈,可以使用列表模拟"
   ]
  },
  {
   "cell_type": "code",
   "execution_count": 10,
   "metadata": {
    "collapsed": false
   },
   "outputs": [],
   "source": [
    "# -*- coding:utf-8 -*-\n",
    "\n",
    "class ListNode:\n",
    "    def __init__(self, x):\n",
    "        self.val = x\n",
    "        self.next = None\n",
    "\n",
    "class Solution:\n",
    "    # 返回从尾部到头部的列表值序列，例如[1,2,3]\n",
    "    def printListFromTailToHead(self, listNode):\n",
    "        # write code here\n",
    "        stack = []\n",
    "        rev = []\n",
    "        while listNode:\n",
    "            stack.append(listNode.val)\n",
    "            listNode = listNode.next\n",
    "        while stack:\n",
    "            rev.append(stack.pop())\n",
    "        return rev"
   ]
  },
  {
   "cell_type": "markdown",
   "metadata": {},
   "source": [
    "方法2：直接递归"
   ]
  },
  {
   "cell_type": "code",
   "execution_count": 12,
   "metadata": {
    "collapsed": false
   },
   "outputs": [],
   "source": [
    "# -*- coding:utf-8 -*-\n",
    "\n",
    "class ListNode:\n",
    "    def __init__(self, x):\n",
    "        self.val = x\n",
    "        self.next = None\n",
    "\n",
    "class Solution:\n",
    "    # 返回从尾部到头部的列表值序列，例如[1,2,3]\n",
    "    def printListFromTailToHead(self, listNode):\n",
    "        # write code here\n",
    "        if listNode is None:\n",
    "            return []\n",
    "        return self.printListFromTailToHead(listNode.next) + [listNode.val]"
   ]
  },
  {
   "cell_type": "code",
   "execution_count": 13,
   "metadata": {
    "collapsed": false
   },
   "outputs": [
    {
     "data": {
      "text/plain": [
       "[3, 2, 1]"
      ]
     },
     "execution_count": 13,
     "metadata": {},
     "output_type": "execute_result"
    }
   ],
   "source": [
    "# 测试：\n",
    "solu = Solution()\n",
    "\n",
    "l1 = ListNode(1)\n",
    "l2 = ListNode(2)\n",
    "l3 = ListNode(3)\n",
    "l1.next = l2\n",
    "l2.next = l3\n",
    "\n",
    "solu.printListFromTailToHead(l1)"
   ]
  },
  {
   "cell_type": "markdown",
   "metadata": {},
   "source": [
    "### 面试题6 重建二叉树\n",
    "\n",
    "[重建二叉树LeetCode](https://leetcode.com/problems/construct-binary-tree-from-preorder-and-inorder-traversal/)\n",
    "\n",
    ">题目描述:\n",
    ">\n",
    ">输入某二叉树的前序遍历和中序遍历的结果，请重建出该二叉树。假设输入的前序遍历和中序遍历的结果中都不含重复的数字。例如输入前序遍历序列{1,2,4,7,3,5,6,8}和中序遍历序列{4,7,2,1,5,3,8,6}，则重建二叉树并返回。\n",
    "\n",
    ">思路：\n",
    ">\n",
    ">前序的第一个元素是根结点的值，在中序中找到该值，中序中该值的左边的元素是根结点的左子树，右边是右子树，然后递归的处理左边和右边\n",
    ">提示：二叉树结点，以及对二叉树的各种操作，测试代码见six.py"
   ]
  },
  {
   "cell_type": "code",
   "execution_count": null,
   "metadata": {},
   "outputs": [],
   "source": [
    "# -*- coding:utf-8 -*-\n",
    "# class TreeNode:\n",
    "#     def __init__(self, x):\n",
    "#         self.val = x\n",
    "#         self.left = None\n",
    "#         self.right = None\n",
    "class Solution:\n",
    "    # 返回构造的TreeNode根节点\n",
    "    def reConstructBinaryTree(self, pre, tin):\n",
    "        # write code here"
   ]
  },
  {
   "cell_type": "markdown",
   "metadata": {},
   "source": [
    "### 面试题7 用两个栈实现队列\n",
    "\n",
    "## 2.4 算法和数据操作\n",
    "\n",
    "### 面试题8 旋转数组的最小数字\n",
    "\n",
    "### 面试题9 斐波那契数列\n",
    "\n",
    "### 面试题10 二进制中1的个数"
   ]
  },
  {
   "cell_type": "code",
   "execution_count": null,
   "metadata": {
    "collapsed": false
   },
   "outputs": [],
   "source": []
  },
  {
   "cell_type": "code",
   "execution_count": null,
   "metadata": {
    "collapsed": false
   },
   "outputs": [],
   "source": []
  },
  {
   "cell_type": "code",
   "execution_count": null,
   "metadata": {
    "collapsed": false
   },
   "outputs": [],
   "source": []
  },
  {
   "cell_type": "code",
   "execution_count": null,
   "metadata": {
    "collapsed": false
   },
   "outputs": [],
   "source": []
  }
 ],
 "metadata": {
  "kernelspec": {
   "display_name": "Python 3 (Ubuntu Linux)",
   "language": "python",
   "name": "python3"
  },
  "language_info": {
   "codemirror_mode": {
    "name": "ipython",
    "version": 3
   },
   "file_extension": ".py",
   "mimetype": "text/x-python",
   "name": "python",
   "nbconvert_exporter": "python",
   "pygments_lexer": "ipython3",
   "version": "3.6.8"
  }
 },
 "nbformat": 4,
 "nbformat_minor": 2
}
