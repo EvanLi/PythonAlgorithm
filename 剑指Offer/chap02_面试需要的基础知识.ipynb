{
 "cells": [
  {
   "cell_type": "markdown",
   "metadata": {},
   "source": [
    "# 第2章 面试基础知识\n",
    "\n",
    "## 2.2 编程语言\n",
    "\n",
    "### 面试题2 使用Python实现单例模式\n",
    "\n",
    "**方法一 使用`__new__`实现单例模式**\n",
    "\n",
    "[由Python通过__new__实现单例模式，所想到的`__new__`和`__init__`方法的区别](https://www.cnblogs.com/qiaojushuang/p/7805973.html)"
   ]
  },
  {
   "cell_type": "markdown",
   "metadata": {},
   "source": [
    "## 2.3 数据结构\n",
    "\n",
    "### 面试题3 二维数组中的查找\n",
    "\n",
    ">题目描述：\n",
    ">\n",
    ">在一个二维数组中（每个一维数组的长度相同），每一行都按照从左到右递增的顺序排序，每一列都按照从上到下递增的顺序排序。请完成一个函数，输入这样的一个二维数组和一个整数，判断数组中是否含有该整数。\n",
    "\n",
    "\n",
    "> 思路：\n",
    ">\n",
    ">从左下角元素往上查找，右边元素是比这个元素大，上边是的元素比这个元素小。于是，target比这个元素小就往上找，比这个元素大就往右找。如果出了边界，则说明二维数组中不存在target元素。"
   ]
  },
  {
   "cell_type": "code",
   "execution_count": 1,
   "metadata": {},
   "outputs": [],
   "source": [
    "# -*- coding:utf-8 -*-\n",
    "class Solution:\n",
    "    # array 二维列表\n",
    "    def Find(self, target, array):\n",
    "        # write code here\n",
    "        if not array: #空值判断\n",
    "            return False\n",
    "        row,col = len(array),len(array[0])\n",
    "#         从左下角开始\n",
    "        i,j = row-1,0\n",
    "        while i >=0 and j<col:\n",
    "            if array[i][j] == target:\n",
    "                return True\n",
    "            elif array[i][j] > target:\n",
    "                i -= 1\n",
    "            else:\n",
    "                j +=1\n",
    "        return False"
   ]
  },
  {
   "cell_type": "code",
   "execution_count": 2,
   "metadata": {},
   "outputs": [
    {
     "data": {
      "text/plain": [
       "True"
      ]
     },
     "execution_count": 2,
     "metadata": {},
     "output_type": "execute_result"
    }
   ],
   "source": [
    "# 测试：\n",
    "solu = Solution()\n",
    "\n",
    "array = [[1,2,3],\n",
    "         [4,5,6],\n",
    "         [7,8,9]]\n",
    "solu.Find(9,array)"
   ]
  },
  {
   "cell_type": "markdown",
   "metadata": {},
   "source": [
    "### 面试题4 替换空格\n",
    "\n",
    ">题目描述:\n",
    ">\n",
    ">请实现一个函数，将一个字符串中的每个空格替换成“%20”。例如，当字符串为We Are Happy.则经过替换之后的字符串为We%20Are%20Happy。"
   ]
  },
  {
   "cell_type": "markdown",
   "metadata": {},
   "source": [
    "直接替换法："
   ]
  },
  {
   "cell_type": "code",
   "execution_count": 3,
   "metadata": {
    "collapsed": false
   },
   "outputs": [],
   "source": [
    "# -*- coding:utf-8 -*-\n",
    "class Solution:\n",
    "    # s 源字符串\n",
    "    def replaceSpace(self, s):\n",
    "        # write code here\n",
    "        l = len(s)\n",
    "        s_out = ''\n",
    "        for i in range(l):\n",
    "            if(s[i]!=' '):\n",
    "                s_out += s[i]\n",
    "            else:\n",
    "                s_out += \"%20\"\n",
    "        return s_out"
   ]
  },
  {
   "cell_type": "markdown",
   "metadata": {},
   "source": [
    "利用join，使用%20连接列表元素即可"
   ]
  },
  {
   "cell_type": "code",
   "execution_count": 4,
   "metadata": {
    "collapsed": false
   },
   "outputs": [],
   "source": [
    "# -*- coding:utf-8 -*-\n",
    "class Solution:\n",
    "    # s 源字符串\n",
    "    def replaceSpace(self, s):\n",
    "        return \"%20\".join(list(s.split(\" \")))"
   ]
  },
  {
   "cell_type": "markdown",
   "metadata": {},
   "source": [
    "replace函数"
   ]
  },
  {
   "cell_type": "code",
   "execution_count": 5,
   "metadata": {
    "collapsed": false
   },
   "outputs": [],
   "source": [
    "# -*- coding:utf-8 -*-\n",
    "class Solution:\n",
    "    # s 源字符串\n",
    "    def replaceSpace(self, s):\n",
    "        # write code here\n",
    "        return s.replace(' ','%20')"
   ]
  },
  {
   "cell_type": "markdown",
   "metadata": {},
   "source": [
    "正则表达式："
   ]
  },
  {
   "cell_type": "code",
   "execution_count": 6,
   "metadata": {
    "collapsed": false
   },
   "outputs": [],
   "source": [
    "# -*- coding:utf-8 -*-\n",
    "class Solution:\n",
    "    # s 源字符串\n",
    "    def replaceSpace(self, s):\n",
    "        # write code here\n",
    "        import re\n",
    "        ret = re.compile(' ')\n",
    "        return ret.sub('%20',s)"
   ]
  },
  {
   "cell_type": "code",
   "execution_count": 7,
   "metadata": {
    "collapsed": false
   },
   "outputs": [
    {
     "data": {
      "text/plain": [
       "'We%20Are%20Happy'"
      ]
     },
     "execution_count": 7,
     "metadata": {},
     "output_type": "execute_result"
    }
   ],
   "source": [
    "# 测试：\n",
    "solu = Solution()\n",
    "solu.replaceSpace(\"We Are Happy\")"
   ]
  },
  {
   "cell_type": "markdown",
   "metadata": {},
   "source": [
    "### 面试题5 从尾到头打印单链表\n",
    "\n",
    "\n",
    ">题目描述:\n",
    ">\n",
    ">输入一个链表，按链表值从尾到头的顺序返回一个ArrayList。\n",
    "\n",
    "方法1：使用栈,可以使用列表模拟"
   ]
  },
  {
   "cell_type": "code",
   "execution_count": 8,
   "metadata": {
    "collapsed": false
   },
   "outputs": [],
   "source": [
    "# -*- coding:utf-8 -*-\n",
    "\n",
    "class ListNode:\n",
    "    def __init__(self, x):\n",
    "        self.val = x\n",
    "        self.next = None\n",
    "\n",
    "class Solution:\n",
    "    # 返回从尾部到头部的列表值序列，例如[1,2,3]\n",
    "    def printListFromTailToHead(self, listNode):\n",
    "        # write code here\n",
    "        stack = []\n",
    "        rev = []\n",
    "        while listNode:\n",
    "            stack.append(listNode.val)\n",
    "            listNode = listNode.next\n",
    "        while stack:\n",
    "            rev.append(stack.pop())\n",
    "        return rev"
   ]
  },
  {
   "cell_type": "markdown",
   "metadata": {},
   "source": [
    "方法2：直接递归"
   ]
  },
  {
   "cell_type": "code",
   "execution_count": 9,
   "metadata": {
    "collapsed": false
   },
   "outputs": [],
   "source": [
    "# -*- coding:utf-8 -*-\n",
    "\n",
    "class ListNode:\n",
    "    def __init__(self, x):\n",
    "        self.val = x\n",
    "        self.next = None\n",
    "\n",
    "class Solution:\n",
    "    # 返回从尾部到头部的列表值序列，例如[1,2,3]\n",
    "    def printListFromTailToHead(self, listNode):\n",
    "        # write code here\n",
    "        if listNode is None:\n",
    "            return []\n",
    "        return self.printListFromTailToHead(listNode.next) + [listNode.val]"
   ]
  },
  {
   "cell_type": "code",
   "execution_count": 10,
   "metadata": {
    "collapsed": false
   },
   "outputs": [
    {
     "data": {
      "text/plain": [
       "[3, 2, 1]"
      ]
     },
     "execution_count": 10,
     "metadata": {},
     "output_type": "execute_result"
    }
   ],
   "source": [
    "# 测试：\n",
    "solu = Solution()\n",
    "\n",
    "l1 = ListNode(1)\n",
    "l2 = ListNode(2)\n",
    "l3 = ListNode(3)\n",
    "l1.next = l2\n",
    "l2.next = l3\n",
    "\n",
    "solu.printListFromTailToHead(l1)"
   ]
  },
  {
   "cell_type": "markdown",
   "metadata": {},
   "source": [
    "### 面试题6 重建二叉树\n",
    "\n",
    "[重建二叉树LeetCode](https://leetcode.com/problems/construct-binary-tree-from-preorder-and-inorder-traversal/)\n",
    "\n",
    ">题目描述:\n",
    "根据一棵树的前序遍历与中序遍历构造二叉树。\n",
    "注意:\n",
    "你可以假设树中没有重复的元素。\n",
    "例如，给出\n",
    "\n",
    "```\n",
    "preorder = [3,9,20,15,7]\n",
    "inorder = [9,3,15,20,7]\n",
    "\n",
    "返回二叉树：\n",
    "    3\n",
    "   / \\\n",
    "  9  20\n",
    "    /  \\\n",
    "   15   7\n",
    "   \n",
    "preorder = [1,2,4,7,3,5,6,8]\n",
    "inorder = [4,7,2,1,5,3,8,6]\n",
    "\n",
    "返回二叉树：\n",
    "       1\n",
    "      / \\\n",
    "     2  3\n",
    "    /  /  \\\n",
    "   4  5   6\n",
    "    \\    /\n",
    "     7  8\n",
    "```\n",
    "\n",
    ">思路：\n",
    ">\n",
    ">前序的第一个元素是根结点的值，在中序中找到该值，中序中该值的左边的元素是根结点的左子树，右边是右子树，然后递归的处理左边和右边\n",
    ">提示：二叉树结点，以及对二叉树的各种操作\n",
    "\n",
    "首先要知道一个结论，前序/后序+中序序列可以唯一确定一棵二叉树，所以自然而然可以用来建树。\n",
    "\n",
    "有如下特征：\n",
    "1. 前序中左起第一位`1`肯定是根结点，我们可以据此找到中序中根结点的位置`rootin`；\n",
    "2. 中序中根结点左边就是左子树结点，右边就是右子树结点，即`[左子树结点，根结点，右子树结点]`，我们就可以得出左子树结点个数为`int left = rootin - leftin;`；\n",
    "3. 前序中结点分布应该是：`[根结点，左子树结点，右子树结点]`；\n",
    "4. 根据前一步确定的左子树个数，可以确定前序中左子树结点和右子树结点的范围；\n",
    "5. 如果我们要前序遍历生成二叉树的话，下一层递归应该是：\n",
    "    - 左子树：`root->left = pre_order(前序左子树范围，中序左子树范围，前序序列，中序序列);`；\n",
    "    - 右子树：`root->right = pre_order(前序右子树范围，中序右子树范围，前序序列，中序序列);`。\n",
    "6. 每一层递归都要返回当前根结点`root`；\n"
   ]
  },
  {
   "cell_type": "code",
   "execution_count": 11,
   "metadata": {},
   "outputs": [
    {
     "name": "stdout",
     "output_type": "stream",
     "text": [
      "前序：\n",
      "[1, 2, 4, 7, 3, 5, 6, 8]\n",
      "中序：\n",
      "[4, 7, 2, 1, 5, 3, 8, 6]\n",
      "后序：\n",
      "[7, 4, 2, 5, 8, 6, 3, 1]\n"
     ]
    }
   ],
   "source": [
    "# Definition for a binary tree node.\n",
    "class TreeNode:\n",
    "    def __init__(self, x):\n",
    "        self.val = x\n",
    "        self.left = None\n",
    "        self.right = None\n",
    "\n",
    "class Solution:\n",
    "    def buildTree(self, preorder, inorder):\n",
    "        \"\"\"\n",
    "        :type preorder: List[int]\n",
    "        :type inorder: List[int]\n",
    "        :rtype: TreeNode\n",
    "        \"\"\"\n",
    "        if not preorder or not inorder:\n",
    "            return None\n",
    "        x = preorder.pop(0)\n",
    "        node = TreeNode(x)\n",
    "        idx = inorder.index(x)\n",
    "        \n",
    "        node.left = self.buildTree(preorder[:idx],inorder[:idx])\n",
    "        node.right = self.buildTree(preorder[idx:],inorder[idx+1:])\n",
    "        #返回二叉树根节点\n",
    "        return node\n",
    "\n",
    "#下面是打印前序、中序和后序\n",
    "def Preorder(root):\n",
    "    res = []\n",
    "    if root: #节点为None时，跳过\n",
    "        res.append(root.val)\n",
    "        res = res + Preorder(root.left)\n",
    "        res = res + Preorder(root.right)\n",
    "    return res\n",
    "\n",
    "def Inorder(root):\n",
    "    res = []\n",
    "    if root: #节点为None时，跳过\n",
    "        res = res + Inorder(root.left)\n",
    "        res.append(root.val)\n",
    "        res = res + Inorder(root.right)\n",
    "    return res\n",
    "\n",
    "def Postorder(root):\n",
    "    res = []\n",
    "    if root: #节点为None时，跳过\n",
    "        res += Postorder(root.left)\n",
    "        res += Postorder(root.right)\n",
    "        res.append(root.val)\n",
    "    return res\n",
    "    \n",
    "# 测试：\n",
    "solu = Solution()\n",
    "# preorder = [3,9,20,15,7]\n",
    "# inorder = [9,3,15,20,7]\n",
    "\n",
    "preorder = [1,2,4,7,3,5,6,8]\n",
    "inorder = [4,7,2,1,5,3,8,6]\n",
    "\n",
    "node = solu.buildTree(preorder, inorder)\n",
    "print(\"前序：\")\n",
    "print(Preorder(node))\n",
    "print(\"中序：\")\n",
    "print(Inorder(node))\n",
    "print(\"后序：\")\n",
    "print(Postorder(node))"
   ]
  },
  {
   "cell_type": "markdown",
   "metadata": {},
   "source": [
    "### 面试题7 用两个栈实现队列\n",
    "\n",
    "## 2.4 算法和数据操作\n",
    "\n",
    "### 面试题8 旋转数组的最小数字\n",
    "\n",
    "### 面试题9 斐波那契数列\n",
    "\n",
    "### 面试题10 二进制中1的个数"
   ]
  },
  {
   "cell_type": "code",
   "execution_count": null,
   "metadata": {
    "collapsed": false
   },
   "outputs": [],
   "source": []
  },
  {
   "cell_type": "code",
   "execution_count": null,
   "metadata": {
    "collapsed": false
   },
   "outputs": [],
   "source": []
  },
  {
   "cell_type": "code",
   "execution_count": null,
   "metadata": {
    "collapsed": false
   },
   "outputs": [],
   "source": []
  },
  {
   "cell_type": "code",
   "execution_count": null,
   "metadata": {
    "collapsed": false
   },
   "outputs": [],
   "source": []
  }
 ],
 "metadata": {
  "kernelspec": {
   "display_name": "Python 3",
   "language": "python",
   "name": "python3"
  },
  "language_info": {
   "codemirror_mode": {
    "name": "ipython",
    "version": 3
   },
   "file_extension": ".py",
   "mimetype": "text/x-python",
   "name": "python",
   "nbconvert_exporter": "python",
   "pygments_lexer": "ipython3",
   "version": "3.7.3"
  }
 },
 "nbformat": 4,
 "nbformat_minor": 2
}
